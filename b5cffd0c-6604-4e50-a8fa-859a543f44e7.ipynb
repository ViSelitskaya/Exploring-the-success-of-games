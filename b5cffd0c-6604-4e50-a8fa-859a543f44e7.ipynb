{
 "cells": [
  {
   "cell_type": "markdown",
   "metadata": {},
   "source": [
    "# Исследование закономерностей, определяющих успех игр для интернет-магазина \"Стримчик\""
   ]
  },
  {
   "cell_type": "markdown",
   "metadata": {},
   "source": [
    "В нашем распоряжении исторические данные из открытых источников о продажах игр, оценки пользователей и экспертов, жанры и платформы (например, Xbox или PlayStation). В процессе ислледования мы должны выявить закономерности, определяющие успех игр в интернет-магазине. Для этого мы проведем обзор данных, подготовим данные для исследование и проведем само исследование.\n",
    "\n",
    "В конце будет вывод, в котором собрана вся информация, извлеченная нами в процессе исследования."
   ]
  },
  {
   "cell_type": "markdown",
   "metadata": {},
   "source": [
    "## Обзор Данных"
   ]
  },
  {
   "cell_type": "code",
   "execution_count": 1,
   "metadata": {},
   "outputs": [],
   "source": [
    "import pandas as pd\n",
    "import matplotlib.pyplot as plt\n",
    "import math as mt\n",
    "from scipy import stats as st\n",
    "import numpy as np\n",
    "import seaborn as sns"
   ]
  },
  {
   "cell_type": "markdown",
   "metadata": {},
   "source": [
    "*Делаем обзор данных, для этого читаем таблицу и выводим на экран первые 10 строчек, чтоб иметь представление о таблице*"
   ]
  },
  {
   "cell_type": "code",
   "execution_count": 2,
   "metadata": {},
   "outputs": [],
   "source": [
    "pd.set_option('display.max_columns', None)\n",
    "games = pd.read_csv('/datasets/games.csv') #читаем таблицу"
   ]
  },
  {
   "cell_type": "code",
   "execution_count": 3,
   "metadata": {},
   "outputs": [
    {
     "data": {
      "text/html": [
       "<div>\n",
       "<style scoped>\n",
       "    .dataframe tbody tr th:only-of-type {\n",
       "        vertical-align: middle;\n",
       "    }\n",
       "\n",
       "    .dataframe tbody tr th {\n",
       "        vertical-align: top;\n",
       "    }\n",
       "\n",
       "    .dataframe thead th {\n",
       "        text-align: right;\n",
       "    }\n",
       "</style>\n",
       "<table border=\"1\" class=\"dataframe\">\n",
       "  <thead>\n",
       "    <tr style=\"text-align: right;\">\n",
       "      <th></th>\n",
       "      <th>Name</th>\n",
       "      <th>Platform</th>\n",
       "      <th>Year_of_Release</th>\n",
       "      <th>Genre</th>\n",
       "      <th>NA_sales</th>\n",
       "      <th>EU_sales</th>\n",
       "      <th>JP_sales</th>\n",
       "      <th>Other_sales</th>\n",
       "      <th>Critic_Score</th>\n",
       "      <th>User_Score</th>\n",
       "      <th>Rating</th>\n",
       "    </tr>\n",
       "  </thead>\n",
       "  <tbody>\n",
       "    <tr>\n",
       "      <th>0</th>\n",
       "      <td>Wii Sports</td>\n",
       "      <td>Wii</td>\n",
       "      <td>2006.0</td>\n",
       "      <td>Sports</td>\n",
       "      <td>41.36</td>\n",
       "      <td>28.96</td>\n",
       "      <td>3.77</td>\n",
       "      <td>8.45</td>\n",
       "      <td>76.0</td>\n",
       "      <td>8</td>\n",
       "      <td>E</td>\n",
       "    </tr>\n",
       "    <tr>\n",
       "      <th>1</th>\n",
       "      <td>Super Mario Bros.</td>\n",
       "      <td>NES</td>\n",
       "      <td>1985.0</td>\n",
       "      <td>Platform</td>\n",
       "      <td>29.08</td>\n",
       "      <td>3.58</td>\n",
       "      <td>6.81</td>\n",
       "      <td>0.77</td>\n",
       "      <td>NaN</td>\n",
       "      <td>NaN</td>\n",
       "      <td>NaN</td>\n",
       "    </tr>\n",
       "    <tr>\n",
       "      <th>2</th>\n",
       "      <td>Mario Kart Wii</td>\n",
       "      <td>Wii</td>\n",
       "      <td>2008.0</td>\n",
       "      <td>Racing</td>\n",
       "      <td>15.68</td>\n",
       "      <td>12.76</td>\n",
       "      <td>3.79</td>\n",
       "      <td>3.29</td>\n",
       "      <td>82.0</td>\n",
       "      <td>8.3</td>\n",
       "      <td>E</td>\n",
       "    </tr>\n",
       "    <tr>\n",
       "      <th>3</th>\n",
       "      <td>Wii Sports Resort</td>\n",
       "      <td>Wii</td>\n",
       "      <td>2009.0</td>\n",
       "      <td>Sports</td>\n",
       "      <td>15.61</td>\n",
       "      <td>10.93</td>\n",
       "      <td>3.28</td>\n",
       "      <td>2.95</td>\n",
       "      <td>80.0</td>\n",
       "      <td>8</td>\n",
       "      <td>E</td>\n",
       "    </tr>\n",
       "    <tr>\n",
       "      <th>4</th>\n",
       "      <td>Pokemon Red/Pokemon Blue</td>\n",
       "      <td>GB</td>\n",
       "      <td>1996.0</td>\n",
       "      <td>Role-Playing</td>\n",
       "      <td>11.27</td>\n",
       "      <td>8.89</td>\n",
       "      <td>10.22</td>\n",
       "      <td>1.00</td>\n",
       "      <td>NaN</td>\n",
       "      <td>NaN</td>\n",
       "      <td>NaN</td>\n",
       "    </tr>\n",
       "    <tr>\n",
       "      <th>5</th>\n",
       "      <td>Tetris</td>\n",
       "      <td>GB</td>\n",
       "      <td>1989.0</td>\n",
       "      <td>Puzzle</td>\n",
       "      <td>23.20</td>\n",
       "      <td>2.26</td>\n",
       "      <td>4.22</td>\n",
       "      <td>0.58</td>\n",
       "      <td>NaN</td>\n",
       "      <td>NaN</td>\n",
       "      <td>NaN</td>\n",
       "    </tr>\n",
       "    <tr>\n",
       "      <th>6</th>\n",
       "      <td>New Super Mario Bros.</td>\n",
       "      <td>DS</td>\n",
       "      <td>2006.0</td>\n",
       "      <td>Platform</td>\n",
       "      <td>11.28</td>\n",
       "      <td>9.14</td>\n",
       "      <td>6.50</td>\n",
       "      <td>2.88</td>\n",
       "      <td>89.0</td>\n",
       "      <td>8.5</td>\n",
       "      <td>E</td>\n",
       "    </tr>\n",
       "    <tr>\n",
       "      <th>7</th>\n",
       "      <td>Wii Play</td>\n",
       "      <td>Wii</td>\n",
       "      <td>2006.0</td>\n",
       "      <td>Misc</td>\n",
       "      <td>13.96</td>\n",
       "      <td>9.18</td>\n",
       "      <td>2.93</td>\n",
       "      <td>2.84</td>\n",
       "      <td>58.0</td>\n",
       "      <td>6.6</td>\n",
       "      <td>E</td>\n",
       "    </tr>\n",
       "    <tr>\n",
       "      <th>8</th>\n",
       "      <td>New Super Mario Bros. Wii</td>\n",
       "      <td>Wii</td>\n",
       "      <td>2009.0</td>\n",
       "      <td>Platform</td>\n",
       "      <td>14.44</td>\n",
       "      <td>6.94</td>\n",
       "      <td>4.70</td>\n",
       "      <td>2.24</td>\n",
       "      <td>87.0</td>\n",
       "      <td>8.4</td>\n",
       "      <td>E</td>\n",
       "    </tr>\n",
       "    <tr>\n",
       "      <th>9</th>\n",
       "      <td>Duck Hunt</td>\n",
       "      <td>NES</td>\n",
       "      <td>1984.0</td>\n",
       "      <td>Shooter</td>\n",
       "      <td>26.93</td>\n",
       "      <td>0.63</td>\n",
       "      <td>0.28</td>\n",
       "      <td>0.47</td>\n",
       "      <td>NaN</td>\n",
       "      <td>NaN</td>\n",
       "      <td>NaN</td>\n",
       "    </tr>\n",
       "  </tbody>\n",
       "</table>\n",
       "</div>"
      ],
      "text/plain": [
       "                        Name Platform  Year_of_Release         Genre  \\\n",
       "0                 Wii Sports      Wii           2006.0        Sports   \n",
       "1          Super Mario Bros.      NES           1985.0      Platform   \n",
       "2             Mario Kart Wii      Wii           2008.0        Racing   \n",
       "3          Wii Sports Resort      Wii           2009.0        Sports   \n",
       "4   Pokemon Red/Pokemon Blue       GB           1996.0  Role-Playing   \n",
       "5                     Tetris       GB           1989.0        Puzzle   \n",
       "6      New Super Mario Bros.       DS           2006.0      Platform   \n",
       "7                   Wii Play      Wii           2006.0          Misc   \n",
       "8  New Super Mario Bros. Wii      Wii           2009.0      Platform   \n",
       "9                  Duck Hunt      NES           1984.0       Shooter   \n",
       "\n",
       "   NA_sales  EU_sales  JP_sales  Other_sales  Critic_Score User_Score Rating  \n",
       "0     41.36     28.96      3.77         8.45          76.0          8      E  \n",
       "1     29.08      3.58      6.81         0.77           NaN        NaN    NaN  \n",
       "2     15.68     12.76      3.79         3.29          82.0        8.3      E  \n",
       "3     15.61     10.93      3.28         2.95          80.0          8      E  \n",
       "4     11.27      8.89     10.22         1.00           NaN        NaN    NaN  \n",
       "5     23.20      2.26      4.22         0.58           NaN        NaN    NaN  \n",
       "6     11.28      9.14      6.50         2.88          89.0        8.5      E  \n",
       "7     13.96      9.18      2.93         2.84          58.0        6.6      E  \n",
       "8     14.44      6.94      4.70         2.24          87.0        8.4      E  \n",
       "9     26.93      0.63      0.28         0.47           NaN        NaN    NaN  "
      ]
     },
     "execution_count": 3,
     "metadata": {},
     "output_type": "execute_result"
    }
   ],
   "source": [
    "games.head(10) #выводим на экран первые 10 строк"
   ]
  },
  {
   "cell_type": "markdown",
   "metadata": {},
   "source": [
    "*С помощью метода info() получаем информацию о количестве столбцов, строк и типах данных.*"
   ]
  },
  {
   "cell_type": "code",
   "execution_count": 4,
   "metadata": {},
   "outputs": [
    {
     "name": "stdout",
     "output_type": "stream",
     "text": [
      "<class 'pandas.core.frame.DataFrame'>\n",
      "RangeIndex: 16715 entries, 0 to 16714\n",
      "Data columns (total 11 columns):\n",
      " #   Column           Non-Null Count  Dtype  \n",
      "---  ------           --------------  -----  \n",
      " 0   Name             16713 non-null  object \n",
      " 1   Platform         16715 non-null  object \n",
      " 2   Year_of_Release  16446 non-null  float64\n",
      " 3   Genre            16713 non-null  object \n",
      " 4   NA_sales         16715 non-null  float64\n",
      " 5   EU_sales         16715 non-null  float64\n",
      " 6   JP_sales         16715 non-null  float64\n",
      " 7   Other_sales      16715 non-null  float64\n",
      " 8   Critic_Score     8137 non-null   float64\n",
      " 9   User_Score       10014 non-null  object \n",
      " 10  Rating           9949 non-null   object \n",
      "dtypes: float64(6), object(5)\n",
      "memory usage: 1.4+ MB\n"
     ]
    }
   ],
   "source": [
    "games.info() #получаем информацию о таблице"
   ]
  },
  {
   "cell_type": "markdown",
   "metadata": {},
   "source": [
    "*В таблице мы видим 11 столбцов и 16715 строк. В типах данных столбцов представлены строковые значения и значения с плавающей точкой.*\n",
    "\n",
    "*Названия столбцов оформлены немного некорректно, требуется привести их к одному регистру. Типы данных в двух столбцах установлены неверно. Конкретно, в столбце год релиза и пользовательские оценки. Все это мы исправим далее, в разделе предобработка данных.*"
   ]
  },
  {
   "cell_type": "markdown",
   "metadata": {},
   "source": [
    "## Предобработка данных"
   ]
  },
  {
   "cell_type": "markdown",
   "metadata": {},
   "source": [
    "### Смена названий столбцов и проверка на наличие дубликатов"
   ]
  },
  {
   "cell_type": "markdown",
   "metadata": {},
   "source": [
    "*После обзора данных сразу видно, что наименования столбцов требуется изменить на корректные, то есть привести все буквы к единому регистру.*"
   ]
  },
  {
   "cell_type": "code",
   "execution_count": 5,
   "metadata": {},
   "outputs": [],
   "source": [
    "games.columns = games.columns.str.lower() #приводим названия к нижнему регистру"
   ]
  },
  {
   "cell_type": "code",
   "execution_count": 6,
   "metadata": {},
   "outputs": [
    {
     "name": "stdout",
     "output_type": "stream",
     "text": [
      "<class 'pandas.core.frame.DataFrame'>\n",
      "RangeIndex: 16715 entries, 0 to 16714\n",
      "Data columns (total 11 columns):\n",
      " #   Column           Non-Null Count  Dtype  \n",
      "---  ------           --------------  -----  \n",
      " 0   name             16713 non-null  object \n",
      " 1   platform         16715 non-null  object \n",
      " 2   year_of_release  16446 non-null  float64\n",
      " 3   genre            16713 non-null  object \n",
      " 4   na_sales         16715 non-null  float64\n",
      " 5   eu_sales         16715 non-null  float64\n",
      " 6   jp_sales         16715 non-null  float64\n",
      " 7   other_sales      16715 non-null  float64\n",
      " 8   critic_score     8137 non-null   float64\n",
      " 9   user_score       10014 non-null  object \n",
      " 10  rating           9949 non-null   object \n",
      "dtypes: float64(6), object(5)\n",
      "memory usage: 1.4+ MB\n"
     ]
    }
   ],
   "source": [
    "games.info() #проверяем изменения"
   ]
  },
  {
   "cell_type": "code",
   "execution_count": 7,
   "metadata": {},
   "outputs": [
    {
     "data": {
      "text/plain": [
       "0"
      ]
     },
     "execution_count": 7,
     "metadata": {},
     "output_type": "execute_result"
    }
   ],
   "source": [
    "games.duplicated().sum() #проверка на наличие дубликатов"
   ]
  },
  {
   "cell_type": "markdown",
   "metadata": {},
   "source": [
    "*Дубликатов не обнаружено*"
   ]
  },
  {
   "cell_type": "markdown",
   "metadata": {},
   "source": [
    "### Типы данных"
   ]
  },
  {
   "cell_type": "markdown",
   "metadata": {},
   "source": [
    "*Теперь пришло время изменить типы данных. Изменений требует столбец year_of_release на тип данных datetime и столбец user_score на тип данных float, так же. В столбце user_score есть аббревиатура tbd, она означет, что оценка еще не определена, поэтому при приведение к единому типу данных используем параметр errors = 'coerce', который принудительно изменит tbd на NaN, чтобы можно было полноценно использовать данные из столбца.*"
   ]
  },
  {
   "cell_type": "code",
   "execution_count": 8,
   "metadata": {},
   "outputs": [],
   "source": [
    "games['year_of_release'] = pd.to_datetime(games['year_of_release'], format = '%Y') #меняем типа данных года на корректный"
   ]
  },
  {
   "cell_type": "code",
   "execution_count": 9,
   "metadata": {},
   "outputs": [],
   "source": [
    "games['user_score'] = pd.to_numeric(games['user_score'], errors = 'coerce') #меняем тип данных на корректный"
   ]
  },
  {
   "cell_type": "code",
   "execution_count": 10,
   "metadata": {},
   "outputs": [
    {
     "name": "stdout",
     "output_type": "stream",
     "text": [
      "<class 'pandas.core.frame.DataFrame'>\n",
      "RangeIndex: 16715 entries, 0 to 16714\n",
      "Data columns (total 11 columns):\n",
      " #   Column           Non-Null Count  Dtype         \n",
      "---  ------           --------------  -----         \n",
      " 0   name             16713 non-null  object        \n",
      " 1   platform         16715 non-null  object        \n",
      " 2   year_of_release  16446 non-null  datetime64[ns]\n",
      " 3   genre            16713 non-null  object        \n",
      " 4   na_sales         16715 non-null  float64       \n",
      " 5   eu_sales         16715 non-null  float64       \n",
      " 6   jp_sales         16715 non-null  float64       \n",
      " 7   other_sales      16715 non-null  float64       \n",
      " 8   critic_score     8137 non-null   float64       \n",
      " 9   user_score       7590 non-null   float64       \n",
      " 10  rating           9949 non-null   object        \n",
      "dtypes: datetime64[ns](1), float64(6), object(4)\n",
      "memory usage: 1.4+ MB\n"
     ]
    }
   ],
   "source": [
    "games.info() #проверяем изменения"
   ]
  },
  {
   "cell_type": "markdown",
   "metadata": {},
   "source": [
    "### Обработка пропусков"
   ]
  },
  {
   "cell_type": "code",
   "execution_count": 11,
   "metadata": {},
   "outputs": [
    {
     "data": {
      "text/plain": [
       "name                  2\n",
       "platform              0\n",
       "year_of_release     269\n",
       "genre                 2\n",
       "na_sales              0\n",
       "eu_sales              0\n",
       "jp_sales              0\n",
       "other_sales           0\n",
       "critic_score       8578\n",
       "user_score         9125\n",
       "rating             6766\n",
       "dtype: int64"
      ]
     },
     "execution_count": 11,
     "metadata": {},
     "output_type": "execute_result"
    }
   ],
   "source": [
    "games.isna().sum() #проверяем где именно есть пропуски"
   ]
  },
  {
   "cell_type": "markdown",
   "metadata": {},
   "source": [
    "*Пропуски есть в шести столбцах. В стобце названия пропуски следует удалить, их всего два и без имени анализ данных из этих строк теряет смысл.*\n",
    "\n",
    "*В столбце жанр два пропуска, их следует удалить.*\n",
    "\n",
    "*В столбце с датой релиза 269 пропусков это не много, их так же удаляем, так как год один из параметров, который будет использоваться во время анализа, здесь его использовать не можем.*\n",
    "\n",
    "*Оценки критиков и пользователей, рейтинг оставляем как есть, так как помимо оценок в каждой строке еще много важных параметров, а заменять средним некорректно.*"
   ]
  },
  {
   "cell_type": "code",
   "execution_count": 12,
   "metadata": {},
   "outputs": [],
   "source": [
    "games = games.dropna(subset = ['name', 'year_of_release', 'genre']) #удаление строк с пустыми значениями"
   ]
  },
  {
   "cell_type": "code",
   "execution_count": 13,
   "metadata": {},
   "outputs": [
    {
     "data": {
      "text/plain": [
       "name                  0\n",
       "platform              0\n",
       "year_of_release       0\n",
       "genre                 0\n",
       "na_sales              0\n",
       "eu_sales              0\n",
       "jp_sales              0\n",
       "other_sales           0\n",
       "critic_score       8461\n",
       "user_score         8981\n",
       "rating             6676\n",
       "dtype: int64"
      ]
     },
     "execution_count": 13,
     "metadata": {},
     "output_type": "execute_result"
    }
   ],
   "source": [
    "games.isna().sum()"
   ]
  },
  {
   "cell_type": "markdown",
   "metadata": {},
   "source": [
    "### Подсчет суммы продаж по каждому региону"
   ]
  },
  {
   "cell_type": "markdown",
   "metadata": {},
   "source": [
    "*Данные привели впорядок, теперь создадим стобец с суммой продаж для каждой игры.*"
   ]
  },
  {
   "cell_type": "code",
   "execution_count": 14,
   "metadata": {},
   "outputs": [
    {
     "data": {
      "text/html": [
       "<div>\n",
       "<style scoped>\n",
       "    .dataframe tbody tr th:only-of-type {\n",
       "        vertical-align: middle;\n",
       "    }\n",
       "\n",
       "    .dataframe tbody tr th {\n",
       "        vertical-align: top;\n",
       "    }\n",
       "\n",
       "    .dataframe thead th {\n",
       "        text-align: right;\n",
       "    }\n",
       "</style>\n",
       "<table border=\"1\" class=\"dataframe\">\n",
       "  <thead>\n",
       "    <tr style=\"text-align: right;\">\n",
       "      <th></th>\n",
       "      <th>name</th>\n",
       "      <th>platform</th>\n",
       "      <th>year_of_release</th>\n",
       "      <th>genre</th>\n",
       "      <th>na_sales</th>\n",
       "      <th>eu_sales</th>\n",
       "      <th>jp_sales</th>\n",
       "      <th>other_sales</th>\n",
       "      <th>critic_score</th>\n",
       "      <th>user_score</th>\n",
       "      <th>rating</th>\n",
       "      <th>all_sales</th>\n",
       "    </tr>\n",
       "  </thead>\n",
       "  <tbody>\n",
       "    <tr>\n",
       "      <th>0</th>\n",
       "      <td>Wii Sports</td>\n",
       "      <td>Wii</td>\n",
       "      <td>2006-01-01</td>\n",
       "      <td>Sports</td>\n",
       "      <td>41.36</td>\n",
       "      <td>28.96</td>\n",
       "      <td>3.77</td>\n",
       "      <td>8.45</td>\n",
       "      <td>76.0</td>\n",
       "      <td>8.0</td>\n",
       "      <td>E</td>\n",
       "      <td>82.54</td>\n",
       "    </tr>\n",
       "    <tr>\n",
       "      <th>1</th>\n",
       "      <td>Super Mario Bros.</td>\n",
       "      <td>NES</td>\n",
       "      <td>1985-01-01</td>\n",
       "      <td>Platform</td>\n",
       "      <td>29.08</td>\n",
       "      <td>3.58</td>\n",
       "      <td>6.81</td>\n",
       "      <td>0.77</td>\n",
       "      <td>NaN</td>\n",
       "      <td>NaN</td>\n",
       "      <td>NaN</td>\n",
       "      <td>40.24</td>\n",
       "    </tr>\n",
       "    <tr>\n",
       "      <th>2</th>\n",
       "      <td>Mario Kart Wii</td>\n",
       "      <td>Wii</td>\n",
       "      <td>2008-01-01</td>\n",
       "      <td>Racing</td>\n",
       "      <td>15.68</td>\n",
       "      <td>12.76</td>\n",
       "      <td>3.79</td>\n",
       "      <td>3.29</td>\n",
       "      <td>82.0</td>\n",
       "      <td>8.3</td>\n",
       "      <td>E</td>\n",
       "      <td>35.52</td>\n",
       "    </tr>\n",
       "    <tr>\n",
       "      <th>3</th>\n",
       "      <td>Wii Sports Resort</td>\n",
       "      <td>Wii</td>\n",
       "      <td>2009-01-01</td>\n",
       "      <td>Sports</td>\n",
       "      <td>15.61</td>\n",
       "      <td>10.93</td>\n",
       "      <td>3.28</td>\n",
       "      <td>2.95</td>\n",
       "      <td>80.0</td>\n",
       "      <td>8.0</td>\n",
       "      <td>E</td>\n",
       "      <td>32.77</td>\n",
       "    </tr>\n",
       "    <tr>\n",
       "      <th>4</th>\n",
       "      <td>Pokemon Red/Pokemon Blue</td>\n",
       "      <td>GB</td>\n",
       "      <td>1996-01-01</td>\n",
       "      <td>Role-Playing</td>\n",
       "      <td>11.27</td>\n",
       "      <td>8.89</td>\n",
       "      <td>10.22</td>\n",
       "      <td>1.00</td>\n",
       "      <td>NaN</td>\n",
       "      <td>NaN</td>\n",
       "      <td>NaN</td>\n",
       "      <td>31.38</td>\n",
       "    </tr>\n",
       "    <tr>\n",
       "      <th>5</th>\n",
       "      <td>Tetris</td>\n",
       "      <td>GB</td>\n",
       "      <td>1989-01-01</td>\n",
       "      <td>Puzzle</td>\n",
       "      <td>23.20</td>\n",
       "      <td>2.26</td>\n",
       "      <td>4.22</td>\n",
       "      <td>0.58</td>\n",
       "      <td>NaN</td>\n",
       "      <td>NaN</td>\n",
       "      <td>NaN</td>\n",
       "      <td>30.26</td>\n",
       "    </tr>\n",
       "    <tr>\n",
       "      <th>6</th>\n",
       "      <td>New Super Mario Bros.</td>\n",
       "      <td>DS</td>\n",
       "      <td>2006-01-01</td>\n",
       "      <td>Platform</td>\n",
       "      <td>11.28</td>\n",
       "      <td>9.14</td>\n",
       "      <td>6.50</td>\n",
       "      <td>2.88</td>\n",
       "      <td>89.0</td>\n",
       "      <td>8.5</td>\n",
       "      <td>E</td>\n",
       "      <td>29.80</td>\n",
       "    </tr>\n",
       "    <tr>\n",
       "      <th>7</th>\n",
       "      <td>Wii Play</td>\n",
       "      <td>Wii</td>\n",
       "      <td>2006-01-01</td>\n",
       "      <td>Misc</td>\n",
       "      <td>13.96</td>\n",
       "      <td>9.18</td>\n",
       "      <td>2.93</td>\n",
       "      <td>2.84</td>\n",
       "      <td>58.0</td>\n",
       "      <td>6.6</td>\n",
       "      <td>E</td>\n",
       "      <td>28.91</td>\n",
       "    </tr>\n",
       "    <tr>\n",
       "      <th>8</th>\n",
       "      <td>New Super Mario Bros. Wii</td>\n",
       "      <td>Wii</td>\n",
       "      <td>2009-01-01</td>\n",
       "      <td>Platform</td>\n",
       "      <td>14.44</td>\n",
       "      <td>6.94</td>\n",
       "      <td>4.70</td>\n",
       "      <td>2.24</td>\n",
       "      <td>87.0</td>\n",
       "      <td>8.4</td>\n",
       "      <td>E</td>\n",
       "      <td>28.32</td>\n",
       "    </tr>\n",
       "    <tr>\n",
       "      <th>9</th>\n",
       "      <td>Duck Hunt</td>\n",
       "      <td>NES</td>\n",
       "      <td>1984-01-01</td>\n",
       "      <td>Shooter</td>\n",
       "      <td>26.93</td>\n",
       "      <td>0.63</td>\n",
       "      <td>0.28</td>\n",
       "      <td>0.47</td>\n",
       "      <td>NaN</td>\n",
       "      <td>NaN</td>\n",
       "      <td>NaN</td>\n",
       "      <td>28.31</td>\n",
       "    </tr>\n",
       "  </tbody>\n",
       "</table>\n",
       "</div>"
      ],
      "text/plain": [
       "                        name platform year_of_release         genre  na_sales  \\\n",
       "0                 Wii Sports      Wii      2006-01-01        Sports     41.36   \n",
       "1          Super Mario Bros.      NES      1985-01-01      Platform     29.08   \n",
       "2             Mario Kart Wii      Wii      2008-01-01        Racing     15.68   \n",
       "3          Wii Sports Resort      Wii      2009-01-01        Sports     15.61   \n",
       "4   Pokemon Red/Pokemon Blue       GB      1996-01-01  Role-Playing     11.27   \n",
       "5                     Tetris       GB      1989-01-01        Puzzle     23.20   \n",
       "6      New Super Mario Bros.       DS      2006-01-01      Platform     11.28   \n",
       "7                   Wii Play      Wii      2006-01-01          Misc     13.96   \n",
       "8  New Super Mario Bros. Wii      Wii      2009-01-01      Platform     14.44   \n",
       "9                  Duck Hunt      NES      1984-01-01       Shooter     26.93   \n",
       "\n",
       "   eu_sales  jp_sales  other_sales  critic_score  user_score rating  all_sales  \n",
       "0     28.96      3.77         8.45          76.0         8.0      E      82.54  \n",
       "1      3.58      6.81         0.77           NaN         NaN    NaN      40.24  \n",
       "2     12.76      3.79         3.29          82.0         8.3      E      35.52  \n",
       "3     10.93      3.28         2.95          80.0         8.0      E      32.77  \n",
       "4      8.89     10.22         1.00           NaN         NaN    NaN      31.38  \n",
       "5      2.26      4.22         0.58           NaN         NaN    NaN      30.26  \n",
       "6      9.14      6.50         2.88          89.0         8.5      E      29.80  \n",
       "7      9.18      2.93         2.84          58.0         6.6      E      28.91  \n",
       "8      6.94      4.70         2.24          87.0         8.4      E      28.32  \n",
       "9      0.63      0.28         0.47           NaN         NaN    NaN      28.31  "
      ]
     },
     "execution_count": 14,
     "metadata": {},
     "output_type": "execute_result"
    }
   ],
   "source": [
    "games['all_sales'] = games[['na_sales', 'eu_sales','jp_sales','other_sales']].apply('sum', axis = 1).astype('float') #считаем сумму\n",
    "games.head(10) #проверяем результат"
   ]
  },
  {
   "cell_type": "markdown",
   "metadata": {},
   "source": [
    "## Исследовательский анализ данных"
   ]
  },
  {
   "cell_type": "markdown",
   "metadata": {},
   "source": [
    "### Сколько игр выпускалось каждый год?"
   ]
  },
  {
   "cell_type": "code",
   "execution_count": 15,
   "metadata": {},
   "outputs": [
    {
     "data": {
      "text/plain": [
       "year_of_release\n",
       "1980-01-01       9\n",
       "1981-01-01      46\n",
       "1982-01-01      36\n",
       "1983-01-01      17\n",
       "1984-01-01      14\n",
       "1985-01-01      14\n",
       "1986-01-01      21\n",
       "1987-01-01      16\n",
       "1988-01-01      15\n",
       "1989-01-01      17\n",
       "1990-01-01      16\n",
       "1991-01-01      41\n",
       "1992-01-01      43\n",
       "1993-01-01      60\n",
       "1994-01-01     121\n",
       "1995-01-01     219\n",
       "1996-01-01     263\n",
       "1997-01-01     289\n",
       "1998-01-01     379\n",
       "1999-01-01     338\n",
       "2000-01-01     350\n",
       "2001-01-01     482\n",
       "2002-01-01     829\n",
       "2003-01-01     775\n",
       "2004-01-01     762\n",
       "2005-01-01     939\n",
       "2006-01-01    1006\n",
       "2007-01-01    1197\n",
       "2008-01-01    1427\n",
       "2009-01-01    1426\n",
       "2010-01-01    1255\n",
       "2011-01-01    1136\n",
       "2012-01-01     653\n",
       "2013-01-01     544\n",
       "2014-01-01     581\n",
       "2015-01-01     606\n",
       "2016-01-01     502\n",
       "Name: name, dtype: int64"
      ]
     },
     "execution_count": 15,
     "metadata": {},
     "output_type": "execute_result"
    }
   ],
   "source": [
    "games_count_years = games.groupby('year_of_release')['name'].count() #выясняем количество игр, выпускаемых каждый год\n",
    "games_count_years"
   ]
  },
  {
   "cell_type": "code",
   "execution_count": 16,
   "metadata": {},
   "outputs": [
    {
     "data": {
      "text/plain": [
       "<AxesSubplot:xlabel='year_of_release'>"
      ]
     },
     "execution_count": 16,
     "metadata": {},
     "output_type": "execute_result"
    },
    {
     "data": {
      "image/png": "[encoded data removed]",
      "text/plain": [
       "<Figure size 720x360 with 1 Axes>"
      ]
     },
     "metadata": {
      "needs_background": "light"
     },
     "output_type": "display_data"
    }
   ],
   "source": [
    "games_count_years.plot(figsize = (10,5)) #строим график для наглядности"
   ]
  },
  {
   "cell_type": "markdown",
   "metadata": {},
   "source": [
    "*Если судить по цифрам и по графику, то самым урожайным на игры был период с 2005 по 2011 год. Но нам нужно выявить закономерности для планирования на 2017 год, то есть правильно будет взять данные за последние 5 лет, в этот период наблюдается сильный спад, выпускают около 50% от того, что производилось до 2012 года.*"
   ]
  },
  {
   "cell_type": "code",
   "execution_count": 17,
   "metadata": {},
   "outputs": [
    {
     "data": {
      "text/plain": [
       "<AxesSubplot:xlabel='platform'>"
      ]
     },
     "execution_count": 17,
     "metadata": {},
     "output_type": "execute_result"
    },
    {
     "data": {
      "image/png": "[encoded data removed]",
      "text/plain": [
       "<Figure size 720x360 with 1 Axes>"
      ]
     },
     "metadata": {
      "needs_background": "light"
     },
     "output_type": "display_data"
    }
   ],
   "source": [
    "platform_sales=games.groupby('platform')['all_sales'].sum().sort_values(ascending=False)\n",
    "platform_sales.plot.bar(x='platform',y='all_sales',alpha=0.5,color='brown',figsize=(10,5))"
   ]
  },
  {
   "cell_type": "code",
   "execution_count": 18,
   "metadata": {},
   "outputs": [
    {
     "data": {
      "text/plain": [
       "<AxesSubplot:xlabel='platform', ylabel='year_of_release'>"
      ]
     },
     "execution_count": 18,
     "metadata": {},
     "output_type": "execute_result"
    },
    {
     "data": {
      "image/png": "[encoded data removed]",
      "text/plain": [
       "<Figure size 1080x1080 with 2 Axes>"
      ]
     },
     "metadata": {
      "needs_background": "light"
     },
     "output_type": "display_data"
    }
   ],
   "source": [
    "platform_sales = games.pivot_table(index='year_of_release', columns='platform', values='all_sales', aggfunc='sum') #сводная таблица для выяснения распределения суммарных продаж по годам \n",
    "ax = plt.subplots(figsize=(15, 15)) #размеры тепловой карты\n",
    "sns.heatmap(data=platform_sales) #тепловая карта"
   ]
  },
  {
   "cell_type": "markdown",
   "metadata": {},
   "source": [
    "*Наибольшие суммарные продажи за весь период были у шести платформ, это видно на круговой диаграмме. По тепловой карте видно, что новые платформы возникают постоянно, а старые исчезают в среднем за восемь лет.*"
   ]
  },
  {
   "cell_type": "markdown",
   "metadata": {},
   "source": [
    "### Исследование актуального периода с 2012 по 2016 год"
   ]
  },
  {
   "cell_type": "markdown",
   "metadata": {},
   "source": [
    "*Для исследования берем данные за последние 3 года, изначально была мысль взять данные за последние 5 лет, но после построения тепловой карты стало ясно, что некоторые платформы, приносившие большие продажи уже не существуют с 2013,2012 года. А их показатели могли повлиять на ход исследования и привести к некорректным выводам.*"
   ]
  },
  {
   "cell_type": "markdown",
   "metadata": {},
   "source": [
    "<!-- *Для исследования берем данные за последние 5 лет* -->"
   ]
  },
  {
   "cell_type": "code",
   "execution_count": 19,
   "metadata": {},
   "outputs": [
    {
     "data": {
      "text/html": [
       "<div>\n",
       "<style scoped>\n",
       "    .dataframe tbody tr th:only-of-type {\n",
       "        vertical-align: middle;\n",
       "    }\n",
       "\n",
       "    .dataframe tbody tr th {\n",
       "        vertical-align: top;\n",
       "    }\n",
       "\n",
       "    .dataframe thead th {\n",
       "        text-align: right;\n",
       "    }\n",
       "</style>\n",
       "<table border=\"1\" class=\"dataframe\">\n",
       "  <thead>\n",
       "    <tr style=\"text-align: right;\">\n",
       "      <th></th>\n",
       "      <th>index</th>\n",
       "      <th>name</th>\n",
       "      <th>platform</th>\n",
       "      <th>year_of_release</th>\n",
       "      <th>genre</th>\n",
       "      <th>na_sales</th>\n",
       "      <th>eu_sales</th>\n",
       "      <th>jp_sales</th>\n",
       "      <th>other_sales</th>\n",
       "      <th>critic_score</th>\n",
       "      <th>user_score</th>\n",
       "      <th>rating</th>\n",
       "      <th>all_sales</th>\n",
       "    </tr>\n",
       "  </thead>\n",
       "  <tbody>\n",
       "    <tr>\n",
       "      <th>0</th>\n",
       "      <td>31</td>\n",
       "      <td>Call of Duty: Black Ops 3</td>\n",
       "      <td>PS4</td>\n",
       "      <td>2015-01-01</td>\n",
       "      <td>Shooter</td>\n",
       "      <td>6.03</td>\n",
       "      <td>5.86</td>\n",
       "      <td>0.36</td>\n",
       "      <td>2.38</td>\n",
       "      <td>NaN</td>\n",
       "      <td>NaN</td>\n",
       "      <td>NaN</td>\n",
       "      <td>14.63</td>\n",
       "    </tr>\n",
       "    <tr>\n",
       "      <th>1</th>\n",
       "      <td>42</td>\n",
       "      <td>Grand Theft Auto V</td>\n",
       "      <td>PS4</td>\n",
       "      <td>2014-01-01</td>\n",
       "      <td>Action</td>\n",
       "      <td>3.96</td>\n",
       "      <td>6.31</td>\n",
       "      <td>0.38</td>\n",
       "      <td>1.97</td>\n",
       "      <td>97.0</td>\n",
       "      <td>8.3</td>\n",
       "      <td>M</td>\n",
       "      <td>12.62</td>\n",
       "    </tr>\n",
       "    <tr>\n",
       "      <th>2</th>\n",
       "      <td>47</td>\n",
       "      <td>Pokemon Omega Ruby/Pokemon Alpha Sapphire</td>\n",
       "      <td>3DS</td>\n",
       "      <td>2014-01-01</td>\n",
       "      <td>Role-Playing</td>\n",
       "      <td>4.35</td>\n",
       "      <td>3.49</td>\n",
       "      <td>3.10</td>\n",
       "      <td>0.74</td>\n",
       "      <td>NaN</td>\n",
       "      <td>NaN</td>\n",
       "      <td>NaN</td>\n",
       "      <td>11.68</td>\n",
       "    </tr>\n",
       "    <tr>\n",
       "      <th>3</th>\n",
       "      <td>77</td>\n",
       "      <td>FIFA 16</td>\n",
       "      <td>PS4</td>\n",
       "      <td>2015-01-01</td>\n",
       "      <td>Sports</td>\n",
       "      <td>1.12</td>\n",
       "      <td>6.12</td>\n",
       "      <td>0.06</td>\n",
       "      <td>1.28</td>\n",
       "      <td>82.0</td>\n",
       "      <td>4.3</td>\n",
       "      <td>E</td>\n",
       "      <td>8.58</td>\n",
       "    </tr>\n",
       "    <tr>\n",
       "      <th>4</th>\n",
       "      <td>87</td>\n",
       "      <td>Star Wars Battlefront (2015)</td>\n",
       "      <td>PS4</td>\n",
       "      <td>2015-01-01</td>\n",
       "      <td>Shooter</td>\n",
       "      <td>2.99</td>\n",
       "      <td>3.49</td>\n",
       "      <td>0.22</td>\n",
       "      <td>1.28</td>\n",
       "      <td>NaN</td>\n",
       "      <td>NaN</td>\n",
       "      <td>NaN</td>\n",
       "      <td>7.98</td>\n",
       "    </tr>\n",
       "  </tbody>\n",
       "</table>\n",
       "</div>"
      ],
      "text/plain": [
       "   index                                       name platform year_of_release  \\\n",
       "0     31                  Call of Duty: Black Ops 3      PS4      2015-01-01   \n",
       "1     42                         Grand Theft Auto V      PS4      2014-01-01   \n",
       "2     47  Pokemon Omega Ruby/Pokemon Alpha Sapphire      3DS      2014-01-01   \n",
       "3     77                                    FIFA 16      PS4      2015-01-01   \n",
       "4     87               Star Wars Battlefront (2015)      PS4      2015-01-01   \n",
       "\n",
       "          genre  na_sales  eu_sales  jp_sales  other_sales  critic_score  \\\n",
       "0       Shooter      6.03      5.86      0.36         2.38           NaN   \n",
       "1        Action      3.96      6.31      0.38         1.97          97.0   \n",
       "2  Role-Playing      4.35      3.49      3.10         0.74           NaN   \n",
       "3        Sports      1.12      6.12      0.06         1.28          82.0   \n",
       "4       Shooter      2.99      3.49      0.22         1.28           NaN   \n",
       "\n",
       "   user_score rating  all_sales  \n",
       "0         NaN    NaN      14.63  \n",
       "1         8.3      M      12.62  \n",
       "2         NaN    NaN      11.68  \n",
       "3         4.3      E       8.58  \n",
       "4         NaN    NaN       7.98  "
      ]
     },
     "execution_count": 19,
     "metadata": {},
     "output_type": "execute_result"
    }
   ],
   "source": [
    "games = games.query('year_of_release > 2013') #берем срез данных за посоледние 5 лет и перезаписываем его, так как старый датафрейм больше не понадобится\n",
    "games.reset_index(inplace = True)\n",
    "games.head() #проверяем результат"
   ]
  },
  {
   "cell_type": "markdown",
   "metadata": {},
   "source": [
    "*Проверяем как вели себя платформы в этот период, выделяем несколько потенциально прибыльных платформ.*"
   ]
  },
  {
   "cell_type": "code",
   "execution_count": 20,
   "metadata": {},
   "outputs": [],
   "source": [
    "games_actual = games.pivot_table(index='year_of_release', columns='platform', values='all_sales', aggfunc='sum').fillna(0)\n",
    "#Создаем сводную таблицу по году и продажам для платформ"
   ]
  },
  {
   "cell_type": "code",
   "execution_count": 21,
   "metadata": {},
   "outputs": [
    {
     "data": {
      "text/plain": [
       "<AxesSubplot:xlabel='platform', ylabel='year_of_release'>"
      ]
     },
     "execution_count": 21,
     "metadata": {},
     "output_type": "execute_result"
    },
    {
     "data": {
      "image/png": "[encoded data removed]",
      "text/plain": [
       "<Figure size 432x288 with 2 Axes>"
      ]
     },
     "metadata": {
      "needs_background": "light"
     },
     "output_type": "display_data"
    }
   ],
   "source": [
    "sns.heatmap(data=games_actual,annot=True) #тепловая карта"
   ]
  },
  {
   "cell_type": "markdown",
   "metadata": {},
   "source": [
    "*С 2014 года все платформы показывают падение в продажах. Если падение продаж PS3, PSV и X360 очевидно вызвано выпуском PS4 и XOne, то как обяснить падение продаж у самих PS4 и Xone? Возможно это работа для социологов. Нам же надо выяснить для каких платформ, в дальнейшем будем называть их консолями, игры продаются успешней всего. И какие именно это игры.*"
   ]
  },
  {
   "cell_type": "markdown",
   "metadata": {},
   "source": [
    "### Диаграмма размаха"
   ]
  },
  {
   "cell_type": "code",
   "execution_count": 22,
   "metadata": {
    "scrolled": true
   },
   "outputs": [
    {
     "data": {
      "text/plain": [
       "(0.0, 2.0)"
      ]
     },
     "execution_count": 22,
     "metadata": {},
     "output_type": "execute_result"
    },
    {
     "data": {
      "image/png": "[encoded data removed]",
      "text/plain": [
       "<Figure size 1080x720 with 1 Axes>"
      ]
     },
     "metadata": {
      "needs_background": "light"
     },
     "output_type": "display_data"
    }
   ],
   "source": [
    "games.boxplot('all_sales',by='platform',vert=False,figsize=(15, 10))\n",
    "plt.xlim(0,2)"
   ]
  },
  {
   "cell_type": "markdown",
   "metadata": {},
   "source": [
    "*Выбросов, судя по графику нет. Самыми преуспевающими в продажах оказались консоли PS4, XOne, 3DS, X360 и PS3. Так же, судя по выбросам, самые продаваемые игры выходили на платформах, которые вошли в топ-5.*"
   ]
  },
  {
   "cell_type": "markdown",
   "metadata": {},
   "source": [
    "### Изучаем оценки"
   ]
  },
  {
   "cell_type": "markdown",
   "metadata": {},
   "source": [
    "*Проверим как влияют на продажи отзывы пользователей для консоли PS4*"
   ]
  },
  {
   "cell_type": "code",
   "execution_count": 23,
   "metadata": {},
   "outputs": [
    {
     "data": {
      "text/plain": [
       "-0.040131589472697356"
      ]
     },
     "metadata": {},
     "output_type": "display_data"
    },
    {
     "data": {
      "text/plain": [
       "<AxesSubplot:xlabel='user_score', ylabel='all_sales'>"
      ]
     },
     "execution_count": 23,
     "metadata": {},
     "output_type": "execute_result"
    },
    {
     "data": {
      "image/png": "[encoded data removed]",
      "text/plain": [
       "<Figure size 1080x360 with 1 Axes>"
      ]
     },
     "metadata": {
      "needs_background": "light"
     },
     "output_type": "display_data"
    }
   ],
   "source": [
    "games_ps4 = games.query('platform == \"PS4\"') #получаем срез по консоли\n",
    "display(games_ps4['user_score'].corr(games_ps4['all_sales'])) #расчет зависимости между отзывами пользователей и продажами\n",
    "games_ps4.sort_values('user_score').plot(x='user_score', y='all_sales',kind='scatter',alpha=0.5,figsize=(15,5)) "
   ]
  },
  {
   "cell_type": "markdown",
   "metadata": {},
   "source": [
    "*Корреляции между отзывами пользователей и продажами для консоли PS4 нет, но по диаграмме понятно, что самые низкие продажи там, где отзывы меньше тройки.*"
   ]
  },
  {
   "cell_type": "code",
   "execution_count": 24,
   "metadata": {},
   "outputs": [
    {
     "data": {
      "text/plain": [
       "0.40266141068104083"
      ]
     },
     "metadata": {},
     "output_type": "display_data"
    },
    {
     "data": {
      "text/plain": [
       "<AxesSubplot:xlabel='critic_score', ylabel='all_sales'>"
      ]
     },
     "execution_count": 24,
     "metadata": {},
     "output_type": "execute_result"
    },
    {
     "data": {
      "image/png": "[encoded data removed]",
      "text/plain": [
       "<Figure size 1080x360 with 1 Axes>"
      ]
     },
     "metadata": {
      "needs_background": "light"
     },
     "output_type": "display_data"
    }
   ],
   "source": [
    "display(games_ps4['critic_score'].corr(games_ps4['all_sales'])) #расчет зависимости между отзывами критиков и продажами\n",
    "games_ps4.sort_values('critic_score').plot(x='critic_score', y='all_sales',kind='scatter',alpha=0.5,figsize=(15,5)) "
   ]
  },
  {
   "cell_type": "markdown",
   "metadata": {},
   "source": [
    "*Корреляция между отзывами критиков и продажами есть, но она не такая значительная как можно было ожидать. По диаграмме видно, что самые низкие продажи при отзыве с рейтингом меньше 40.*"
   ]
  },
  {
   "cell_type": "code",
   "execution_count": 25,
   "metadata": {},
   "outputs": [
    {
     "data": {
      "text/plain": [
       "-0.023478187237975554"
      ]
     },
     "metadata": {},
     "output_type": "display_data"
    }
   ],
   "source": [
    "games_all = games.query('platform != \"PS4\"')\n",
    "display(games_all['user_score'].corr(games_all['all_sales'])) #зависимость между отзывами пользователей и продажами для остальных консолей"
   ]
  },
  {
   "cell_type": "code",
   "execution_count": 26,
   "metadata": {},
   "outputs": [
    {
     "data": {
      "text/plain": [
       "0.3094740026001152"
      ]
     },
     "metadata": {},
     "output_type": "display_data"
    }
   ],
   "source": [
    "display(games_all['critic_score'].corr(games_all['all_sales'])) #зависимость между отзывами пользователей и продажами для остальных консолей"
   ]
  },
  {
   "cell_type": "markdown",
   "metadata": {},
   "source": [
    "*Как и в случае с конкретной консолью, со всеми остальным зависимости между отзывами пользователей и продажами нет. Отзывы критиков тоже оказывают довольно низкое влияние на решении о покупке игры.*"
   ]
  },
  {
   "cell_type": "markdown",
   "metadata": {},
   "source": [
    "### Распределение по жанрам"
   ]
  },
  {
   "cell_type": "code",
   "execution_count": 27,
   "metadata": {},
   "outputs": [
    {
     "data": {
      "text/plain": [
       "Text(0.5, 0, 'Жанры')"
      ]
     },
     "execution_count": 27,
     "metadata": {},
     "output_type": "execute_result"
    },
    {
     "data": {
      "image/png": "[encoded data removed]",
      "text/plain": [
       "<Figure size 936x432 with 1 Axes>"
      ]
     },
     "metadata": {
      "needs_background": "light"
     },
     "output_type": "display_data"
    }
   ],
   "source": [
    "games['genre'].hist(bins=25,figsize=(13,6)) #гистограмма жанров\n",
    "plt.title('Распределение жанров',fontsize='x-large')\n",
    "plt.xlabel('Жанры',fontsize='large')"
   ]
  },
  {
   "cell_type": "markdown",
   "metadata": {},
   "source": [
    "*Больше всего представлено игр для консолей в жанрах Action, Role-Playing, Adventur и Sports.*"
   ]
  },
  {
   "cell_type": "code",
   "execution_count": 28,
   "metadata": {},
   "outputs": [
    {
     "data": {
      "text/plain": [
       "genre\n",
       "Action          199.36\n",
       "Shooter         170.94\n",
       "Sports          109.48\n",
       "Role-Playing    101.44\n",
       "Misc             37.55\n",
       "Fighting         28.22\n",
       "Racing           27.52\n",
       "Platform         18.09\n",
       "Adventure        17.55\n",
       "Simulation       13.13\n",
       "Strategy          3.96\n",
       "Puzzle            2.21\n",
       "Name: all_sales, dtype: float64"
      ]
     },
     "execution_count": 28,
     "metadata": {},
     "output_type": "execute_result"
    }
   ],
   "source": [
    "games.groupby('genre')['all_sales'].sum().sort_values(ascending=False) #продажт по жанрама"
   ]
  },
  {
   "cell_type": "code",
   "execution_count": 29,
   "metadata": {},
   "outputs": [
    {
     "data": {
      "text/plain": [
       "Text(0, 0.5, 'Продажи')"
      ]
     },
     "execution_count": 29,
     "metadata": {},
     "output_type": "execute_result"
    },
    {
     "data": {
      "image/png": "[encoded data removed]",
      "text/plain": [
       "<Figure size 720x360 with 1 Axes>"
      ]
     },
     "metadata": {
      "needs_background": "light"
     },
     "output_type": "display_data"
    }
   ],
   "source": [
    "games.groupby('genre')['all_sales'].sum().plot.bar(x='genre',y='all_sales',alpha=0.5,color='green',figsize=(10,5)) #график продаж по жанрам\n",
    "plt.xlabel('Жанры',fontsize='large')\n",
    "plt.ylabel('Продажи',fontsize='large')"
   ]
  },
  {
   "cell_type": "markdown",
   "metadata": {},
   "source": [
    "*Самыми прибыльными являются жанры Action, Shooter, Sports и Role-Playing. Adventur не входит в топ продаваемых, хотя игр в этом жанре больше, чем в Sports и Shooter*"
   ]
  },
  {
   "cell_type": "markdown",
   "metadata": {},
   "source": [
    "## Портрет пользователя по регионам"
   ]
  },
  {
   "cell_type": "markdown",
   "metadata": {},
   "source": [
    "### Самые популярные платформы по регионам"
   ]
  },
  {
   "cell_type": "code",
   "execution_count": 30,
   "metadata": {},
   "outputs": [
    {
     "data": {
      "text/plain": [
       "platform\n",
       "PS4     98.61\n",
       "XOne    81.27\n",
       "X360    28.30\n",
       "3DS     22.64\n",
       "PS3     22.05\n",
       "WiiU    19.36\n",
       "PC       7.23\n",
       "PSV      2.52\n",
       "Wii      2.08\n",
       "PSP      0.00\n",
       "Name: na_sales, dtype: float64"
      ]
     },
     "metadata": {},
     "output_type": "display_data"
    },
    {
     "data": {
      "text/plain": [
       "Text(0, 0.5, 'Продажи в Северной Америке')"
      ]
     },
     "execution_count": 30,
     "metadata": {},
     "output_type": "execute_result"
    },
    {
     "data": {
      "image/png": "[encoded data removed]",
      "text/plain": [
       "<Figure size 720x360 with 1 Axes>"
      ]
     },
     "metadata": {
      "needs_background": "light"
     },
     "output_type": "display_data"
    }
   ],
   "source": [
    "display(games.groupby('platform')['na_sales'].sum().sort_values(ascending=False)) #продажи по консолям для СА\n",
    "games.groupby('platform')['na_sales'].sum().sort_values(ascending=False).plot.bar(x='platform',y='na_sales',alpha=1,color='pink',figsize=(10,5))\n",
    "# график продаж по консолям для СА\n",
    "plt.xlabel('Консоли',fontsize='large')\n",
    "plt.ylabel('Продажи в Северной Америке',fontsize='large')"
   ]
  },
  {
   "cell_type": "code",
   "execution_count": 31,
   "metadata": {},
   "outputs": [
    {
     "data": {
      "text/plain": [
       "284.06000000000006"
      ]
     },
     "execution_count": 31,
     "metadata": {},
     "output_type": "execute_result"
    }
   ],
   "source": [
    "games['na_sales'].sum() #сумма продаж для СА"
   ]
  },
  {
   "cell_type": "code",
   "execution_count": 32,
   "metadata": {},
   "outputs": [
    {
     "data": {
      "text/plain": [
       "platform\n",
       "PS4     130.04\n",
       "XOne     46.25\n",
       "PS3      25.54\n",
       "PC       17.97\n",
       "3DS      16.12\n",
       "X360     15.49\n",
       "WiiU     13.15\n",
       "PSV       3.53\n",
       "Wii       2.59\n",
       "PSP       0.00\n",
       "Name: eu_sales, dtype: float64"
      ]
     },
     "metadata": {},
     "output_type": "display_data"
    },
    {
     "data": {
      "text/plain": [
       "Text(0, 0.5, 'Продажи в Европе')"
      ]
     },
     "execution_count": 32,
     "metadata": {},
     "output_type": "execute_result"
    },
    {
     "data": {
      "image/png": "[encoded data removed]",
      "text/plain": [
       "<Figure size 720x360 with 1 Axes>"
      ]
     },
     "metadata": {
      "needs_background": "light"
     },
     "output_type": "display_data"
    }
   ],
   "source": [
    "display(games.groupby('platform')['eu_sales'].sum().sort_values(ascending=False)) #продажи по консолям для Европы\n",
    "games.groupby('platform')['eu_sales'].sum().sort_values(ascending=False).plot.bar(x='platform',y='eu_sales',alpha=1,color='pink',figsize=(10,5))\n",
    "#график продаж по консолям для Европы\n",
    "plt.xlabel('Консоли',fontsize='large')\n",
    "plt.ylabel('Продажи в Европе',fontsize='large')"
   ]
  },
  {
   "cell_type": "code",
   "execution_count": 33,
   "metadata": {},
   "outputs": [
    {
     "data": {
      "text/plain": [
       "270.67999999999995"
      ]
     },
     "execution_count": 33,
     "metadata": {},
     "output_type": "execute_result"
    }
   ],
   "source": [
    "games['eu_sales'].sum() #Сумма продаж для Европы"
   ]
  },
  {
   "cell_type": "code",
   "execution_count": 34,
   "metadata": {},
   "outputs": [
    {
     "data": {
      "text/plain": [
       "platform\n",
       "3DS     44.24\n",
       "PS4     15.02\n",
       "PSV     14.54\n",
       "PS3     11.22\n",
       "WiiU     7.31\n",
       "PSP      0.36\n",
       "XOne     0.32\n",
       "X360     0.08\n",
       "PC       0.00\n",
       "Wii      0.00\n",
       "Name: jp_sales, dtype: float64"
      ]
     },
     "metadata": {},
     "output_type": "display_data"
    },
    {
     "data": {
      "text/plain": [
       "Text(0, 0.5, 'Продажи в Японии')"
      ]
     },
     "execution_count": 34,
     "metadata": {},
     "output_type": "execute_result"
    },
    {
     "data": {
      "image/png": "[encoded data removed]",
      "text/plain": [
       "<Figure size 720x360 with 1 Axes>"
      ]
     },
     "metadata": {
      "needs_background": "light"
     },
     "output_type": "display_data"
    }
   ],
   "source": [
    "display(games.groupby('platform')['jp_sales'].sum().sort_values(ascending=False)) #продажи по консолям для Японии\n",
    "games.groupby('platform')['jp_sales'].sum().sort_values(ascending=False).plot.bar(x='platform',y='jp_sales',alpha=1,color='pink',figsize=(10,5))\n",
    "#график продаж по консолям для Японии\n",
    "plt.xlabel('Консоли',fontsize='large')\n",
    "plt.ylabel('Продажи в Японии',fontsize='large')"
   ]
  },
  {
   "cell_type": "code",
   "execution_count": 35,
   "metadata": {},
   "outputs": [
    {
     "data": {
      "text/plain": [
       "93.09"
      ]
     },
     "execution_count": 35,
     "metadata": {},
     "output_type": "execute_result"
    }
   ],
   "source": [
    "games['jp_sales'].sum() #сумма продаж для Японии"
   ]
  },
  {
   "cell_type": "markdown",
   "metadata": {},
   "source": [
    "*Больше всего игр в Европе и Северной Америке продается для консолей PS4 XOne, дальше есть различия. В целом в Северной Америке и в Европе топ-5 отличается только одной позицией. В тоже время в Японии первое место занимает 3DS, а PS 4 только на втором, XOne вовсе не вошел в первую пятерку.*\n",
    "\n",
    "*Если смотреть на суммы, то в Японии общие продажи ниже остальных. Это можно объяснить меньшем количеством населения в Японии, в отличии от Европы и Северной Америки. В тоже время, не смотря на то, что население Европы больше, чем в Северной Америке, общие продажи в Европе ниже на 5%. В Японии общие продажи ниже в 3 раза, скорее всего это так же связано с количеством людей, которые там проживают.*"
   ]
  },
  {
   "cell_type": "markdown",
   "metadata": {},
   "source": [
    "### Самые популярные жанры по регионам"
   ]
  },
  {
   "cell_type": "code",
   "execution_count": 36,
   "metadata": {
    "scrolled": true
   },
   "outputs": [
    {
     "data": {
      "text/plain": [
       "genre\n",
       "Shooter         79.02\n",
       "Action          72.53\n",
       "Sports          46.13\n",
       "Role-Playing    33.47\n",
       "Misc            15.05\n",
       "Fighting        12.43\n",
       "Racing           8.74\n",
       "Platform         6.79\n",
       "Adventure        5.64\n",
       "Simulation       2.63\n",
       "Strategy         0.98\n",
       "Puzzle           0.65\n",
       "Name: na_sales, dtype: float64"
      ]
     },
     "metadata": {},
     "output_type": "display_data"
    },
    {
     "data": {
      "text/plain": [
       "Text(0, 0.5, 'Продажи в Северной Америке')"
      ]
     },
     "execution_count": 36,
     "metadata": {},
     "output_type": "execute_result"
    },
    {
     "data": {
      "image/png": "[encoded data removed]",
      "text/plain": [
       "<Figure size 720x360 with 1 Axes>"
      ]
     },
     "metadata": {
      "needs_background": "light"
     },
     "output_type": "display_data"
    }
   ],
   "source": [
    "display(games.groupby('genre')['na_sales'].sum().sort_values(ascending=False)) #продажи по жанрам для СА\n",
    "games.groupby('genre')['na_sales'].sum().sort_values(ascending=False).plot.bar(x='genre',y='na_sales',alpha=0.3,color='blue',figsize=(10,5))\n",
    "#график продаж по жанрам для СА\n",
    "plt.xlabel('Жанры',fontsize='large')\n",
    "plt.ylabel('Продажи в Северной Америке',fontsize='large')"
   ]
  },
  {
   "cell_type": "code",
   "execution_count": 37,
   "metadata": {},
   "outputs": [
    {
     "data": {
      "text/plain": [
       "genre\n",
       "Action          74.68\n",
       "Shooter         65.52\n",
       "Sports          45.73\n",
       "Role-Playing    28.17\n",
       "Racing          14.13\n",
       "Misc            12.86\n",
       "Simulation       7.30\n",
       "Platform         6.80\n",
       "Fighting         6.69\n",
       "Adventure        6.49\n",
       "Strategy         1.79\n",
       "Puzzle           0.52\n",
       "Name: eu_sales, dtype: float64"
      ]
     },
     "metadata": {},
     "output_type": "display_data"
    },
    {
     "data": {
      "text/plain": [
       "Text(0, 0.5, 'Продажи в Европе')"
      ]
     },
     "execution_count": 37,
     "metadata": {},
     "output_type": "execute_result"
    },
    {
     "data": {
      "image/png": "[encoded data removed]",
      "text/plain": [
       "<Figure size 720x360 with 1 Axes>"
      ]
     },
     "metadata": {
      "needs_background": "light"
     },
     "output_type": "display_data"
    }
   ],
   "source": [
    "display(games.groupby('genre')['eu_sales'].sum().sort_values(ascending=False)) #продажи по жанрам для Европы\n",
    "games.groupby('genre')['eu_sales'].sum().sort_values(ascending=False).plot.bar(x='genre',y='eu_sales',alpha=0.3,color='blue',figsize=(10,5))\n",
    "#график продаж по жанрам для Европы\n",
    "plt.xlabel('Жанры',fontsize='large')\n",
    "plt.ylabel('Продажи в Европе',fontsize='large')"
   ]
  },
  {
   "cell_type": "code",
   "execution_count": 38,
   "metadata": {},
   "outputs": [
    {
     "data": {
      "text/plain": [
       "genre\n",
       "Role-Playing    31.16\n",
       "Action          29.58\n",
       "Fighting         6.37\n",
       "Misc             5.61\n",
       "Shooter          4.87\n",
       "Adventure        3.60\n",
       "Sports           3.26\n",
       "Platform         2.69\n",
       "Simulation       2.31\n",
       "Racing           1.76\n",
       "Strategy         0.95\n",
       "Puzzle           0.93\n",
       "Name: jp_sales, dtype: float64"
      ]
     },
     "metadata": {},
     "output_type": "display_data"
    },
    {
     "data": {
      "text/plain": [
       "Text(0, 0.5, 'Продажи в Японии')"
      ]
     },
     "execution_count": 38,
     "metadata": {},
     "output_type": "execute_result"
    },
    {
     "data": {
      "image/png": "[encoded data removed]",
      "text/plain": [
       "<Figure size 720x360 with 1 Axes>"
      ]
     },
     "metadata": {
      "needs_background": "light"
     },
     "output_type": "display_data"
    }
   ],
   "source": [
    "display(games.groupby('genre')['jp_sales'].sum().sort_values(ascending=False)) #продажи по жанрам для Японии\n",
    "games.groupby('genre')['jp_sales'].sum().sort_values(ascending=False).plot.bar(x='genre',y='jp_sales',alpha=0.3,color='blue',figsize=(10,5))\n",
    "#график продаж по жанрам для Японии\n",
    "plt.xlabel('Жанры',fontsize='large')\n",
    "plt.ylabel('Продажи в Японии',fontsize='large')"
   ]
  },
  {
   "cell_type": "markdown",
   "metadata": {},
   "source": [
    "*Европа и Северная Америка в топ-5 жанров отличаются только жанром на 5 месте. 1 и 2 места занимают Action и Shooter, только в Европе Action на первом месте, а Shoter на втором, тогда как в Северной Америке наоборот. В Японии же покупателей больше привлекают Role-Playing и Action, Shooter хоть и входит в топ-5, но находится на последнем месте и довольно близко по продажам к жанру Sports, который на 6 месте.*"
   ]
  },
  {
   "cell_type": "markdown",
   "metadata": {},
   "source": [
    "### Рейтинг ESRB"
   ]
  },
  {
   "cell_type": "code",
   "execution_count": 39,
   "metadata": {},
   "outputs": [],
   "source": [
    "games['rating'] = games['rating'].fillna('tbd')"
   ]
  },
  {
   "cell_type": "code",
   "execution_count": 40,
   "metadata": {
    "scrolled": true
   },
   "outputs": [
    {
     "data": {
      "text/plain": [
       "rating\n",
       "M       96.42\n",
       "tbd     64.72\n",
       "E       50.74\n",
       "T       38.95\n",
       "E10+    33.23\n",
       "Name: na_sales, dtype: float64"
      ]
     },
     "metadata": {},
     "output_type": "display_data"
    },
    {
     "data": {
      "text/plain": [
       "Text(0, 0.5, 'Продажи в Северной Америке')"
      ]
     },
     "execution_count": 40,
     "metadata": {},
     "output_type": "execute_result"
    },
    {
     "data": {
      "image/png": "[encoded data removed]",
      "text/plain": [
       "<Figure size 720x360 with 1 Axes>"
      ]
     },
     "metadata": {
      "needs_background": "light"
     },
     "output_type": "display_data"
    }
   ],
   "source": [
    "display(games.groupby('rating')['na_sales'].sum().sort_values(ascending=False)) #продажи по рейтингу для СА\n",
    "games.groupby('rating')['na_sales'].sum().sort_values(ascending=False).plot.bar(x='rating',y='na_sales',alpha=0.4,color='yellow',figsize=(10,5))\n",
    "#график продаж по рейтингу для СА\n",
    "plt.xlabel('Рейтинг',fontsize='large')\n",
    "plt.ylabel('Продажи в Северной Америке',fontsize='large')"
   ]
  },
  {
   "cell_type": "code",
   "execution_count": 41,
   "metadata": {},
   "outputs": [
    {
     "data": {
      "text/plain": [
       "rating\n",
       "M       93.44\n",
       "tbd     58.95\n",
       "E       58.06\n",
       "T       34.07\n",
       "E10+    26.16\n",
       "Name: eu_sales, dtype: float64"
      ]
     },
     "metadata": {},
     "output_type": "display_data"
    },
    {
     "data": {
      "text/plain": [
       "Text(0, 0.5, 'Продажи в Европе')"
      ]
     },
     "execution_count": 41,
     "metadata": {},
     "output_type": "execute_result"
    },
    {
     "data": {
      "image/png": "[encoded data removed]",
      "text/plain": [
       "<Figure size 720x360 with 1 Axes>"
      ]
     },
     "metadata": {
      "needs_background": "light"
     },
     "output_type": "display_data"
    }
   ],
   "source": [
    "display(games.groupby('rating')['eu_sales'].sum().sort_values(ascending=False)) #продажи по рейтингу для Европы\n",
    "games.groupby('rating')['eu_sales'].sum().sort_values(ascending=False).plot.bar(x='rating',y='eu_sales',alpha=0.4,color='yellow',figsize=(10,5))\n",
    "#график продаж по рейтингу для Европы\n",
    "plt.xlabel('Рейтинг',fontsize='large')\n",
    "plt.ylabel('Продажи в Европе',fontsize='large')"
   ]
  },
  {
   "cell_type": "code",
   "execution_count": 42,
   "metadata": {},
   "outputs": [
    {
     "data": {
      "text/plain": [
       "rating\n",
       "tbd     56.90\n",
       "T       14.78\n",
       "E        8.94\n",
       "M        8.01\n",
       "E10+     4.46\n",
       "Name: jp_sales, dtype: float64"
      ]
     },
     "metadata": {},
     "output_type": "display_data"
    },
    {
     "data": {
      "text/plain": [
       "Text(0, 0.5, 'Продажи в Японии')"
      ]
     },
     "execution_count": 42,
     "metadata": {},
     "output_type": "execute_result"
    },
    {
     "data": {
      "image/png": "[encoded data removed]",
      "text/plain": [
       "<Figure size 720x360 with 1 Axes>"
      ]
     },
     "metadata": {
      "needs_background": "light"
     },
     "output_type": "display_data"
    }
   ],
   "source": [
    "display(games.groupby('rating')['jp_sales'].sum().sort_values(ascending=False)) #продажи по рейтингу для Японии\n",
    "games.groupby('rating')['jp_sales'].sum().sort_values(ascending=False).plot.bar(x='rating',y='jp_sales',alpha=0.4,color='yellow',figsize=(10,5))\n",
    "#график продаж по рейтингу для Японии\n",
    "plt.xlabel('Рейтинг',fontsize='large')\n",
    "plt.ylabel('Продажи в Японии',fontsize='large')"
   ]
  },
  {
   "cell_type": "markdown",
   "metadata": {},
   "source": [
    "*Рейтинги в Европе и Северной Америке расположились одинаково, на первом месте рейтинг M. В Японии же на первом месте рейтинг T. Можно сказать, что рейтинг влияет на продажи. По крайне мере в Японии охотней покупают игры, которые хоть и являются более реалистичными, но не переходят какие-либо грани, связанные с наркотиками, либо с откровенными сценами насилия. В Европе и Северной Америке наоборот охотней покупают игры с рейтингом серьезней. На втором месте рейтинг E, возможно это как раз игры категории спорт, симуляторы или детские игры.*"
   ]
  },
  {
   "cell_type": "markdown",
   "metadata": {},
   "source": [
    "## Проверка гипотез"
   ]
  },
  {
   "cell_type": "markdown",
   "metadata": {},
   "source": [
    "### Проверка гипотез о рейтингах консолей"
   ]
  },
  {
   "cell_type": "markdown",
   "metadata": {},
   "source": [
    "*H₀ - Средний пользовательский рейтинг Xbox One = Среднему пользовательскому рейтингу PC;*\n",
    " \n",
    "*H₁ - Средний пользовательский рейтинг Xbox One ≠ Среднему пользовательскому рейтингу PC;*"
   ]
  },
  {
   "cell_type": "code",
   "execution_count": 43,
   "metadata": {},
   "outputs": [
    {
     "name": "stdout",
     "output_type": "stream",
     "text": [
      "0.11601398086668832\n",
      "Не получилось отвергнуть нулевую гипотезу\n"
     ]
    }
   ],
   "source": [
    "xbox = games.query('platform == \"XOne\" and not user_score.isna()')['user_score'] #срез данных для рейтинга пользователей xone\n",
    "pc = games.query('platform == \"PC\" and not user_score.isna()')['user_score'] #срез данных для рейтинга пользователей pc\n",
    "alpha = .01 #критический уровень статистической значимости\n",
    "results = st.ttest_ind(xbox,pc,equal_var=False) #t-test для проверки гипотезы\n",
    "print(results.pvalue)\n",
    "if results.pvalue < alpha:\n",
    "    print(\"Отвергаем нулевую гипотезу\")\n",
    "else:\n",
    "    print(\"Не получилось отвергнуть нулевую гипотезу\")"
   ]
  },
  {
   "cell_type": "markdown",
   "metadata": {},
   "source": [
    "### Проверка гипотез о рейтингах консолей"
   ]
  },
  {
   "cell_type": "markdown",
   "metadata": {},
   "source": [
    " *H₀ - Средний пользовательский рейтинг жанрa Action = Среднему пользовательскому рейтингу жанра Sports;*\n",
    " \n",
    " *H₁ - Средний пользовательский рейтинг жанрa Action ≠ Среднему пользовательскому рейтингу жанра Sports;*"
   ]
  },
  {
   "cell_type": "code",
   "execution_count": 44,
   "metadata": {
    "scrolled": true
   },
   "outputs": [
    {
     "name": "stdout",
     "output_type": "stream",
     "text": [
      "1.1825550382644557e-14\n",
      "Отвергаем нулевую гипотезу\n"
     ]
    }
   ],
   "source": [
    "action = games.query('genre == \"Action\" and not user_score.isna()')['user_score'] #срез данных для рейтинга пользователей жанра action\n",
    "sports = games.query('genre == \"Sports\" and not user_score.isna()')['user_score'] #срез данных для рейтинга пользователей жанра sports\n",
    "alpha = .01 #критический уровень статистической значимости\n",
    "results = st.ttest_ind(action,sports,equal_var=False) #t-test для проверки гипотезы\n",
    "print(results.pvalue)\n",
    "if results.pvalue < alpha:\n",
    "    print(\"Отвергаем нулевую гипотезу\")\n",
    "else:\n",
    "    print(\"Не получилось отвергнуть нулевую гипотезу\")"
   ]
  },
  {
   "cell_type": "markdown",
   "metadata": {},
   "source": [
    "### Пояснение о проверке гипотез"
   ]
  },
  {
   "cell_type": "markdown",
   "metadata": {},
   "source": [
    "*Формулирование гипотез: Нулевая гипотеза уже была сформулирована в задании, она призывала определить одинаковы ли средние пользовательские рейтинги. Так как в нулевой гипотезе указано именно одинаковые, следует читать как равные, то альтернативная гипотеза формулируется как противоположность, то есть рейтинги неравные. Если бы в задании было указано требование определить больше ли средние рейтинги одной консоли, чем другой, то и альтернативная гипотеза звучала бы иначе.*\n",
    "\n",
    "*Критерий для проверки гипотез: Был использован критерий Стьюдента, t-test в Python. Конкретно в этом случае был применен метод, который используется для отвержения, или же наоборот, гипотез о равенстве средних двух генеральных совокупностей.*"
   ]
  },
  {
   "cell_type": "markdown",
   "metadata": {},
   "source": [
    "## Общий Вывод"
   ]
  },
  {
   "cell_type": "markdown",
   "metadata": {},
   "source": [
    "- С 1991 года и до 2011 включительно количество выпускаемых игр ежегодно увеличивалось. После 2011 начался спад в производстве игр для консолей.\n",
    "- Новые консоли возникают с разной периодичностью, тогда как жизнь старых в среднем составляет около 8 лет\n",
    "- С 2014 года продажи игр для консолей упали.\n",
    "- В топ-5 консолей по продажам входят:  PS4, XOne, 3DS, X360 и PS3\n",
    "- Зависимости между продажами и отзывами пользователей нет, как для конкретной консоли, так и в общем для всех.\n",
    "- Зависимость между продажами и отзывами критиков есть, но не слишком сильная, это касается всех консолей\n",
    "- Больше остальных жанров, основную массу пользователей привлекает жанр Action и Shooter, это связано с тем, что эти жанры любят жители Северной Америки и Европы, что составляет более миллиарда людей. Тогда как в Японии отдают предпочтение ролевым играм, но там слишком мало жителей. Возможно исследование по Японии и в целом по Азии стоит проводить отдельно от Европы и Северной Америки. "
   ]
  }
 ],
 "metadata": {
  "ExecuteTimeLog": [
   {
    "duration": 485,
    "start_time": "2022-09-12T10:00:01.169Z"
   },
   {
    "duration": 199,
    "start_time": "2022-09-12T10:00:44.073Z"
   },
   {
    "duration": 33,
    "start_time": "2022-09-12T10:00:54.695Z"
   },
   {
    "duration": 15,
    "start_time": "2022-09-12T10:01:13.547Z"
   },
   {
    "duration": 57,
    "start_time": "2022-09-12T10:12:23.803Z"
   },
   {
    "duration": 15,
    "start_time": "2022-09-12T10:12:24.648Z"
   },
   {
    "duration": 13,
    "start_time": "2022-09-12T10:12:28.692Z"
   },
   {
    "duration": 3,
    "start_time": "2022-09-12T10:12:56.583Z"
   },
   {
    "duration": 13,
    "start_time": "2022-09-12T10:13:15.163Z"
   },
   {
    "duration": 3,
    "start_time": "2022-09-12T10:13:55.833Z"
   },
   {
    "duration": 13,
    "start_time": "2022-09-12T10:14:05.101Z"
   },
   {
    "duration": 3,
    "start_time": "2022-09-12T10:14:18.704Z"
   },
   {
    "duration": 14,
    "start_time": "2022-09-12T10:14:19.663Z"
   },
   {
    "duration": 112,
    "start_time": "2022-09-12T10:21:34.922Z"
   },
   {
    "duration": 80,
    "start_time": "2022-09-12T10:21:50.647Z"
   },
   {
    "duration": 5,
    "start_time": "2022-09-12T10:23:25.701Z"
   },
   {
    "duration": 21,
    "start_time": "2022-09-12T10:23:39.760Z"
   },
   {
    "duration": 75,
    "start_time": "2022-09-12T10:24:19.101Z"
   },
   {
    "duration": 22,
    "start_time": "2022-09-12T10:24:47.690Z"
   },
   {
    "duration": 12,
    "start_time": "2022-09-12T10:26:06.813Z"
   },
   {
    "duration": 6,
    "start_time": "2022-09-12T10:27:38.739Z"
   },
   {
    "duration": 27,
    "start_time": "2022-09-12T10:27:49.316Z"
   },
   {
    "duration": 9,
    "start_time": "2022-09-12T10:28:18.096Z"
   },
   {
    "duration": 15,
    "start_time": "2022-09-12T10:29:46.055Z"
   },
   {
    "duration": 9,
    "start_time": "2022-09-12T10:31:23.304Z"
   },
   {
    "duration": 23,
    "start_time": "2022-09-12T10:35:02.138Z"
   },
   {
    "duration": 17,
    "start_time": "2022-09-12T10:35:19.953Z"
   },
   {
    "duration": 21,
    "start_time": "2022-09-12T10:35:38.363Z"
   },
   {
    "duration": 17,
    "start_time": "2022-09-12T10:35:44.864Z"
   },
   {
    "duration": 18,
    "start_time": "2022-09-12T10:38:24.102Z"
   },
   {
    "duration": 59,
    "start_time": "2022-09-12T10:38:38.579Z"
   },
   {
    "duration": 16,
    "start_time": "2022-09-12T10:39:22.986Z"
   },
   {
    "duration": 14,
    "start_time": "2022-09-12T10:40:09.985Z"
   },
   {
    "duration": 16,
    "start_time": "2022-09-12T10:40:20.450Z"
   },
   {
    "duration": 16,
    "start_time": "2022-09-12T10:40:26.808Z"
   },
   {
    "duration": 1498,
    "start_time": "2022-09-12T10:41:35.202Z"
   },
   {
    "duration": 9,
    "start_time": "2022-09-12T10:42:39.209Z"
   },
   {
    "duration": 17,
    "start_time": "2022-09-12T10:42:56.582Z"
   },
   {
    "duration": 15,
    "start_time": "2022-09-12T10:43:09.049Z"
   },
   {
    "duration": 12,
    "start_time": "2022-09-12T10:43:53.284Z"
   },
   {
    "duration": 9,
    "start_time": "2022-09-12T10:45:44.148Z"
   },
   {
    "duration": 18,
    "start_time": "2022-09-12T10:46:20.871Z"
   },
   {
    "duration": 25,
    "start_time": "2022-09-12T10:46:49.164Z"
   },
   {
    "duration": 16,
    "start_time": "2022-09-12T10:47:09.697Z"
   },
   {
    "duration": 5,
    "start_time": "2022-09-12T10:47:10.215Z"
   },
   {
    "duration": 13,
    "start_time": "2022-09-12T10:48:12.868Z"
   },
   {
    "duration": 9,
    "start_time": "2022-09-12T10:50:07.197Z"
   },
   {
    "duration": 24,
    "start_time": "2022-09-12T10:53:35.344Z"
   },
   {
    "duration": 51,
    "start_time": "2022-09-12T10:55:28.298Z"
   },
   {
    "duration": 19,
    "start_time": "2022-09-12T10:55:30.947Z"
   },
   {
    "duration": 29,
    "start_time": "2022-09-12T10:56:50.932Z"
   },
   {
    "duration": 9,
    "start_time": "2022-09-12T10:57:40.482Z"
   },
   {
    "duration": 1229,
    "start_time": "2022-09-12T10:57:47.589Z"
   },
   {
    "duration": 0,
    "start_time": "2022-09-12T10:57:48.820Z"
   },
   {
    "duration": 3,
    "start_time": "2022-09-12T10:58:03.400Z"
   },
   {
    "duration": 48,
    "start_time": "2022-09-12T10:58:04.143Z"
   },
   {
    "duration": 30,
    "start_time": "2022-09-12T10:58:04.338Z"
   },
   {
    "duration": 13,
    "start_time": "2022-09-12T10:58:04.704Z"
   },
   {
    "duration": 4,
    "start_time": "2022-09-12T10:58:07.870Z"
   },
   {
    "duration": 13,
    "start_time": "2022-09-12T10:58:08.832Z"
   },
   {
    "duration": 6,
    "start_time": "2022-09-12T10:58:11.246Z"
   },
   {
    "duration": 10,
    "start_time": "2022-09-12T10:58:12.318Z"
   },
   {
    "duration": 12,
    "start_time": "2022-09-12T10:58:15.538Z"
   },
   {
    "duration": 9,
    "start_time": "2022-09-12T10:58:21.409Z"
   },
   {
    "duration": 16,
    "start_time": "2022-09-12T11:07:37.900Z"
   },
   {
    "duration": 16,
    "start_time": "2022-09-12T11:07:44.004Z"
   },
   {
    "duration": 31,
    "start_time": "2022-09-12T11:08:44.215Z"
   },
   {
    "duration": 15,
    "start_time": "2022-09-12T11:09:03.539Z"
   },
   {
    "duration": 98,
    "start_time": "2022-09-12T11:09:16.700Z"
   },
   {
    "duration": 84,
    "start_time": "2022-09-12T11:11:53.192Z"
   },
   {
    "duration": 31,
    "start_time": "2022-09-12T12:49:09.083Z"
   },
   {
    "duration": 6,
    "start_time": "2022-09-12T13:36:56.485Z"
   },
   {
    "duration": 6,
    "start_time": "2022-09-12T13:37:19.140Z"
   },
   {
    "duration": 6,
    "start_time": "2022-09-12T13:43:05.109Z"
   },
   {
    "duration": 24,
    "start_time": "2022-09-12T13:45:10.793Z"
   },
   {
    "duration": 8,
    "start_time": "2022-09-12T13:45:34.853Z"
   },
   {
    "duration": 23,
    "start_time": "2022-09-12T13:45:54.846Z"
   },
   {
    "duration": 8,
    "start_time": "2022-09-12T13:45:59.974Z"
   },
   {
    "duration": 20,
    "start_time": "2022-09-12T13:46:14.845Z"
   },
   {
    "duration": 8,
    "start_time": "2022-09-12T13:46:18.598Z"
   },
   {
    "duration": 40,
    "start_time": "2022-09-12T13:46:53.412Z"
   },
   {
    "duration": 9,
    "start_time": "2022-09-12T13:46:55.846Z"
   },
   {
    "duration": 19,
    "start_time": "2022-09-12T13:47:18.249Z"
   },
   {
    "duration": 9,
    "start_time": "2022-09-12T13:47:22.780Z"
   },
   {
    "duration": 6,
    "start_time": "2022-09-12T13:49:13.540Z"
   },
   {
    "duration": 9,
    "start_time": "2022-09-12T13:49:24.494Z"
   },
   {
    "duration": 5,
    "start_time": "2022-09-12T13:49:32.533Z"
   },
   {
    "duration": 6,
    "start_time": "2022-09-12T13:49:46.933Z"
   },
   {
    "duration": 9,
    "start_time": "2022-09-12T13:52:38.077Z"
   },
   {
    "duration": 10,
    "start_time": "2022-09-12T13:52:42.988Z"
   },
   {
    "duration": 9,
    "start_time": "2022-09-12T13:53:06.939Z"
   },
   {
    "duration": 14,
    "start_time": "2022-09-12T13:53:10.131Z"
   },
   {
    "duration": 3,
    "start_time": "2022-09-12T13:54:01.053Z"
   },
   {
    "duration": 69,
    "start_time": "2022-09-12T13:54:01.406Z"
   },
   {
    "duration": 40,
    "start_time": "2022-09-12T13:54:01.579Z"
   },
   {
    "duration": 16,
    "start_time": "2022-09-12T13:54:01.927Z"
   },
   {
    "duration": 3,
    "start_time": "2022-09-12T13:54:02.686Z"
   },
   {
    "duration": 12,
    "start_time": "2022-09-12T13:54:02.886Z"
   },
   {
    "duration": 15,
    "start_time": "2022-09-12T13:54:03.074Z"
   },
   {
    "duration": 6,
    "start_time": "2022-09-12T13:54:04.790Z"
   },
   {
    "duration": 8,
    "start_time": "2022-09-12T13:54:05.062Z"
   },
   {
    "duration": 16,
    "start_time": "2022-09-12T13:54:05.288Z"
   },
   {
    "duration": 12,
    "start_time": "2022-09-12T13:54:10.268Z"
   },
   {
    "duration": 16,
    "start_time": "2022-09-12T13:54:14.011Z"
   },
   {
    "duration": 9,
    "start_time": "2022-09-12T13:54:14.978Z"
   },
   {
    "duration": 9,
    "start_time": "2022-09-12T13:54:20.041Z"
   },
   {
    "duration": 74,
    "start_time": "2022-09-12T13:54:36.906Z"
   },
   {
    "duration": 597,
    "start_time": "2022-09-12T13:54:42.011Z"
   },
   {
    "duration": 73,
    "start_time": "2022-09-12T13:54:42.611Z"
   },
   {
    "duration": 64,
    "start_time": "2022-09-12T13:54:42.686Z"
   },
   {
    "duration": 25,
    "start_time": "2022-09-12T13:54:42.974Z"
   },
   {
    "duration": 4,
    "start_time": "2022-09-12T13:54:43.646Z"
   },
   {
    "duration": 20,
    "start_time": "2022-09-12T13:54:43.845Z"
   },
   {
    "duration": 25,
    "start_time": "2022-09-12T13:54:44.011Z"
   },
   {
    "duration": 7,
    "start_time": "2022-09-12T13:54:44.774Z"
   },
   {
    "duration": 9,
    "start_time": "2022-09-12T13:54:44.960Z"
   },
   {
    "duration": 13,
    "start_time": "2022-09-12T13:54:45.159Z"
   },
   {
    "duration": 11,
    "start_time": "2022-09-12T13:54:45.581Z"
   },
   {
    "duration": 12,
    "start_time": "2022-09-12T13:54:51.612Z"
   },
   {
    "duration": 12,
    "start_time": "2022-09-12T13:54:53.108Z"
   },
   {
    "duration": 8,
    "start_time": "2022-09-12T13:55:04.240Z"
   },
   {
    "duration": 23,
    "start_time": "2022-09-12T13:55:05.616Z"
   },
   {
    "duration": 11,
    "start_time": "2022-09-12T13:55:18.705Z"
   },
   {
    "duration": 3,
    "start_time": "2022-09-12T13:55:20.415Z"
   },
   {
    "duration": 14,
    "start_time": "2022-09-12T13:55:21.209Z"
   },
   {
    "duration": 27,
    "start_time": "2022-09-12T13:55:30.371Z"
   },
   {
    "duration": 23,
    "start_time": "2022-09-12T13:55:40.149Z"
   },
   {
    "duration": 13,
    "start_time": "2022-09-12T13:56:06.689Z"
   },
   {
    "duration": 3,
    "start_time": "2022-09-12T13:56:25.599Z"
   },
   {
    "duration": 69,
    "start_time": "2022-09-12T13:56:26.331Z"
   },
   {
    "duration": 48,
    "start_time": "2022-09-12T13:56:26.693Z"
   },
   {
    "duration": 22,
    "start_time": "2022-09-12T13:56:27.121Z"
   },
   {
    "duration": 4,
    "start_time": "2022-09-12T13:56:29.489Z"
   },
   {
    "duration": 19,
    "start_time": "2022-09-12T13:56:30.488Z"
   },
   {
    "duration": 26,
    "start_time": "2022-09-12T13:56:35.018Z"
   },
   {
    "duration": 7,
    "start_time": "2022-09-12T13:56:37.910Z"
   },
   {
    "duration": 13,
    "start_time": "2022-09-12T13:56:41.507Z"
   },
   {
    "duration": 18,
    "start_time": "2022-09-12T13:56:42.381Z"
   },
   {
    "duration": 12,
    "start_time": "2022-09-12T13:56:45.975Z"
   },
   {
    "duration": 15,
    "start_time": "2022-09-12T13:56:52.240Z"
   },
   {
    "duration": 8,
    "start_time": "2022-09-12T13:57:04.895Z"
   },
   {
    "duration": 10,
    "start_time": "2022-09-12T13:57:05.959Z"
   },
   {
    "duration": 14,
    "start_time": "2022-09-12T13:58:40.629Z"
   },
   {
    "duration": 9,
    "start_time": "2022-09-12T13:59:09.180Z"
   },
   {
    "duration": 17,
    "start_time": "2022-09-12T13:59:10.228Z"
   },
   {
    "duration": 30,
    "start_time": "2022-09-12T13:59:22.311Z"
   },
   {
    "duration": 9,
    "start_time": "2022-09-12T14:01:22.343Z"
   },
   {
    "duration": 40,
    "start_time": "2022-09-12T14:01:23.772Z"
   },
   {
    "duration": 7,
    "start_time": "2022-09-12T14:01:34.036Z"
   },
   {
    "duration": 9,
    "start_time": "2022-09-12T14:01:39.981Z"
   },
   {
    "duration": 8,
    "start_time": "2022-09-12T14:01:48.731Z"
   },
   {
    "duration": 5,
    "start_time": "2022-09-12T14:01:58.528Z"
   },
   {
    "duration": 50,
    "start_time": "2022-09-12T14:01:59.407Z"
   },
   {
    "duration": 36,
    "start_time": "2022-09-12T14:01:59.609Z"
   },
   {
    "duration": 12,
    "start_time": "2022-09-12T14:02:00.070Z"
   },
   {
    "duration": 3,
    "start_time": "2022-09-12T14:02:00.866Z"
   },
   {
    "duration": 14,
    "start_time": "2022-09-12T14:02:01.049Z"
   },
   {
    "duration": 15,
    "start_time": "2022-09-12T14:02:01.241Z"
   },
   {
    "duration": 6,
    "start_time": "2022-09-12T14:02:02.035Z"
   },
   {
    "duration": 8,
    "start_time": "2022-09-12T14:02:02.206Z"
   },
   {
    "duration": 24,
    "start_time": "2022-09-12T14:02:02.404Z"
   },
   {
    "duration": 9,
    "start_time": "2022-09-12T14:02:02.807Z"
   },
   {
    "duration": 9,
    "start_time": "2022-09-12T14:02:03.161Z"
   },
   {
    "duration": 9,
    "start_time": "2022-09-12T14:02:03.393Z"
   },
   {
    "duration": 10,
    "start_time": "2022-09-12T14:06:41.118Z"
   },
   {
    "duration": 21,
    "start_time": "2022-09-12T14:06:52.229Z"
   },
   {
    "duration": 22,
    "start_time": "2022-09-12T14:08:44.040Z"
   },
   {
    "duration": 48,
    "start_time": "2022-09-12T14:08:59.665Z"
   },
   {
    "duration": 12,
    "start_time": "2022-09-12T14:14:12.773Z"
   },
   {
    "duration": 10,
    "start_time": "2022-09-12T14:14:41.139Z"
   },
   {
    "duration": 16,
    "start_time": "2022-09-12T14:15:15.104Z"
   },
   {
    "duration": 9,
    "start_time": "2022-09-12T14:16:13.288Z"
   },
   {
    "duration": 87,
    "start_time": "2022-09-12T14:16:30.288Z"
   },
   {
    "duration": 1408,
    "start_time": "2022-09-12T14:16:42.469Z"
   },
   {
    "duration": 8,
    "start_time": "2022-09-12T14:17:01.829Z"
   },
   {
    "duration": 11,
    "start_time": "2022-09-12T14:17:18.297Z"
   },
   {
    "duration": 1610,
    "start_time": "2022-09-12T14:17:49.053Z"
   },
   {
    "duration": 15,
    "start_time": "2022-09-12T14:20:04.948Z"
   },
   {
    "duration": 9,
    "start_time": "2022-09-12T14:21:45.276Z"
   },
   {
    "duration": 407,
    "start_time": "2022-09-12T14:27:10.097Z"
   },
   {
    "duration": 1444,
    "start_time": "2022-09-12T14:30:04.656Z"
   },
   {
    "duration": 1368,
    "start_time": "2022-09-12T14:30:14.731Z"
   },
   {
    "duration": 80,
    "start_time": "2022-09-12T14:30:32.590Z"
   },
   {
    "duration": 84,
    "start_time": "2022-09-12T14:30:40.470Z"
   },
   {
    "duration": 80,
    "start_time": "2022-09-12T14:30:52.535Z"
   },
   {
    "duration": 7,
    "start_time": "2022-09-12T14:31:44.353Z"
   },
   {
    "duration": 34,
    "start_time": "2022-09-12T14:31:51.937Z"
   },
   {
    "duration": 92,
    "start_time": "2022-09-12T14:32:20.967Z"
   },
   {
    "duration": 29194,
    "start_time": "2022-09-12T14:32:49.651Z"
   },
   {
    "duration": 365,
    "start_time": "2022-09-12T14:34:06.411Z"
   },
   {
    "duration": 33,
    "start_time": "2022-09-12T14:35:35.202Z"
   },
   {
    "duration": 12,
    "start_time": "2022-09-12T14:35:49.228Z"
   },
   {
    "duration": 10,
    "start_time": "2022-09-12T14:35:49.955Z"
   },
   {
    "duration": 18,
    "start_time": "2022-09-12T14:35:55.009Z"
   },
   {
    "duration": 4,
    "start_time": "2022-09-12T14:36:13.457Z"
   },
   {
    "duration": 54,
    "start_time": "2022-09-12T14:36:13.892Z"
   },
   {
    "duration": 30,
    "start_time": "2022-09-12T14:36:14.090Z"
   },
   {
    "duration": 19,
    "start_time": "2022-09-12T14:36:14.441Z"
   },
   {
    "duration": 4,
    "start_time": "2022-09-12T14:36:15.163Z"
   },
   {
    "duration": 14,
    "start_time": "2022-09-12T14:36:15.344Z"
   },
   {
    "duration": 17,
    "start_time": "2022-09-12T14:36:15.511Z"
   },
   {
    "duration": 7,
    "start_time": "2022-09-12T14:36:16.253Z"
   },
   {
    "duration": 7,
    "start_time": "2022-09-12T14:36:16.443Z"
   },
   {
    "duration": 17,
    "start_time": "2022-09-12T14:36:16.652Z"
   },
   {
    "duration": 9,
    "start_time": "2022-09-12T14:36:17.044Z"
   },
   {
    "duration": 14,
    "start_time": "2022-09-12T14:36:17.439Z"
   },
   {
    "duration": 9,
    "start_time": "2022-09-12T14:36:18.164Z"
   },
   {
    "duration": 19,
    "start_time": "2022-09-12T14:36:20.746Z"
   },
   {
    "duration": 85,
    "start_time": "2022-09-12T14:38:26.261Z"
   },
   {
    "duration": 137,
    "start_time": "2022-09-12T14:38:34.779Z"
   },
   {
    "duration": 13,
    "start_time": "2022-09-12T14:39:46.574Z"
   },
   {
    "duration": 8,
    "start_time": "2022-09-12T14:40:19.198Z"
   },
   {
    "duration": 96,
    "start_time": "2022-09-12T14:40:45.091Z"
   },
   {
    "duration": 312,
    "start_time": "2022-09-12T14:41:18.553Z"
   },
   {
    "duration": 101,
    "start_time": "2022-09-12T14:41:28.320Z"
   },
   {
    "duration": 1659,
    "start_time": "2022-09-12T14:47:38.979Z"
   },
   {
    "duration": 1343,
    "start_time": "2022-09-12T14:48:05.248Z"
   },
   {
    "duration": 1609,
    "start_time": "2022-09-12T14:48:22.361Z"
   },
   {
    "duration": 1194,
    "start_time": "2022-09-12T14:48:42.160Z"
   },
   {
    "duration": 1305,
    "start_time": "2022-09-12T14:48:53.460Z"
   },
   {
    "duration": 322,
    "start_time": "2022-09-12T14:49:02.969Z"
   },
   {
    "duration": 84,
    "start_time": "2022-09-12T14:49:09.788Z"
   },
   {
    "duration": 14,
    "start_time": "2022-09-12T14:50:10.640Z"
   },
   {
    "duration": 9,
    "start_time": "2022-09-12T14:50:26.073Z"
   },
   {
    "duration": 82,
    "start_time": "2022-09-12T14:51:55.356Z"
   },
   {
    "duration": 8,
    "start_time": "2022-09-12T14:58:21.546Z"
   },
   {
    "duration": 1313,
    "start_time": "2022-09-12T14:58:27.894Z"
   },
   {
    "duration": 1211,
    "start_time": "2022-09-12T14:59:53.355Z"
   },
   {
    "duration": 5,
    "start_time": "2022-09-12T15:01:59.491Z"
   },
   {
    "duration": 6,
    "start_time": "2022-09-12T15:02:17.149Z"
   },
   {
    "duration": 18,
    "start_time": "2022-09-12T15:02:29.401Z"
   },
   {
    "duration": 20,
    "start_time": "2022-09-12T15:03:52.081Z"
   },
   {
    "duration": 6,
    "start_time": "2022-09-12T15:07:10.006Z"
   },
   {
    "duration": 413,
    "start_time": "2022-09-12T15:07:17.721Z"
   },
   {
    "duration": 15,
    "start_time": "2022-09-12T15:11:06.214Z"
   },
   {
    "duration": 516,
    "start_time": "2022-09-12T15:11:06.231Z"
   },
   {
    "duration": 10,
    "start_time": "2022-09-12T15:11:36.106Z"
   },
   {
    "duration": 197,
    "start_time": "2022-09-12T15:12:22.660Z"
   },
   {
    "duration": 209,
    "start_time": "2022-09-12T15:12:39.107Z"
   },
   {
    "duration": 6,
    "start_time": "2022-09-12T15:14:39.465Z"
   },
   {
    "duration": 5,
    "start_time": "2022-09-12T15:14:43.742Z"
   },
   {
    "duration": 8,
    "start_time": "2022-09-12T15:14:53.139Z"
   },
   {
    "duration": 9,
    "start_time": "2022-09-12T15:52:29.511Z"
   },
   {
    "duration": 4,
    "start_time": "2022-09-12T15:52:48.116Z"
   },
   {
    "duration": 76,
    "start_time": "2022-09-12T15:53:23.998Z"
   },
   {
    "duration": 45,
    "start_time": "2022-09-12T15:53:30.731Z"
   },
   {
    "duration": 18,
    "start_time": "2022-09-12T15:53:37.302Z"
   },
   {
    "duration": 5,
    "start_time": "2022-09-12T15:53:45.251Z"
   },
   {
    "duration": 5,
    "start_time": "2022-09-12T15:54:06.007Z"
   },
   {
    "duration": 23,
    "start_time": "2022-09-12T15:54:17.241Z"
   },
   {
    "duration": 4,
    "start_time": "2022-09-12T15:55:04.089Z"
   },
   {
    "duration": 5,
    "start_time": "2022-09-12T15:55:25.241Z"
   },
   {
    "duration": 7,
    "start_time": "2022-09-12T15:55:51.106Z"
   },
   {
    "duration": 13,
    "start_time": "2022-09-12T15:56:12.334Z"
   },
   {
    "duration": 8,
    "start_time": "2022-09-12T15:56:17.293Z"
   },
   {
    "duration": 10,
    "start_time": "2022-09-12T15:57:44.161Z"
   },
   {
    "duration": 27,
    "start_time": "2022-09-12T15:57:50.201Z"
   },
   {
    "duration": 24,
    "start_time": "2022-09-12T15:58:12.422Z"
   },
   {
    "duration": 5,
    "start_time": "2022-09-12T15:58:23.896Z"
   },
   {
    "duration": 8,
    "start_time": "2022-09-12T15:58:36.551Z"
   },
   {
    "duration": 9,
    "start_time": "2022-09-12T16:01:04.127Z"
   },
   {
    "duration": 7,
    "start_time": "2022-09-12T16:02:17.029Z"
   },
   {
    "duration": 8,
    "start_time": "2022-09-12T16:02:28.473Z"
   },
   {
    "duration": 12,
    "start_time": "2022-09-12T16:03:27.375Z"
   },
   {
    "duration": 111,
    "start_time": "2022-09-12T16:03:35.803Z"
   },
   {
    "duration": 8,
    "start_time": "2022-09-12T16:03:43.554Z"
   },
   {
    "duration": 11,
    "start_time": "2022-09-12T16:04:28.519Z"
   },
   {
    "duration": 8,
    "start_time": "2022-09-12T16:12:49.076Z"
   },
   {
    "duration": 10,
    "start_time": "2022-09-12T16:13:13.497Z"
   },
   {
    "duration": 11,
    "start_time": "2022-09-12T16:13:50.109Z"
   },
   {
    "duration": 11,
    "start_time": "2022-09-12T16:14:17.300Z"
   },
   {
    "duration": 16,
    "start_time": "2022-09-12T16:15:53.489Z"
   },
   {
    "duration": 5,
    "start_time": "2022-09-12T16:16:41.793Z"
   },
   {
    "duration": 6,
    "start_time": "2022-09-12T16:16:54.751Z"
   },
   {
    "duration": 10,
    "start_time": "2022-09-12T16:17:11.356Z"
   },
   {
    "duration": 5,
    "start_time": "2022-09-12T16:17:20.346Z"
   },
   {
    "duration": 171,
    "start_time": "2022-09-12T16:18:47.370Z"
   },
   {
    "duration": 188,
    "start_time": "2022-09-12T16:19:22.911Z"
   },
   {
    "duration": 137,
    "start_time": "2022-09-12T16:21:12.475Z"
   },
   {
    "duration": 140,
    "start_time": "2022-09-12T16:22:46.734Z"
   },
   {
    "duration": 1630,
    "start_time": "2022-09-12T16:25:07.209Z"
   },
   {
    "duration": 13,
    "start_time": "2022-09-12T16:25:35.987Z"
   },
   {
    "duration": 10,
    "start_time": "2022-09-12T16:26:38.929Z"
   },
   {
    "duration": 34,
    "start_time": "2022-09-12T16:28:59.463Z"
   },
   {
    "duration": 2360,
    "start_time": "2022-09-12T16:29:54.244Z"
   },
   {
    "duration": 168,
    "start_time": "2022-09-12T16:33:18.916Z"
   },
   {
    "duration": 320,
    "start_time": "2022-09-12T16:33:23.304Z"
   },
   {
    "duration": 13,
    "start_time": "2022-09-12T16:33:42.241Z"
   },
   {
    "duration": 17,
    "start_time": "2022-09-12T16:33:53.692Z"
   },
   {
    "duration": 23,
    "start_time": "2022-09-12T16:34:32.197Z"
   },
   {
    "duration": 15,
    "start_time": "2022-09-12T16:34:39.352Z"
   },
   {
    "duration": 9,
    "start_time": "2022-09-12T16:35:01.486Z"
   },
   {
    "duration": 10,
    "start_time": "2022-09-12T16:35:05.367Z"
   },
   {
    "duration": 473,
    "start_time": "2022-09-12T16:35:12.507Z"
   },
   {
    "duration": 562,
    "start_time": "2022-09-12T16:35:26.707Z"
   },
   {
    "duration": 584,
    "start_time": "2022-09-12T16:35:44.024Z"
   },
   {
    "duration": 571,
    "start_time": "2022-09-12T16:36:55.320Z"
   },
   {
    "duration": 6,
    "start_time": "2022-09-12T16:38:12.321Z"
   },
   {
    "duration": 345,
    "start_time": "2022-09-12T16:38:21.587Z"
   },
   {
    "duration": 10,
    "start_time": "2022-09-12T16:40:20.918Z"
   },
   {
    "duration": 126,
    "start_time": "2022-09-12T16:40:50.812Z"
   },
   {
    "duration": 420,
    "start_time": "2022-09-12T16:40:59.455Z"
   },
   {
    "duration": 79,
    "start_time": "2022-09-12T16:42:21.627Z"
   },
   {
    "duration": 18,
    "start_time": "2022-09-12T16:42:33.142Z"
   },
   {
    "duration": 3118,
    "start_time": "2022-09-12T16:42:47.270Z"
   },
   {
    "duration": 585,
    "start_time": "2022-09-12T16:43:10.554Z"
   },
   {
    "duration": 501,
    "start_time": "2022-09-12T16:46:22.609Z"
   },
   {
    "duration": 12,
    "start_time": "2022-09-12T16:47:15.937Z"
   },
   {
    "duration": 12,
    "start_time": "2022-09-12T16:47:39.961Z"
   },
   {
    "duration": 4,
    "start_time": "2022-09-12T16:48:59.322Z"
   },
   {
    "duration": 133,
    "start_time": "2022-09-12T16:49:05.724Z"
   },
   {
    "duration": 9,
    "start_time": "2022-09-12T16:49:59.876Z"
   },
   {
    "duration": 165,
    "start_time": "2022-09-12T16:50:11.858Z"
   },
   {
    "duration": 17,
    "start_time": "2022-09-12T16:50:41.629Z"
   },
   {
    "duration": 415,
    "start_time": "2022-09-12T16:50:53.880Z"
   },
   {
    "duration": 139,
    "start_time": "2022-09-12T16:52:06.457Z"
   },
   {
    "duration": 257,
    "start_time": "2022-09-12T16:53:12.040Z"
   },
   {
    "duration": 120,
    "start_time": "2022-09-12T16:53:36.250Z"
   },
   {
    "duration": 10,
    "start_time": "2022-09-12T16:53:49.072Z"
   },
   {
    "duration": 12,
    "start_time": "2022-09-12T16:54:00.106Z"
   },
   {
    "duration": 9,
    "start_time": "2022-09-12T16:54:21.968Z"
   },
   {
    "duration": 1521,
    "start_time": "2022-09-12T16:55:10.367Z"
   },
   {
    "duration": 281,
    "start_time": "2022-09-12T16:55:37.721Z"
   },
   {
    "duration": 67,
    "start_time": "2022-09-12T16:56:11.417Z"
   },
   {
    "duration": 404,
    "start_time": "2022-09-12T16:56:41.423Z"
   },
   {
    "duration": 50,
    "start_time": "2022-09-12T16:57:04.558Z"
   },
   {
    "duration": 8,
    "start_time": "2022-09-12T16:58:33.168Z"
   },
   {
    "duration": 3,
    "start_time": "2022-09-12T17:00:21.196Z"
   },
   {
    "duration": 6,
    "start_time": "2022-09-12T17:00:39.475Z"
   },
   {
    "duration": 156,
    "start_time": "2022-09-12T17:01:42.259Z"
   },
   {
    "duration": 11,
    "start_time": "2022-09-12T17:01:52.085Z"
   },
   {
    "duration": 170,
    "start_time": "2022-09-12T17:04:33.418Z"
   },
   {
    "duration": 50,
    "start_time": "2022-09-12T17:09:05.111Z"
   },
   {
    "duration": 16,
    "start_time": "2022-09-12T17:11:16.348Z"
   },
   {
    "duration": 20,
    "start_time": "2022-09-12T17:12:29.661Z"
   },
   {
    "duration": 1161,
    "start_time": "2022-09-12T17:15:32.456Z"
   },
   {
    "duration": 51,
    "start_time": "2022-09-12T17:15:33.619Z"
   },
   {
    "duration": 31,
    "start_time": "2022-09-12T17:15:33.672Z"
   },
   {
    "duration": 16,
    "start_time": "2022-09-12T17:15:33.705Z"
   },
   {
    "duration": 3,
    "start_time": "2022-09-12T17:15:33.723Z"
   },
   {
    "duration": 15,
    "start_time": "2022-09-12T17:15:33.727Z"
   },
   {
    "duration": 17,
    "start_time": "2022-09-12T17:15:33.743Z"
   },
   {
    "duration": 13,
    "start_time": "2022-09-12T17:15:33.762Z"
   },
   {
    "duration": 8,
    "start_time": "2022-09-12T17:15:33.776Z"
   },
   {
    "duration": 26,
    "start_time": "2022-09-12T17:15:33.786Z"
   },
   {
    "duration": 9,
    "start_time": "2022-09-12T17:15:33.822Z"
   },
   {
    "duration": 15,
    "start_time": "2022-09-12T17:15:33.833Z"
   },
   {
    "duration": 9,
    "start_time": "2022-09-12T17:15:33.849Z"
   },
   {
    "duration": 21,
    "start_time": "2022-09-12T17:15:33.859Z"
   },
   {
    "duration": 6,
    "start_time": "2022-09-12T17:15:33.882Z"
   },
   {
    "duration": 238,
    "start_time": "2022-09-12T17:15:33.921Z"
   },
   {
    "duration": 8,
    "start_time": "2022-09-12T17:15:34.160Z"
   },
   {
    "duration": 222,
    "start_time": "2022-09-12T17:15:34.169Z"
   },
   {
    "duration": 3,
    "start_time": "2022-09-12T17:15:34.392Z"
   },
   {
    "duration": 282,
    "start_time": "2022-09-12T17:16:19.448Z"
   },
   {
    "duration": 31,
    "start_time": "2022-09-12T17:19:14.912Z"
   },
   {
    "duration": 7,
    "start_time": "2022-09-12T17:19:29.994Z"
   },
   {
    "duration": 18,
    "start_time": "2022-09-12T17:21:16.351Z"
   },
   {
    "duration": 224,
    "start_time": "2022-09-12T17:25:38.001Z"
   },
   {
    "duration": 111,
    "start_time": "2022-09-12T17:26:15.418Z"
   },
   {
    "duration": 20,
    "start_time": "2022-09-12T17:26:31.513Z"
   },
   {
    "duration": 12,
    "start_time": "2022-09-12T17:27:00.586Z"
   },
   {
    "duration": 15,
    "start_time": "2022-09-12T17:28:01.189Z"
   },
   {
    "duration": 13,
    "start_time": "2022-09-12T17:28:11.965Z"
   },
   {
    "duration": 1216,
    "start_time": "2022-09-13T07:40:12.211Z"
   },
   {
    "duration": 89,
    "start_time": "2022-09-13T07:40:13.430Z"
   },
   {
    "duration": 34,
    "start_time": "2022-09-13T07:40:13.520Z"
   },
   {
    "duration": 52,
    "start_time": "2022-09-13T07:40:13.555Z"
   },
   {
    "duration": 22,
    "start_time": "2022-09-13T07:40:13.609Z"
   },
   {
    "duration": 29,
    "start_time": "2022-09-13T07:40:13.633Z"
   },
   {
    "duration": 31,
    "start_time": "2022-09-13T07:40:13.664Z"
   },
   {
    "duration": 34,
    "start_time": "2022-09-13T07:40:13.696Z"
   },
   {
    "duration": 26,
    "start_time": "2022-09-13T07:40:13.732Z"
   },
   {
    "duration": 36,
    "start_time": "2022-09-13T07:40:13.760Z"
   },
   {
    "duration": 15,
    "start_time": "2022-09-13T07:40:13.798Z"
   },
   {
    "duration": 40,
    "start_time": "2022-09-13T07:40:13.815Z"
   },
   {
    "duration": 32,
    "start_time": "2022-09-13T07:40:13.856Z"
   },
   {
    "duration": 55,
    "start_time": "2022-09-13T07:40:13.889Z"
   },
   {
    "duration": 7,
    "start_time": "2022-09-13T07:40:13.945Z"
   },
   {
    "duration": 203,
    "start_time": "2022-09-13T07:40:13.953Z"
   },
   {
    "duration": 7,
    "start_time": "2022-09-13T07:40:14.157Z"
   },
   {
    "duration": 262,
    "start_time": "2022-09-13T07:40:14.165Z"
   },
   {
    "duration": 2,
    "start_time": "2022-09-13T07:40:14.429Z"
   },
   {
    "duration": 39,
    "start_time": "2022-09-13T07:40:14.432Z"
   },
   {
    "duration": 101,
    "start_time": "2022-09-13T07:40:14.472Z"
   },
   {
    "duration": 3,
    "start_time": "2022-09-13T07:41:07.124Z"
   },
   {
    "duration": 17647,
    "start_time": "2022-09-13T07:41:08.558Z"
   },
   {
    "duration": 3,
    "start_time": "2022-09-13T07:41:32.743Z"
   },
   {
    "duration": 2340,
    "start_time": "2022-09-13T07:41:35.207Z"
   },
   {
    "duration": 4,
    "start_time": "2022-09-13T07:41:49.161Z"
   },
   {
    "duration": 171,
    "start_time": "2022-09-13T07:41:52.072Z"
   },
   {
    "duration": 220,
    "start_time": "2022-09-13T07:43:15.602Z"
   },
   {
    "duration": 1791,
    "start_time": "2022-09-13T07:44:23.832Z"
   },
   {
    "duration": 10,
    "start_time": "2022-09-13T07:45:01.998Z"
   },
   {
    "duration": 10,
    "start_time": "2022-09-13T07:45:18.685Z"
   },
   {
    "duration": 4,
    "start_time": "2022-09-13T07:45:27.162Z"
   },
   {
    "duration": 11,
    "start_time": "2022-09-13T07:45:28.185Z"
   },
   {
    "duration": 798,
    "start_time": "2022-09-13T07:45:57.780Z"
   },
   {
    "duration": 166,
    "start_time": "2022-09-13T07:46:11.645Z"
   },
   {
    "duration": 157,
    "start_time": "2022-09-13T07:46:24.803Z"
   },
   {
    "duration": 211,
    "start_time": "2022-09-13T07:46:35.410Z"
   },
   {
    "duration": 209,
    "start_time": "2022-09-13T07:46:49.804Z"
   },
   {
    "duration": 268,
    "start_time": "2022-09-13T07:47:08.660Z"
   },
   {
    "duration": 257,
    "start_time": "2022-09-13T07:47:45.639Z"
   },
   {
    "duration": 270,
    "start_time": "2022-09-13T07:48:52.132Z"
   },
   {
    "duration": 609,
    "start_time": "2022-09-13T07:49:03.410Z"
   },
   {
    "duration": 822,
    "start_time": "2022-09-13T07:49:34.708Z"
   },
   {
    "duration": 928,
    "start_time": "2022-09-13T07:49:49.270Z"
   },
   {
    "duration": 11,
    "start_time": "2022-09-13T07:53:58.972Z"
   },
   {
    "duration": 394,
    "start_time": "2022-09-13T07:56:21.794Z"
   },
   {
    "duration": 13,
    "start_time": "2022-09-13T07:56:42.379Z"
   },
   {
    "duration": 117,
    "start_time": "2022-09-13T07:57:56.759Z"
   },
   {
    "duration": 100,
    "start_time": "2022-09-13T07:58:06.481Z"
   },
   {
    "duration": 12,
    "start_time": "2022-09-13T07:58:51.843Z"
   },
   {
    "duration": 126,
    "start_time": "2022-09-13T07:59:21.691Z"
   },
   {
    "duration": 138,
    "start_time": "2022-09-13T07:59:41.326Z"
   },
   {
    "duration": 12,
    "start_time": "2022-09-13T08:00:26.947Z"
   },
   {
    "duration": 148,
    "start_time": "2022-09-13T08:00:48.771Z"
   },
   {
    "duration": 133,
    "start_time": "2022-09-13T08:08:20.988Z"
   },
   {
    "duration": 114,
    "start_time": "2022-09-13T08:08:41.755Z"
   },
   {
    "duration": 132,
    "start_time": "2022-09-13T08:08:48.316Z"
   },
   {
    "duration": 125,
    "start_time": "2022-09-13T08:09:11.360Z"
   },
   {
    "duration": 216,
    "start_time": "2022-09-13T08:10:15.589Z"
   },
   {
    "duration": 1010,
    "start_time": "2022-09-13T08:11:08.902Z"
   },
   {
    "duration": 1498,
    "start_time": "2022-09-13T08:12:08.237Z"
   },
   {
    "duration": 3,
    "start_time": "2022-09-13T08:17:24.132Z"
   },
   {
    "duration": 17,
    "start_time": "2022-09-13T08:19:21.688Z"
   },
   {
    "duration": 15,
    "start_time": "2022-09-13T08:19:43.498Z"
   },
   {
    "duration": 14,
    "start_time": "2022-09-13T08:19:53.968Z"
   },
   {
    "duration": 14,
    "start_time": "2022-09-13T08:20:04.690Z"
   },
   {
    "duration": 43,
    "start_time": "2022-09-13T08:20:39.261Z"
   },
   {
    "duration": 1144,
    "start_time": "2022-09-13T08:20:46.501Z"
   },
   {
    "duration": 49,
    "start_time": "2022-09-13T08:20:47.647Z"
   },
   {
    "duration": 38,
    "start_time": "2022-09-13T08:20:47.698Z"
   },
   {
    "duration": 15,
    "start_time": "2022-09-13T08:20:47.739Z"
   },
   {
    "duration": 3,
    "start_time": "2022-09-13T08:20:47.755Z"
   },
   {
    "duration": 15,
    "start_time": "2022-09-13T08:20:47.760Z"
   },
   {
    "duration": 14,
    "start_time": "2022-09-13T08:20:47.777Z"
   },
   {
    "duration": 30,
    "start_time": "2022-09-13T08:20:47.792Z"
   },
   {
    "duration": 15,
    "start_time": "2022-09-13T08:20:47.824Z"
   },
   {
    "duration": 15,
    "start_time": "2022-09-13T08:20:47.842Z"
   },
   {
    "duration": 10,
    "start_time": "2022-09-13T08:20:47.859Z"
   },
   {
    "duration": 13,
    "start_time": "2022-09-13T08:20:47.871Z"
   },
   {
    "duration": 41,
    "start_time": "2022-09-13T08:20:47.886Z"
   },
   {
    "duration": 26,
    "start_time": "2022-09-13T08:20:47.929Z"
   },
   {
    "duration": 9,
    "start_time": "2022-09-13T08:20:47.957Z"
   },
   {
    "duration": 248,
    "start_time": "2022-09-13T08:20:47.967Z"
   },
   {
    "duration": 6,
    "start_time": "2022-09-13T08:20:48.216Z"
   },
   {
    "duration": 325,
    "start_time": "2022-09-13T08:20:48.224Z"
   },
   {
    "duration": 3,
    "start_time": "2022-09-13T08:20:48.550Z"
   },
   {
    "duration": 22,
    "start_time": "2022-09-13T08:20:48.555Z"
   },
   {
    "duration": 140,
    "start_time": "2022-09-13T08:20:48.578Z"
   },
   {
    "duration": 6,
    "start_time": "2022-09-13T08:20:48.719Z"
   },
   {
    "duration": 607,
    "start_time": "2022-09-13T08:21:53.863Z"
   },
   {
    "duration": 6,
    "start_time": "2022-09-13T08:22:01.641Z"
   },
   {
    "duration": 88,
    "start_time": "2022-09-13T08:23:02.706Z"
   },
   {
    "duration": 10,
    "start_time": "2022-09-13T08:23:30.272Z"
   },
   {
    "duration": 12,
    "start_time": "2022-09-13T08:24:09.935Z"
   },
   {
    "duration": 9,
    "start_time": "2022-09-13T08:24:46.634Z"
   },
   {
    "duration": 10,
    "start_time": "2022-09-13T08:25:25.016Z"
   },
   {
    "duration": 11,
    "start_time": "2022-09-13T08:25:34.579Z"
   },
   {
    "duration": 15,
    "start_time": "2022-09-13T08:26:23.041Z"
   },
   {
    "duration": 12,
    "start_time": "2022-09-13T08:26:31.358Z"
   },
   {
    "duration": 942,
    "start_time": "2022-09-13T08:26:34.244Z"
   },
   {
    "duration": 1307,
    "start_time": "2022-09-13T08:27:24.435Z"
   },
   {
    "duration": 23,
    "start_time": "2022-09-13T08:27:44.361Z"
   },
   {
    "duration": 24,
    "start_time": "2022-09-13T08:28:35.895Z"
   },
   {
    "duration": 998,
    "start_time": "2022-09-13T08:28:40.090Z"
   },
   {
    "duration": 1371,
    "start_time": "2022-09-13T08:29:03.189Z"
   },
   {
    "duration": 1174,
    "start_time": "2022-09-13T08:29:20.773Z"
   },
   {
    "duration": 12,
    "start_time": "2022-09-13T08:30:34.351Z"
   },
   {
    "duration": 23,
    "start_time": "2022-09-13T08:30:46.893Z"
   },
   {
    "duration": 38,
    "start_time": "2022-09-13T08:31:46.966Z"
   },
   {
    "duration": 24,
    "start_time": "2022-09-13T08:31:56.932Z"
   },
   {
    "duration": 10,
    "start_time": "2022-09-13T08:33:42.244Z"
   },
   {
    "duration": 5,
    "start_time": "2022-09-13T08:34:00.797Z"
   },
   {
    "duration": 243,
    "start_time": "2022-09-13T08:34:05.831Z"
   },
   {
    "duration": 235,
    "start_time": "2022-09-13T08:34:32.642Z"
   },
   {
    "duration": 238,
    "start_time": "2022-09-13T08:34:51.314Z"
   },
   {
    "duration": 5,
    "start_time": "2022-09-13T08:35:07.891Z"
   },
   {
    "duration": 356,
    "start_time": "2022-09-13T08:35:08.733Z"
   },
   {
    "duration": 4,
    "start_time": "2022-09-13T08:36:21.652Z"
   },
   {
    "duration": 239,
    "start_time": "2022-09-13T08:36:22.633Z"
   },
   {
    "duration": 5,
    "start_time": "2022-09-13T08:37:08.545Z"
   },
   {
    "duration": 112,
    "start_time": "2022-09-13T08:37:16.194Z"
   },
   {
    "duration": 10,
    "start_time": "2022-09-13T08:39:25.571Z"
   },
   {
    "duration": 10,
    "start_time": "2022-09-13T08:39:39.395Z"
   },
   {
    "duration": 308,
    "start_time": "2022-09-13T08:39:48.763Z"
   },
   {
    "duration": 11,
    "start_time": "2022-09-13T08:40:56.594Z"
   },
   {
    "duration": 6,
    "start_time": "2022-09-13T08:41:18.749Z"
   },
   {
    "duration": 368,
    "start_time": "2022-09-13T08:41:22.195Z"
   },
   {
    "duration": 327,
    "start_time": "2022-09-13T08:41:58.890Z"
   },
   {
    "duration": 3,
    "start_time": "2022-09-13T13:39:06.246Z"
   },
   {
    "duration": 49,
    "start_time": "2022-09-13T13:39:06.251Z"
   },
   {
    "duration": 29,
    "start_time": "2022-09-13T13:39:06.301Z"
   },
   {
    "duration": 15,
    "start_time": "2022-09-13T13:39:06.331Z"
   },
   {
    "duration": 7,
    "start_time": "2022-09-13T13:39:06.348Z"
   },
   {
    "duration": 15,
    "start_time": "2022-09-13T13:39:06.356Z"
   },
   {
    "duration": 13,
    "start_time": "2022-09-13T13:39:06.372Z"
   },
   {
    "duration": 5,
    "start_time": "2022-09-13T13:39:06.386Z"
   },
   {
    "duration": 31,
    "start_time": "2022-09-13T13:39:06.392Z"
   },
   {
    "duration": 14,
    "start_time": "2022-09-13T13:39:06.424Z"
   },
   {
    "duration": 7,
    "start_time": "2022-09-13T13:39:06.440Z"
   },
   {
    "duration": 12,
    "start_time": "2022-09-13T13:39:06.449Z"
   },
   {
    "duration": 7,
    "start_time": "2022-09-13T13:39:06.463Z"
   },
   {
    "duration": 16,
    "start_time": "2022-09-13T13:39:06.473Z"
   },
   {
    "duration": 32,
    "start_time": "2022-09-13T13:39:06.491Z"
   },
   {
    "duration": 203,
    "start_time": "2022-09-13T13:39:06.525Z"
   },
   {
    "duration": 6,
    "start_time": "2022-09-13T13:39:06.729Z"
   },
   {
    "duration": 378,
    "start_time": "2022-09-13T13:39:06.736Z"
   },
   {
    "duration": 270,
    "start_time": "2022-09-13T13:39:07.121Z"
   },
   {
    "duration": 18,
    "start_time": "2022-09-13T13:39:07.392Z"
   },
   {
    "duration": 29,
    "start_time": "2022-09-13T13:39:07.412Z"
   },
   {
    "duration": 963,
    "start_time": "2022-09-13T13:39:07.442Z"
   },
   {
    "duration": 232,
    "start_time": "2022-09-13T13:39:31.672Z"
   },
   {
    "duration": 298,
    "start_time": "2022-09-13T13:39:58.255Z"
   },
   {
    "duration": 13,
    "start_time": "2022-09-13T13:42:10.551Z"
   },
   {
    "duration": 9,
    "start_time": "2022-09-13T13:42:17.548Z"
   },
   {
    "duration": 273,
    "start_time": "2022-09-13T13:42:31.366Z"
   },
   {
    "duration": 250,
    "start_time": "2022-09-13T13:42:58.936Z"
   },
   {
    "duration": 321,
    "start_time": "2022-09-13T13:43:45.976Z"
   },
   {
    "duration": 19,
    "start_time": "2022-09-13T13:44:01.648Z"
   },
   {
    "duration": 299,
    "start_time": "2022-09-13T13:44:11.878Z"
   },
   {
    "duration": 14,
    "start_time": "2022-09-13T13:44:53.865Z"
   },
   {
    "duration": 14,
    "start_time": "2022-09-13T13:45:09.380Z"
   },
   {
    "duration": 2,
    "start_time": "2022-09-13T13:45:43.157Z"
   },
   {
    "duration": 53,
    "start_time": "2022-09-13T13:45:43.161Z"
   },
   {
    "duration": 27,
    "start_time": "2022-09-13T13:45:43.216Z"
   },
   {
    "duration": 15,
    "start_time": "2022-09-13T13:45:43.244Z"
   },
   {
    "duration": 3,
    "start_time": "2022-09-13T13:45:43.261Z"
   },
   {
    "duration": 17,
    "start_time": "2022-09-13T13:45:43.266Z"
   },
   {
    "duration": 17,
    "start_time": "2022-09-13T13:45:43.284Z"
   },
   {
    "duration": 20,
    "start_time": "2022-09-13T13:45:43.302Z"
   },
   {
    "duration": 9,
    "start_time": "2022-09-13T13:45:43.323Z"
   },
   {
    "duration": 22,
    "start_time": "2022-09-13T13:45:43.333Z"
   },
   {
    "duration": 8,
    "start_time": "2022-09-13T13:45:43.358Z"
   },
   {
    "duration": 8,
    "start_time": "2022-09-13T13:45:43.367Z"
   },
   {
    "duration": 7,
    "start_time": "2022-09-13T13:45:43.376Z"
   },
   {
    "duration": 38,
    "start_time": "2022-09-13T13:45:43.384Z"
   },
   {
    "duration": 7,
    "start_time": "2022-09-13T13:45:43.424Z"
   },
   {
    "duration": 200,
    "start_time": "2022-09-13T13:45:43.433Z"
   },
   {
    "duration": 12,
    "start_time": "2022-09-13T13:45:43.635Z"
   },
   {
    "duration": 570,
    "start_time": "2022-09-13T13:45:43.649Z"
   },
   {
    "duration": 1385,
    "start_time": "2022-09-13T13:45:44.221Z"
   },
   {
    "duration": 0,
    "start_time": "2022-09-13T13:45:45.608Z"
   },
   {
    "duration": 0,
    "start_time": "2022-09-13T13:45:45.609Z"
   },
   {
    "duration": 0,
    "start_time": "2022-09-13T13:45:45.610Z"
   },
   {
    "duration": 608,
    "start_time": "2022-09-13T13:47:22.160Z"
   },
   {
    "duration": 615,
    "start_time": "2022-09-13T13:47:37.307Z"
   },
   {
    "duration": 473,
    "start_time": "2022-09-13T13:47:47.588Z"
   },
   {
    "duration": 13,
    "start_time": "2022-09-13T13:48:00.165Z"
   },
   {
    "duration": 633,
    "start_time": "2022-09-13T13:48:01.046Z"
   },
   {
    "duration": 745,
    "start_time": "2022-09-13T13:50:03.994Z"
   },
   {
    "duration": 2249,
    "start_time": "2022-09-13T13:50:48.805Z"
   },
   {
    "duration": 3695,
    "start_time": "2022-09-13T13:51:17.079Z"
   },
   {
    "duration": 10,
    "start_time": "2022-09-13T13:53:02.842Z"
   },
   {
    "duration": 10,
    "start_time": "2022-09-13T13:53:11.941Z"
   },
   {
    "duration": 9,
    "start_time": "2022-09-13T13:53:15.757Z"
   },
   {
    "duration": 761,
    "start_time": "2022-09-13T13:53:58.013Z"
   },
   {
    "duration": 714,
    "start_time": "2022-09-13T13:54:25.048Z"
   },
   {
    "duration": 533,
    "start_time": "2022-09-13T13:55:11.852Z"
   },
   {
    "duration": 668,
    "start_time": "2022-09-13T13:56:04.010Z"
   },
   {
    "duration": 12,
    "start_time": "2022-09-13T13:56:47.954Z"
   },
   {
    "duration": 12,
    "start_time": "2022-09-13T13:57:12.342Z"
   },
   {
    "duration": 693,
    "start_time": "2022-09-13T13:57:37.562Z"
   },
   {
    "duration": 674,
    "start_time": "2022-09-13T13:57:54.151Z"
   },
   {
    "duration": 16,
    "start_time": "2022-09-13T13:58:56.590Z"
   },
   {
    "duration": 13,
    "start_time": "2022-09-13T13:59:08.744Z"
   },
   {
    "duration": 14,
    "start_time": "2022-09-13T13:59:30.239Z"
   },
   {
    "duration": 13,
    "start_time": "2022-09-13T13:59:49.777Z"
   },
   {
    "duration": 460,
    "start_time": "2022-09-13T14:01:30.144Z"
   },
   {
    "duration": 1153,
    "start_time": "2022-09-13T14:03:58.805Z"
   },
   {
    "duration": 1068,
    "start_time": "2022-09-13T14:08:35.233Z"
   },
   {
    "duration": 100,
    "start_time": "2022-09-13T14:13:18.833Z"
   },
   {
    "duration": 193,
    "start_time": "2022-09-13T14:13:42.679Z"
   },
   {
    "duration": 3,
    "start_time": "2022-09-13T14:14:13.406Z"
   },
   {
    "duration": 54,
    "start_time": "2022-09-13T14:14:13.411Z"
   },
   {
    "duration": 30,
    "start_time": "2022-09-13T14:14:13.466Z"
   },
   {
    "duration": 17,
    "start_time": "2022-09-13T14:14:13.497Z"
   },
   {
    "duration": 8,
    "start_time": "2022-09-13T14:14:13.516Z"
   },
   {
    "duration": 24,
    "start_time": "2022-09-13T14:14:13.525Z"
   },
   {
    "duration": 13,
    "start_time": "2022-09-13T14:14:13.551Z"
   },
   {
    "duration": 4,
    "start_time": "2022-09-13T14:14:13.566Z"
   },
   {
    "duration": 12,
    "start_time": "2022-09-13T14:14:13.571Z"
   },
   {
    "duration": 14,
    "start_time": "2022-09-13T14:14:13.585Z"
   },
   {
    "duration": 16,
    "start_time": "2022-09-13T14:14:13.601Z"
   },
   {
    "duration": 8,
    "start_time": "2022-09-13T14:14:13.618Z"
   },
   {
    "duration": 10,
    "start_time": "2022-09-13T14:14:13.628Z"
   },
   {
    "duration": 26,
    "start_time": "2022-09-13T14:14:13.639Z"
   },
   {
    "duration": 7,
    "start_time": "2022-09-13T14:14:13.666Z"
   },
   {
    "duration": 205,
    "start_time": "2022-09-13T14:14:13.674Z"
   },
   {
    "duration": 12,
    "start_time": "2022-09-13T14:14:13.881Z"
   },
   {
    "duration": 1071,
    "start_time": "2022-09-13T14:14:13.894Z"
   },
   {
    "duration": 429,
    "start_time": "2022-09-13T14:14:14.967Z"
   },
   {
    "duration": 0,
    "start_time": "2022-09-13T14:14:15.398Z"
   },
   {
    "duration": 0,
    "start_time": "2022-09-13T14:14:15.399Z"
   },
   {
    "duration": 0,
    "start_time": "2022-09-13T14:14:15.400Z"
   },
   {
    "duration": 0,
    "start_time": "2022-09-13T14:14:15.401Z"
   },
   {
    "duration": 193,
    "start_time": "2022-09-13T14:14:24.826Z"
   },
   {
    "duration": 197,
    "start_time": "2022-09-13T14:15:50.790Z"
   },
   {
    "duration": 1033,
    "start_time": "2022-09-13T14:16:33.044Z"
   },
   {
    "duration": 9,
    "start_time": "2022-09-13T14:16:47.508Z"
   },
   {
    "duration": 1028,
    "start_time": "2022-09-13T14:16:52.058Z"
   },
   {
    "duration": 190,
    "start_time": "2022-09-13T14:17:10.833Z"
   },
   {
    "duration": 13,
    "start_time": "2022-09-13T14:18:34.769Z"
   },
   {
    "duration": 11,
    "start_time": "2022-09-13T14:18:58.537Z"
   },
   {
    "duration": 202,
    "start_time": "2022-09-13T14:19:15.535Z"
   },
   {
    "duration": 47,
    "start_time": "2022-09-13T14:19:41.860Z"
   },
   {
    "duration": 1063,
    "start_time": "2022-09-13T14:19:46.651Z"
   },
   {
    "duration": 48,
    "start_time": "2022-09-13T14:19:47.716Z"
   },
   {
    "duration": 31,
    "start_time": "2022-09-13T14:19:47.765Z"
   },
   {
    "duration": 13,
    "start_time": "2022-09-13T14:19:47.798Z"
   },
   {
    "duration": 3,
    "start_time": "2022-09-13T14:19:47.813Z"
   },
   {
    "duration": 16,
    "start_time": "2022-09-13T14:19:47.817Z"
   },
   {
    "duration": 15,
    "start_time": "2022-09-13T14:19:47.834Z"
   },
   {
    "duration": 5,
    "start_time": "2022-09-13T14:19:47.850Z"
   },
   {
    "duration": 10,
    "start_time": "2022-09-13T14:19:47.856Z"
   },
   {
    "duration": 15,
    "start_time": "2022-09-13T14:19:47.868Z"
   },
   {
    "duration": 8,
    "start_time": "2022-09-13T14:19:47.884Z"
   },
   {
    "duration": 31,
    "start_time": "2022-09-13T14:19:47.893Z"
   },
   {
    "duration": 7,
    "start_time": "2022-09-13T14:19:47.926Z"
   },
   {
    "duration": 23,
    "start_time": "2022-09-13T14:19:47.935Z"
   },
   {
    "duration": 6,
    "start_time": "2022-09-13T14:19:47.960Z"
   },
   {
    "duration": 237,
    "start_time": "2022-09-13T14:19:47.968Z"
   },
   {
    "duration": 21,
    "start_time": "2022-09-13T14:19:48.206Z"
   },
   {
    "duration": 63,
    "start_time": "2022-09-13T14:19:48.228Z"
   },
   {
    "duration": 0,
    "start_time": "2022-09-13T14:19:48.292Z"
   },
   {
    "duration": 0,
    "start_time": "2022-09-13T14:19:48.294Z"
   },
   {
    "duration": 0,
    "start_time": "2022-09-13T14:19:48.294Z"
   },
   {
    "duration": 0,
    "start_time": "2022-09-13T14:19:48.296Z"
   },
   {
    "duration": 0,
    "start_time": "2022-09-13T14:19:48.297Z"
   },
   {
    "duration": 10,
    "start_time": "2022-09-13T14:19:57.483Z"
   },
   {
    "duration": 1059,
    "start_time": "2022-09-13T14:19:59.633Z"
   },
   {
    "duration": 14,
    "start_time": "2022-09-13T14:20:36.864Z"
   },
   {
    "duration": 9,
    "start_time": "2022-09-13T14:20:37.577Z"
   },
   {
    "duration": 10,
    "start_time": "2022-09-13T14:21:11.403Z"
   },
   {
    "duration": 362,
    "start_time": "2022-09-13T14:21:12.805Z"
   },
   {
    "duration": 155,
    "start_time": "2022-09-13T14:21:20.545Z"
   },
   {
    "duration": 1056,
    "start_time": "2022-09-13T14:22:10.537Z"
   },
   {
    "duration": 5,
    "start_time": "2022-09-13T14:22:58.262Z"
   },
   {
    "duration": 246,
    "start_time": "2022-09-13T14:23:01.332Z"
   },
   {
    "duration": 215,
    "start_time": "2022-09-13T14:23:24.741Z"
   },
   {
    "duration": 13,
    "start_time": "2022-09-13T14:27:16.512Z"
   },
   {
    "duration": 9,
    "start_time": "2022-09-13T14:27:40.458Z"
   },
   {
    "duration": 1077,
    "start_time": "2022-09-13T14:28:06.794Z"
   },
   {
    "duration": 14,
    "start_time": "2022-09-13T14:29:08.234Z"
   },
   {
    "duration": 4,
    "start_time": "2022-09-13T14:29:58.950Z"
   },
   {
    "duration": 2120,
    "start_time": "2022-09-13T14:30:11.287Z"
   },
   {
    "duration": 13,
    "start_time": "2022-09-13T14:32:27.590Z"
   },
   {
    "duration": 9,
    "start_time": "2022-09-13T14:33:14.004Z"
   },
   {
    "duration": 4,
    "start_time": "2022-09-13T14:33:27.898Z"
   },
   {
    "duration": 159,
    "start_time": "2022-09-13T14:33:29.022Z"
   },
   {
    "duration": 11,
    "start_time": "2022-09-13T14:33:48.132Z"
   },
   {
    "duration": 11,
    "start_time": "2022-09-13T14:33:57.717Z"
   },
   {
    "duration": 9,
    "start_time": "2022-09-13T14:34:09.965Z"
   },
   {
    "duration": 152,
    "start_time": "2022-09-13T14:34:24.265Z"
   },
   {
    "duration": 122,
    "start_time": "2022-09-13T14:34:50.960Z"
   },
   {
    "duration": 5,
    "start_time": "2022-09-13T14:41:31.133Z"
   },
   {
    "duration": 151,
    "start_time": "2022-09-13T14:41:31.713Z"
   },
   {
    "duration": 1208,
    "start_time": "2022-09-13T14:41:32.400Z"
   },
   {
    "duration": 10,
    "start_time": "2022-09-13T14:42:45.098Z"
   },
   {
    "duration": 10,
    "start_time": "2022-09-13T14:43:30.494Z"
   },
   {
    "duration": 14,
    "start_time": "2022-09-13T14:43:50.994Z"
   },
   {
    "duration": 1208,
    "start_time": "2022-09-13T14:44:04.769Z"
   },
   {
    "duration": 5,
    "start_time": "2022-09-13T14:44:37.357Z"
   },
   {
    "duration": 1049,
    "start_time": "2022-09-13T14:44:38.388Z"
   },
   {
    "duration": 11,
    "start_time": "2022-09-13T14:45:33.206Z"
   },
   {
    "duration": 1159,
    "start_time": "2022-09-13T14:46:11.150Z"
   },
   {
    "duration": 52,
    "start_time": "2022-09-13T14:46:12.311Z"
   },
   {
    "duration": 35,
    "start_time": "2022-09-13T14:46:12.364Z"
   },
   {
    "duration": 14,
    "start_time": "2022-09-13T14:46:12.400Z"
   },
   {
    "duration": 32,
    "start_time": "2022-09-13T14:46:12.415Z"
   },
   {
    "duration": 36,
    "start_time": "2022-09-13T14:46:12.449Z"
   },
   {
    "duration": 26,
    "start_time": "2022-09-13T14:46:12.487Z"
   },
   {
    "duration": 26,
    "start_time": "2022-09-13T14:46:12.514Z"
   },
   {
    "duration": 37,
    "start_time": "2022-09-13T14:46:12.541Z"
   },
   {
    "duration": 14,
    "start_time": "2022-09-13T14:46:12.581Z"
   },
   {
    "duration": 31,
    "start_time": "2022-09-13T14:46:12.596Z"
   },
   {
    "duration": 24,
    "start_time": "2022-09-13T14:46:12.628Z"
   },
   {
    "duration": 33,
    "start_time": "2022-09-13T14:46:12.653Z"
   },
   {
    "duration": 35,
    "start_time": "2022-09-13T14:46:12.688Z"
   },
   {
    "duration": 11,
    "start_time": "2022-09-13T14:46:12.724Z"
   },
   {
    "duration": 246,
    "start_time": "2022-09-13T14:46:12.736Z"
   },
   {
    "duration": 5,
    "start_time": "2022-09-13T14:46:12.984Z"
   },
   {
    "duration": 112,
    "start_time": "2022-09-13T14:46:12.991Z"
   },
   {
    "duration": 0,
    "start_time": "2022-09-13T14:46:13.105Z"
   },
   {
    "duration": 0,
    "start_time": "2022-09-13T14:46:13.107Z"
   },
   {
    "duration": 0,
    "start_time": "2022-09-13T14:46:13.107Z"
   },
   {
    "duration": 0,
    "start_time": "2022-09-13T14:46:13.109Z"
   },
   {
    "duration": 0,
    "start_time": "2022-09-13T14:46:13.110Z"
   },
   {
    "duration": 12,
    "start_time": "2022-09-13T14:56:36.345Z"
   },
   {
    "duration": 12,
    "start_time": "2022-09-13T14:56:56.172Z"
   },
   {
    "duration": 6,
    "start_time": "2022-09-13T14:57:07.474Z"
   },
   {
    "duration": 11,
    "start_time": "2022-09-13T14:57:10.282Z"
   },
   {
    "duration": 152,
    "start_time": "2022-09-13T14:57:22.495Z"
   },
   {
    "duration": 5,
    "start_time": "2022-09-13T14:57:54.412Z"
   },
   {
    "duration": 8,
    "start_time": "2022-09-13T14:58:08.370Z"
   },
   {
    "duration": 22,
    "start_time": "2022-09-13T14:59:45.090Z"
   },
   {
    "duration": 18,
    "start_time": "2022-09-13T15:01:23.441Z"
   },
   {
    "duration": 307,
    "start_time": "2022-09-13T15:01:48.061Z"
   },
   {
    "duration": 15,
    "start_time": "2022-09-13T15:02:29.584Z"
   },
   {
    "duration": 13,
    "start_time": "2022-09-13T15:02:40.171Z"
   },
   {
    "duration": 238,
    "start_time": "2022-09-13T15:02:43.682Z"
   },
   {
    "duration": 14,
    "start_time": "2022-09-13T15:02:56.793Z"
   },
   {
    "duration": 246,
    "start_time": "2022-09-13T15:03:00.949Z"
   },
   {
    "duration": 14,
    "start_time": "2022-09-13T15:03:37.153Z"
   },
   {
    "duration": 251,
    "start_time": "2022-09-13T15:03:40.964Z"
   },
   {
    "duration": 4,
    "start_time": "2022-09-13T15:04:09.081Z"
   },
   {
    "duration": 114,
    "start_time": "2022-09-13T15:04:09.087Z"
   },
   {
    "duration": 34,
    "start_time": "2022-09-13T15:04:09.202Z"
   },
   {
    "duration": 31,
    "start_time": "2022-09-13T15:04:09.237Z"
   },
   {
    "duration": 17,
    "start_time": "2022-09-13T15:04:09.270Z"
   },
   {
    "duration": 48,
    "start_time": "2022-09-13T15:04:09.288Z"
   },
   {
    "duration": 28,
    "start_time": "2022-09-13T15:04:09.337Z"
   },
   {
    "duration": 11,
    "start_time": "2022-09-13T15:04:09.367Z"
   },
   {
    "duration": 30,
    "start_time": "2022-09-13T15:04:09.381Z"
   },
   {
    "duration": 20,
    "start_time": "2022-09-13T15:04:09.412Z"
   },
   {
    "duration": 27,
    "start_time": "2022-09-13T15:04:09.433Z"
   },
   {
    "duration": 34,
    "start_time": "2022-09-13T15:04:09.462Z"
   },
   {
    "duration": 14,
    "start_time": "2022-09-13T15:04:09.498Z"
   },
   {
    "duration": 16,
    "start_time": "2022-09-13T15:04:09.514Z"
   },
   {
    "duration": 6,
    "start_time": "2022-09-13T15:04:09.532Z"
   },
   {
    "duration": 201,
    "start_time": "2022-09-13T15:04:09.539Z"
   },
   {
    "duration": 8,
    "start_time": "2022-09-13T15:04:09.741Z"
   },
   {
    "duration": 159,
    "start_time": "2022-09-13T15:04:09.751Z"
   },
   {
    "duration": 1121,
    "start_time": "2022-09-13T15:04:09.921Z"
   },
   {
    "duration": 17,
    "start_time": "2022-09-13T15:04:11.044Z"
   },
   {
    "duration": 311,
    "start_time": "2022-09-13T15:04:11.063Z"
   },
   {
    "duration": 2030,
    "start_time": "2022-09-13T15:04:11.376Z"
   },
   {
    "duration": 15,
    "start_time": "2022-09-13T15:05:16.936Z"
   },
   {
    "duration": 23,
    "start_time": "2022-09-13T15:05:40.530Z"
   },
   {
    "duration": 307,
    "start_time": "2022-09-13T15:06:37.455Z"
   },
   {
    "duration": 19,
    "start_time": "2022-09-13T15:13:26.953Z"
   },
   {
    "duration": 15,
    "start_time": "2022-09-13T15:13:31.159Z"
   },
   {
    "duration": 313,
    "start_time": "2022-09-13T15:13:36.484Z"
   },
   {
    "duration": 13,
    "start_time": "2022-09-13T15:16:49.392Z"
   },
   {
    "duration": 181,
    "start_time": "2022-09-13T15:26:31.394Z"
   },
   {
    "duration": 177,
    "start_time": "2022-09-13T15:28:06.753Z"
   },
   {
    "duration": 192,
    "start_time": "2022-09-13T15:28:22.207Z"
   },
   {
    "duration": 264,
    "start_time": "2022-09-13T15:28:39.693Z"
   },
   {
    "duration": 221,
    "start_time": "2022-09-13T15:29:36.467Z"
   },
   {
    "duration": 14,
    "start_time": "2022-09-13T15:33:54.281Z"
   },
   {
    "duration": 230,
    "start_time": "2022-09-13T17:38:50.089Z"
   },
   {
    "duration": 236,
    "start_time": "2022-09-13T19:04:51.049Z"
   },
   {
    "duration": 239,
    "start_time": "2022-09-13T19:05:04.554Z"
   },
   {
    "duration": 394,
    "start_time": "2022-09-13T19:07:23.691Z"
   },
   {
    "duration": 261,
    "start_time": "2022-09-13T19:07:33.640Z"
   },
   {
    "duration": 15,
    "start_time": "2022-09-13T19:28:31.085Z"
   },
   {
    "duration": 13,
    "start_time": "2022-09-13T19:29:55.841Z"
   },
   {
    "duration": 14,
    "start_time": "2022-09-13T19:30:10.307Z"
   },
   {
    "duration": 38,
    "start_time": "2022-09-13T19:31:15.008Z"
   },
   {
    "duration": 17,
    "start_time": "2022-09-13T19:31:46.764Z"
   },
   {
    "duration": 18,
    "start_time": "2022-09-13T19:32:06.057Z"
   },
   {
    "duration": 2,
    "start_time": "2022-09-13T19:32:38.477Z"
   },
   {
    "duration": 64,
    "start_time": "2022-09-13T19:32:38.481Z"
   },
   {
    "duration": 33,
    "start_time": "2022-09-13T19:32:38.548Z"
   },
   {
    "duration": 14,
    "start_time": "2022-09-13T19:32:38.582Z"
   },
   {
    "duration": 26,
    "start_time": "2022-09-13T19:32:38.598Z"
   },
   {
    "duration": 19,
    "start_time": "2022-09-13T19:32:38.627Z"
   },
   {
    "duration": 13,
    "start_time": "2022-09-13T19:32:38.648Z"
   },
   {
    "duration": 4,
    "start_time": "2022-09-13T19:32:38.663Z"
   },
   {
    "duration": 8,
    "start_time": "2022-09-13T19:32:38.669Z"
   },
   {
    "duration": 13,
    "start_time": "2022-09-13T19:32:38.678Z"
   },
   {
    "duration": 30,
    "start_time": "2022-09-13T19:32:38.693Z"
   },
   {
    "duration": 15,
    "start_time": "2022-09-13T19:32:38.726Z"
   },
   {
    "duration": 13,
    "start_time": "2022-09-13T19:32:38.743Z"
   },
   {
    "duration": 18,
    "start_time": "2022-09-13T19:32:38.757Z"
   },
   {
    "duration": 6,
    "start_time": "2022-09-13T19:32:38.776Z"
   },
   {
    "duration": 315,
    "start_time": "2022-09-13T19:32:38.783Z"
   },
   {
    "duration": 11,
    "start_time": "2022-09-13T19:32:39.100Z"
   },
   {
    "duration": 170,
    "start_time": "2022-09-13T19:32:39.122Z"
   },
   {
    "duration": 1138,
    "start_time": "2022-09-13T19:32:39.294Z"
   },
   {
    "duration": 22,
    "start_time": "2022-09-13T19:32:40.435Z"
   },
   {
    "duration": 11,
    "start_time": "2022-09-13T19:32:40.459Z"
   },
   {
    "duration": 382,
    "start_time": "2022-09-13T19:32:40.471Z"
   },
   {
    "duration": 268,
    "start_time": "2022-09-13T19:32:40.854Z"
   },
   {
    "duration": 24,
    "start_time": "2022-09-13T19:32:41.124Z"
   },
   {
    "duration": 0,
    "start_time": "2022-09-13T19:32:41.149Z"
   },
   {
    "duration": 12,
    "start_time": "2022-09-13T19:33:26.146Z"
   },
   {
    "duration": 12,
    "start_time": "2022-09-13T19:34:37.707Z"
   },
   {
    "duration": 12,
    "start_time": "2022-09-13T19:34:50.913Z"
   },
   {
    "duration": 140,
    "start_time": "2022-09-13T19:36:42.189Z"
   },
   {
    "duration": 141,
    "start_time": "2022-09-13T19:39:09.250Z"
   },
   {
    "duration": 151,
    "start_time": "2022-09-13T19:45:38.267Z"
   },
   {
    "duration": 9,
    "start_time": "2022-09-13T19:47:21.248Z"
   },
   {
    "duration": 149,
    "start_time": "2022-09-13T19:48:06.360Z"
   },
   {
    "duration": 159,
    "start_time": "2022-09-13T19:48:17.018Z"
   },
   {
    "duration": 17,
    "start_time": "2022-09-13T19:52:01.481Z"
   },
   {
    "duration": 395,
    "start_time": "2022-09-13T19:52:19.595Z"
   },
   {
    "duration": 15,
    "start_time": "2022-09-13T19:56:25.552Z"
   },
   {
    "duration": 155,
    "start_time": "2022-09-13T19:56:59.001Z"
   },
   {
    "duration": 27,
    "start_time": "2022-09-13T19:57:52.376Z"
   },
   {
    "duration": 12,
    "start_time": "2022-09-13T19:57:58.782Z"
   },
   {
    "duration": 307,
    "start_time": "2022-09-13T19:58:00.086Z"
   },
   {
    "duration": 146,
    "start_time": "2022-09-13T19:58:10.693Z"
   },
   {
    "duration": 139,
    "start_time": "2022-09-13T19:59:20.993Z"
   },
   {
    "duration": 165,
    "start_time": "2022-09-13T19:59:33.761Z"
   },
   {
    "duration": 233,
    "start_time": "2022-09-13T19:59:42.596Z"
   },
   {
    "duration": 270,
    "start_time": "2022-09-13T20:00:10.497Z"
   },
   {
    "duration": 217,
    "start_time": "2022-09-13T20:00:21.961Z"
   },
   {
    "duration": 171,
    "start_time": "2022-09-13T20:00:32.359Z"
   },
   {
    "duration": 190,
    "start_time": "2022-09-13T20:00:48.361Z"
   },
   {
    "duration": 213,
    "start_time": "2022-09-13T20:00:57.048Z"
   },
   {
    "duration": 10,
    "start_time": "2022-09-13T20:03:11.096Z"
   },
   {
    "duration": 192,
    "start_time": "2022-09-13T20:03:16.764Z"
   },
   {
    "duration": 4029,
    "start_time": "2022-09-13T20:04:43.093Z"
   },
   {
    "duration": 355,
    "start_time": "2022-09-13T20:05:11.341Z"
   },
   {
    "duration": 224,
    "start_time": "2022-09-13T20:06:05.588Z"
   },
   {
    "duration": 196,
    "start_time": "2022-09-13T20:07:08.226Z"
   },
   {
    "duration": 16,
    "start_time": "2022-09-13T20:07:45.522Z"
   },
   {
    "duration": 6,
    "start_time": "2022-09-13T20:08:10.449Z"
   },
   {
    "duration": 5,
    "start_time": "2022-09-13T20:12:19.193Z"
   },
   {
    "duration": 8,
    "start_time": "2022-09-13T20:13:16.643Z"
   },
   {
    "duration": 5,
    "start_time": "2022-09-13T20:13:34.651Z"
   },
   {
    "duration": 5,
    "start_time": "2022-09-13T20:14:37.816Z"
   },
   {
    "duration": 1468,
    "start_time": "2022-09-14T11:13:10.213Z"
   },
   {
    "duration": 101,
    "start_time": "2022-09-14T11:13:11.685Z"
   },
   {
    "duration": 45,
    "start_time": "2022-09-14T11:13:11.788Z"
   },
   {
    "duration": 18,
    "start_time": "2022-09-14T11:13:11.836Z"
   },
   {
    "duration": 28,
    "start_time": "2022-09-14T11:13:11.856Z"
   },
   {
    "duration": 18,
    "start_time": "2022-09-14T11:13:11.886Z"
   },
   {
    "duration": 21,
    "start_time": "2022-09-14T11:13:11.907Z"
   },
   {
    "duration": 7,
    "start_time": "2022-09-14T11:13:11.930Z"
   },
   {
    "duration": 23,
    "start_time": "2022-09-14T11:13:11.939Z"
   },
   {
    "duration": 17,
    "start_time": "2022-09-14T11:13:11.966Z"
   },
   {
    "duration": 13,
    "start_time": "2022-09-14T11:13:11.985Z"
   },
   {
    "duration": 14,
    "start_time": "2022-09-14T11:13:12.022Z"
   },
   {
    "duration": 11,
    "start_time": "2022-09-14T11:13:12.038Z"
   },
   {
    "duration": 27,
    "start_time": "2022-09-14T11:13:12.050Z"
   },
   {
    "duration": 9,
    "start_time": "2022-09-14T11:13:12.079Z"
   },
   {
    "duration": 304,
    "start_time": "2022-09-14T11:13:12.090Z"
   },
   {
    "duration": 9,
    "start_time": "2022-09-14T11:13:12.396Z"
   },
   {
    "duration": 194,
    "start_time": "2022-09-14T11:13:12.407Z"
   },
   {
    "duration": 1280,
    "start_time": "2022-09-14T11:13:12.603Z"
   },
   {
    "duration": 25,
    "start_time": "2022-09-14T11:13:13.885Z"
   },
   {
    "duration": 14,
    "start_time": "2022-09-14T11:13:13.913Z"
   },
   {
    "duration": 354,
    "start_time": "2022-09-14T11:13:13.929Z"
   },
   {
    "duration": 321,
    "start_time": "2022-09-14T11:13:14.285Z"
   },
   {
    "duration": 192,
    "start_time": "2022-09-14T11:13:14.608Z"
   },
   {
    "duration": 269,
    "start_time": "2022-09-14T11:13:14.802Z"
   },
   {
    "duration": 10,
    "start_time": "2022-09-14T11:13:15.073Z"
   },
   {
    "duration": 8,
    "start_time": "2022-09-14T11:13:15.084Z"
   },
   {
    "duration": 246,
    "start_time": "2022-09-14T11:13:15.096Z"
   },
   {
    "duration": 231,
    "start_time": "2022-09-14T11:13:15.344Z"
   },
   {
    "duration": 8,
    "start_time": "2022-09-14T11:14:13.871Z"
   },
   {
    "duration": 21,
    "start_time": "2022-09-14T11:20:43.123Z"
   },
   {
    "duration": 5,
    "start_time": "2022-09-14T11:23:02.012Z"
   },
   {
    "duration": 8,
    "start_time": "2022-09-14T11:23:08.673Z"
   },
   {
    "duration": 9,
    "start_time": "2022-09-14T11:23:26.985Z"
   },
   {
    "duration": 122,
    "start_time": "2022-09-14T11:23:59.961Z"
   },
   {
    "duration": 195,
    "start_time": "2022-09-14T11:24:46.642Z"
   },
   {
    "duration": 192,
    "start_time": "2022-09-14T11:24:59.790Z"
   },
   {
    "duration": 194,
    "start_time": "2022-09-14T11:25:13.029Z"
   },
   {
    "duration": 214,
    "start_time": "2022-09-14T11:25:36.180Z"
   },
   {
    "duration": 216,
    "start_time": "2022-09-14T11:25:42.719Z"
   },
   {
    "duration": 210,
    "start_time": "2022-09-14T11:25:52.134Z"
   },
   {
    "duration": 238,
    "start_time": "2022-09-14T11:26:00.355Z"
   },
   {
    "duration": 289,
    "start_time": "2022-09-14T11:26:06.246Z"
   },
   {
    "duration": 193,
    "start_time": "2022-09-14T11:26:18.352Z"
   },
   {
    "duration": 197,
    "start_time": "2022-09-14T11:26:40.830Z"
   },
   {
    "duration": 164,
    "start_time": "2022-09-14T11:26:59.760Z"
   },
   {
    "duration": 160,
    "start_time": "2022-09-14T11:27:09.281Z"
   },
   {
    "duration": 160,
    "start_time": "2022-09-14T11:27:17.238Z"
   },
   {
    "duration": 166,
    "start_time": "2022-09-14T11:27:38.250Z"
   },
   {
    "duration": 169,
    "start_time": "2022-09-14T11:28:10.933Z"
   },
   {
    "duration": 168,
    "start_time": "2022-09-14T11:29:20.355Z"
   },
   {
    "duration": 184,
    "start_time": "2022-09-14T11:29:29.057Z"
   },
   {
    "duration": 234,
    "start_time": "2022-09-14T11:30:18.216Z"
   },
   {
    "duration": 282,
    "start_time": "2022-09-14T11:30:48.862Z"
   },
   {
    "duration": 200,
    "start_time": "2022-09-14T11:31:14.508Z"
   },
   {
    "duration": 223,
    "start_time": "2022-09-14T11:31:24.076Z"
   },
   {
    "duration": 312,
    "start_time": "2022-09-14T11:31:32.661Z"
   },
   {
    "duration": 198,
    "start_time": "2022-09-14T11:31:41.886Z"
   },
   {
    "duration": 310,
    "start_time": "2022-09-14T11:31:59.114Z"
   },
   {
    "duration": 194,
    "start_time": "2022-09-14T11:32:36.094Z"
   },
   {
    "duration": 132,
    "start_time": "2022-09-14T11:34:12.502Z"
   },
   {
    "duration": 135,
    "start_time": "2022-09-14T11:34:25.613Z"
   },
   {
    "duration": 128,
    "start_time": "2022-09-14T11:34:45.294Z"
   },
   {
    "duration": 5,
    "start_time": "2022-09-14T11:39:16.204Z"
   },
   {
    "duration": 124,
    "start_time": "2022-09-14T11:40:47.637Z"
   },
   {
    "duration": 141,
    "start_time": "2022-09-14T11:41:25.579Z"
   },
   {
    "duration": 6,
    "start_time": "2022-09-14T15:56:28.487Z"
   },
   {
    "duration": 12,
    "start_time": "2022-09-14T15:56:35.925Z"
   },
   {
    "duration": 117,
    "start_time": "2022-09-14T15:57:44.575Z"
   },
   {
    "duration": 12,
    "start_time": "2022-09-14T15:58:13.316Z"
   },
   {
    "duration": 12,
    "start_time": "2022-09-14T15:58:38.711Z"
   },
   {
    "duration": 27,
    "start_time": "2022-09-14T15:59:55.372Z"
   },
   {
    "duration": 5,
    "start_time": "2022-09-14T16:00:23.435Z"
   },
   {
    "duration": 6,
    "start_time": "2022-09-14T16:00:29.878Z"
   },
   {
    "duration": 9,
    "start_time": "2022-09-14T16:00:41.595Z"
   },
   {
    "duration": 9,
    "start_time": "2022-09-14T16:00:55.408Z"
   },
   {
    "duration": 12,
    "start_time": "2022-09-14T16:02:23.274Z"
   },
   {
    "duration": 10,
    "start_time": "2022-09-14T16:02:31.651Z"
   },
   {
    "duration": 15,
    "start_time": "2022-09-14T16:05:21.316Z"
   },
   {
    "duration": 18,
    "start_time": "2022-09-14T16:06:14.036Z"
   },
   {
    "duration": 13,
    "start_time": "2022-09-14T16:06:26.022Z"
   },
   {
    "duration": 13,
    "start_time": "2022-09-14T16:06:51.809Z"
   },
   {
    "duration": 17,
    "start_time": "2022-09-14T16:07:01.069Z"
   },
   {
    "duration": 12,
    "start_time": "2022-09-14T16:07:29.973Z"
   },
   {
    "duration": 20,
    "start_time": "2022-09-14T16:11:41.243Z"
   },
   {
    "duration": 11,
    "start_time": "2022-09-14T16:12:07.698Z"
   },
   {
    "duration": 12,
    "start_time": "2022-09-14T16:12:35.085Z"
   },
   {
    "duration": 10,
    "start_time": "2022-09-14T16:12:55.576Z"
   },
   {
    "duration": 13,
    "start_time": "2022-09-14T16:14:48.285Z"
   },
   {
    "duration": 1338,
    "start_time": "2022-09-15T09:06:54.968Z"
   },
   {
    "duration": 196,
    "start_time": "2022-09-15T09:06:56.309Z"
   },
   {
    "duration": 21,
    "start_time": "2022-09-15T09:06:56.507Z"
   },
   {
    "duration": 15,
    "start_time": "2022-09-15T09:06:56.530Z"
   },
   {
    "duration": 3,
    "start_time": "2022-09-15T09:06:56.547Z"
   },
   {
    "duration": 16,
    "start_time": "2022-09-15T09:06:56.551Z"
   },
   {
    "duration": 25,
    "start_time": "2022-09-15T09:06:56.569Z"
   },
   {
    "duration": 6,
    "start_time": "2022-09-15T09:06:56.595Z"
   },
   {
    "duration": 10,
    "start_time": "2022-09-15T09:06:56.603Z"
   },
   {
    "duration": 16,
    "start_time": "2022-09-15T09:06:56.616Z"
   },
   {
    "duration": 9,
    "start_time": "2022-09-15T09:06:56.633Z"
   },
   {
    "duration": 10,
    "start_time": "2022-09-15T09:06:56.643Z"
   },
   {
    "duration": 39,
    "start_time": "2022-09-15T09:06:56.654Z"
   },
   {
    "duration": 21,
    "start_time": "2022-09-15T09:06:56.694Z"
   },
   {
    "duration": 7,
    "start_time": "2022-09-15T09:06:56.716Z"
   },
   {
    "duration": 244,
    "start_time": "2022-09-15T09:06:56.725Z"
   },
   {
    "duration": 8,
    "start_time": "2022-09-15T09:06:56.971Z"
   },
   {
    "duration": 175,
    "start_time": "2022-09-15T09:06:56.989Z"
   },
   {
    "duration": 1255,
    "start_time": "2022-09-15T09:06:57.166Z"
   },
   {
    "duration": 19,
    "start_time": "2022-09-15T09:06:58.423Z"
   },
   {
    "duration": 13,
    "start_time": "2022-09-15T09:06:58.444Z"
   },
   {
    "duration": 343,
    "start_time": "2022-09-15T09:06:58.459Z"
   },
   {
    "duration": 333,
    "start_time": "2022-09-15T09:06:58.804Z"
   },
   {
    "duration": 191,
    "start_time": "2022-09-15T09:06:59.139Z"
   },
   {
    "duration": 276,
    "start_time": "2022-09-15T09:06:59.332Z"
   },
   {
    "duration": 7,
    "start_time": "2022-09-15T09:06:59.610Z"
   },
   {
    "duration": 17,
    "start_time": "2022-09-15T09:06:59.619Z"
   },
   {
    "duration": 200,
    "start_time": "2022-09-15T09:06:59.639Z"
   },
   {
    "duration": 8,
    "start_time": "2022-09-15T09:06:59.841Z"
   },
   {
    "duration": 197,
    "start_time": "2022-09-15T09:06:59.850Z"
   },
   {
    "duration": 173,
    "start_time": "2022-09-15T09:07:00.049Z"
   },
   {
    "duration": 187,
    "start_time": "2022-09-15T09:07:00.224Z"
   },
   {
    "duration": 178,
    "start_time": "2022-09-15T09:07:00.413Z"
   },
   {
    "duration": 223,
    "start_time": "2022-09-15T09:07:00.593Z"
   },
   {
    "duration": 199,
    "start_time": "2022-09-15T09:07:00.818Z"
   },
   {
    "duration": 203,
    "start_time": "2022-09-15T09:07:01.019Z"
   },
   {
    "duration": 141,
    "start_time": "2022-09-15T09:07:01.224Z"
   },
   {
    "duration": 146,
    "start_time": "2022-09-15T09:07:01.367Z"
   },
   {
    "duration": 247,
    "start_time": "2022-09-15T09:07:01.515Z"
   },
   {
    "duration": 25,
    "start_time": "2022-09-15T09:07:01.764Z"
   },
   {
    "duration": 35,
    "start_time": "2022-09-15T09:07:01.792Z"
   },
   {
    "duration": 10,
    "start_time": "2022-09-15T09:07:18.357Z"
   },
   {
    "duration": 4,
    "start_time": "2022-09-15T09:08:26.560Z"
   },
   {
    "duration": 10,
    "start_time": "2022-09-15T09:08:35.725Z"
   },
   {
    "duration": 25,
    "start_time": "2022-09-15T09:08:56.564Z"
   },
   {
    "duration": 112,
    "start_time": "2022-09-15T09:15:06.783Z"
   },
   {
    "duration": 16,
    "start_time": "2022-09-15T09:16:52.647Z"
   },
   {
    "duration": 17,
    "start_time": "2022-09-15T09:17:12.733Z"
   },
   {
    "duration": 5,
    "start_time": "2022-09-15T09:18:08.697Z"
   },
   {
    "duration": 17,
    "start_time": "2022-09-15T09:18:16.582Z"
   },
   {
    "duration": 10,
    "start_time": "2022-09-15T09:18:26.634Z"
   },
   {
    "duration": 14,
    "start_time": "2022-09-15T09:19:51.192Z"
   },
   {
    "duration": 15,
    "start_time": "2022-09-15T09:20:00.503Z"
   },
   {
    "duration": 11,
    "start_time": "2022-09-15T09:21:17.863Z"
   },
   {
    "duration": 17,
    "start_time": "2022-09-15T09:23:06.546Z"
   },
   {
    "duration": 10,
    "start_time": "2022-09-15T09:23:25.661Z"
   },
   {
    "duration": 9,
    "start_time": "2022-09-15T09:24:07.776Z"
   },
   {
    "duration": 10,
    "start_time": "2022-09-15T09:24:18.625Z"
   },
   {
    "duration": 72,
    "start_time": "2022-09-15T09:28:07.607Z"
   },
   {
    "duration": 391,
    "start_time": "2022-09-15T09:28:29.063Z"
   },
   {
    "duration": 590,
    "start_time": "2022-09-15T09:29:14.772Z"
   },
   {
    "duration": 483,
    "start_time": "2022-09-15T09:30:31.024Z"
   },
   {
    "duration": 36,
    "start_time": "2022-09-15T09:31:21.484Z"
   },
   {
    "duration": 25,
    "start_time": "2022-09-15T09:32:18.355Z"
   },
   {
    "duration": 12,
    "start_time": "2022-09-15T09:33:09.663Z"
   },
   {
    "duration": 34,
    "start_time": "2022-09-15T09:33:20.181Z"
   },
   {
    "duration": 1396,
    "start_time": "2022-09-15T09:35:33.708Z"
   },
   {
    "duration": 54,
    "start_time": "2022-09-15T09:35:35.106Z"
   },
   {
    "duration": 21,
    "start_time": "2022-09-15T09:35:35.162Z"
   },
   {
    "duration": 15,
    "start_time": "2022-09-15T09:35:35.185Z"
   },
   {
    "duration": 5,
    "start_time": "2022-09-15T09:35:35.202Z"
   },
   {
    "duration": 30,
    "start_time": "2022-09-15T09:35:35.209Z"
   },
   {
    "duration": 17,
    "start_time": "2022-09-15T09:35:35.241Z"
   },
   {
    "duration": 6,
    "start_time": "2022-09-15T09:35:35.260Z"
   },
   {
    "duration": 25,
    "start_time": "2022-09-15T09:35:35.267Z"
   },
   {
    "duration": 16,
    "start_time": "2022-09-15T09:35:35.295Z"
   },
   {
    "duration": 9,
    "start_time": "2022-09-15T09:35:35.312Z"
   },
   {
    "duration": 11,
    "start_time": "2022-09-15T09:35:35.323Z"
   },
   {
    "duration": 9,
    "start_time": "2022-09-15T09:35:35.336Z"
   },
   {
    "duration": 60,
    "start_time": "2022-09-15T09:35:35.347Z"
   },
   {
    "duration": 9,
    "start_time": "2022-09-15T09:35:35.409Z"
   },
   {
    "duration": 241,
    "start_time": "2022-09-15T09:35:35.420Z"
   },
   {
    "duration": 8,
    "start_time": "2022-09-15T09:35:35.663Z"
   },
   {
    "duration": 170,
    "start_time": "2022-09-15T09:35:35.673Z"
   },
   {
    "duration": 1188,
    "start_time": "2022-09-15T09:35:35.845Z"
   },
   {
    "duration": 19,
    "start_time": "2022-09-15T09:35:37.035Z"
   },
   {
    "duration": 13,
    "start_time": "2022-09-15T09:35:37.056Z"
   },
   {
    "duration": 346,
    "start_time": "2022-09-15T09:35:37.071Z"
   },
   {
    "duration": 295,
    "start_time": "2022-09-15T09:35:37.419Z"
   },
   {
    "duration": 173,
    "start_time": "2022-09-15T09:35:37.717Z"
   },
   {
    "duration": 248,
    "start_time": "2022-09-15T09:35:37.892Z"
   },
   {
    "duration": 8,
    "start_time": "2022-09-15T09:35:38.142Z"
   },
   {
    "duration": 21,
    "start_time": "2022-09-15T09:35:38.152Z"
   },
   {
    "duration": 222,
    "start_time": "2022-09-15T09:35:38.176Z"
   },
   {
    "duration": 8,
    "start_time": "2022-09-15T09:35:38.399Z"
   },
   {
    "duration": 199,
    "start_time": "2022-09-15T09:35:38.408Z"
   },
   {
    "duration": 162,
    "start_time": "2022-09-15T09:35:38.609Z"
   },
   {
    "duration": 166,
    "start_time": "2022-09-15T09:35:38.772Z"
   },
   {
    "duration": 157,
    "start_time": "2022-09-15T09:35:38.940Z"
   },
   {
    "duration": 191,
    "start_time": "2022-09-15T09:35:39.098Z"
   },
   {
    "duration": 185,
    "start_time": "2022-09-15T09:35:39.291Z"
   },
   {
    "duration": 173,
    "start_time": "2022-09-15T09:35:39.478Z"
   },
   {
    "duration": 129,
    "start_time": "2022-09-15T09:35:39.653Z"
   },
   {
    "duration": 125,
    "start_time": "2022-09-15T09:35:39.788Z"
   },
   {
    "duration": 225,
    "start_time": "2022-09-15T09:35:39.914Z"
   },
   {
    "duration": 32,
    "start_time": "2022-09-15T09:35:40.141Z"
   },
   {
    "duration": 138,
    "start_time": "2022-09-15T09:35:40.175Z"
   },
   {
    "duration": 0,
    "start_time": "2022-09-15T09:35:40.315Z"
   },
   {
    "duration": 28,
    "start_time": "2022-09-15T09:36:05.025Z"
   },
   {
    "duration": 13,
    "start_time": "2022-09-15T09:37:16.525Z"
   },
   {
    "duration": 13,
    "start_time": "2022-09-15T09:38:51.195Z"
   },
   {
    "duration": 13,
    "start_time": "2022-09-15T09:39:01.474Z"
   },
   {
    "duration": 15,
    "start_time": "2022-09-15T09:39:21.441Z"
   },
   {
    "duration": 14,
    "start_time": "2022-09-15T09:39:26.103Z"
   },
   {
    "duration": 32,
    "start_time": "2022-09-15T09:49:18.904Z"
   },
   {
    "duration": 12,
    "start_time": "2022-09-15T09:49:24.925Z"
   },
   {
    "duration": 13,
    "start_time": "2022-09-15T09:49:33.769Z"
   },
   {
    "duration": 13,
    "start_time": "2022-09-15T09:49:45.920Z"
   },
   {
    "duration": 190,
    "start_time": "2022-09-15T09:50:50.860Z"
   },
   {
    "duration": 280,
    "start_time": "2022-09-15T09:51:06.530Z"
   },
   {
    "duration": 282,
    "start_time": "2022-09-15T09:52:16.409Z"
   },
   {
    "duration": 286,
    "start_time": "2022-09-15T09:52:42.170Z"
   },
   {
    "duration": 283,
    "start_time": "2022-09-15T09:52:52.639Z"
   },
   {
    "duration": 286,
    "start_time": "2022-09-15T09:52:58.614Z"
   },
   {
    "duration": 382,
    "start_time": "2022-09-15T09:53:07.101Z"
   },
   {
    "duration": 4,
    "start_time": "2022-09-15T12:31:06.887Z"
   },
   {
    "duration": 5,
    "start_time": "2022-09-15T12:31:24.658Z"
   },
   {
    "duration": 4,
    "start_time": "2022-09-15T12:31:42.857Z"
   },
   {
    "duration": 13,
    "start_time": "2022-09-15T12:48:43.121Z"
   },
   {
    "duration": 15,
    "start_time": "2022-09-15T12:55:00.106Z"
   },
   {
    "duration": 13,
    "start_time": "2022-09-15T12:55:12.535Z"
   },
   {
    "duration": 3,
    "start_time": "2022-09-15T13:36:51.106Z"
   },
   {
    "duration": 58,
    "start_time": "2022-09-15T13:36:51.113Z"
   },
   {
    "duration": 18,
    "start_time": "2022-09-15T13:36:51.173Z"
   },
   {
    "duration": 29,
    "start_time": "2022-09-15T13:36:51.194Z"
   },
   {
    "duration": 4,
    "start_time": "2022-09-15T13:36:51.225Z"
   },
   {
    "duration": 19,
    "start_time": "2022-09-15T13:36:51.230Z"
   },
   {
    "duration": 14,
    "start_time": "2022-09-15T13:36:51.250Z"
   },
   {
    "duration": 27,
    "start_time": "2022-09-15T13:36:51.266Z"
   },
   {
    "duration": 13,
    "start_time": "2022-09-15T13:36:51.295Z"
   },
   {
    "duration": 14,
    "start_time": "2022-09-15T13:36:51.310Z"
   },
   {
    "duration": 12,
    "start_time": "2022-09-15T13:36:51.327Z"
   },
   {
    "duration": 13,
    "start_time": "2022-09-15T13:36:51.340Z"
   },
   {
    "duration": 41,
    "start_time": "2022-09-15T13:36:51.354Z"
   },
   {
    "duration": 23,
    "start_time": "2022-09-15T13:36:51.397Z"
   },
   {
    "duration": 7,
    "start_time": "2022-09-15T13:36:51.422Z"
   },
   {
    "duration": 242,
    "start_time": "2022-09-15T13:36:51.431Z"
   },
   {
    "duration": 15,
    "start_time": "2022-09-15T13:36:51.675Z"
   },
   {
    "duration": 203,
    "start_time": "2022-09-15T13:36:51.692Z"
   },
   {
    "duration": 1204,
    "start_time": "2022-09-15T13:36:51.898Z"
   },
   {
    "duration": 18,
    "start_time": "2022-09-15T13:36:53.105Z"
   },
   {
    "duration": 20,
    "start_time": "2022-09-15T13:36:53.125Z"
   },
   {
    "duration": 347,
    "start_time": "2022-09-15T13:36:53.147Z"
   },
   {
    "duration": 293,
    "start_time": "2022-09-15T13:36:53.496Z"
   },
   {
    "duration": 190,
    "start_time": "2022-09-15T13:36:53.791Z"
   },
   {
    "duration": 171,
    "start_time": "2022-09-15T13:36:53.983Z"
   },
   {
    "duration": 8,
    "start_time": "2022-09-15T13:36:54.156Z"
   },
   {
    "duration": 10,
    "start_time": "2022-09-15T13:36:54.166Z"
   },
   {
    "duration": 202,
    "start_time": "2022-09-15T13:36:54.190Z"
   },
   {
    "duration": 8,
    "start_time": "2022-09-15T13:36:54.395Z"
   },
   {
    "duration": 296,
    "start_time": "2022-09-15T13:36:54.404Z"
   },
   {
    "duration": 160,
    "start_time": "2022-09-15T13:36:54.702Z"
   },
   {
    "duration": 5,
    "start_time": "2022-09-15T13:36:54.864Z"
   },
   {
    "duration": 187,
    "start_time": "2022-09-15T13:36:54.870Z"
   },
   {
    "duration": 5,
    "start_time": "2022-09-15T13:36:55.059Z"
   },
   {
    "duration": 189,
    "start_time": "2022-09-15T13:36:55.065Z"
   },
   {
    "duration": 4,
    "start_time": "2022-09-15T13:36:55.256Z"
   },
   {
    "duration": 214,
    "start_time": "2022-09-15T13:36:55.262Z"
   },
   {
    "duration": 187,
    "start_time": "2022-09-15T13:36:55.477Z"
   },
   {
    "duration": 180,
    "start_time": "2022-09-15T13:36:55.666Z"
   },
   {
    "duration": 124,
    "start_time": "2022-09-15T13:36:55.848Z"
   },
   {
    "duration": 129,
    "start_time": "2022-09-15T13:36:55.974Z"
   },
   {
    "duration": 144,
    "start_time": "2022-09-15T13:36:56.105Z"
   },
   {
    "duration": 14,
    "start_time": "2022-09-15T13:36:56.251Z"
   },
   {
    "duration": 28,
    "start_time": "2022-09-15T13:36:56.267Z"
   },
   {
    "duration": 3,
    "start_time": "2022-09-15T13:37:20.164Z"
   },
   {
    "duration": 51,
    "start_time": "2022-09-15T13:37:20.848Z"
   },
   {
    "duration": 17,
    "start_time": "2022-09-15T13:37:21.039Z"
   },
   {
    "duration": 14,
    "start_time": "2022-09-15T13:37:21.534Z"
   },
   {
    "duration": 3,
    "start_time": "2022-09-15T13:37:23.004Z"
   },
   {
    "duration": 14,
    "start_time": "2022-09-15T13:37:23.489Z"
   },
   {
    "duration": 18,
    "start_time": "2022-09-15T13:37:24.217Z"
   },
   {
    "duration": 6,
    "start_time": "2022-09-15T13:37:26.146Z"
   },
   {
    "duration": 8,
    "start_time": "2022-09-15T13:37:26.756Z"
   },
   {
    "duration": 14,
    "start_time": "2022-09-15T13:37:26.977Z"
   },
   {
    "duration": 9,
    "start_time": "2022-09-15T13:37:27.829Z"
   },
   {
    "duration": 8,
    "start_time": "2022-09-15T13:37:28.416Z"
   },
   {
    "duration": 10,
    "start_time": "2022-09-15T13:37:28.621Z"
   },
   {
    "duration": 20,
    "start_time": "2022-09-15T13:37:29.302Z"
   },
   {
    "duration": 8,
    "start_time": "2022-09-15T13:37:29.925Z"
   },
   {
    "duration": 235,
    "start_time": "2022-09-15T13:37:30.098Z"
   },
   {
    "duration": 9,
    "start_time": "2022-09-15T13:37:30.550Z"
   },
   {
    "duration": 168,
    "start_time": "2022-09-15T13:37:30.746Z"
   },
   {
    "duration": 1214,
    "start_time": "2022-09-15T13:37:30.957Z"
   },
   {
    "duration": 20,
    "start_time": "2022-09-15T13:37:32.249Z"
   },
   {
    "duration": 12,
    "start_time": "2022-09-15T13:37:32.618Z"
   },
   {
    "duration": 299,
    "start_time": "2022-09-15T13:37:32.795Z"
   },
   {
    "duration": 416,
    "start_time": "2022-09-15T13:37:33.337Z"
   },
   {
    "duration": 164,
    "start_time": "2022-09-15T13:37:34.078Z"
   },
   {
    "duration": 159,
    "start_time": "2022-09-15T13:37:34.427Z"
   },
   {
    "duration": 9,
    "start_time": "2022-09-15T13:37:34.811Z"
   },
   {
    "duration": 5,
    "start_time": "2022-09-15T13:37:35.002Z"
   },
   {
    "duration": 187,
    "start_time": "2022-09-15T13:37:35.576Z"
   },
   {
    "duration": 7,
    "start_time": "2022-09-15T13:37:35.982Z"
   },
   {
    "duration": 186,
    "start_time": "2022-09-15T13:37:36.193Z"
   },
   {
    "duration": 145,
    "start_time": "2022-09-15T13:37:36.938Z"
   },
   {
    "duration": 5,
    "start_time": "2022-09-15T13:37:37.156Z"
   },
   {
    "duration": 164,
    "start_time": "2022-09-15T13:37:37.344Z"
   },
   {
    "duration": 5,
    "start_time": "2022-09-15T13:37:37.558Z"
   },
   {
    "duration": 139,
    "start_time": "2022-09-15T13:37:37.761Z"
   },
   {
    "duration": 5,
    "start_time": "2022-09-15T13:37:37.964Z"
   },
   {
    "duration": 190,
    "start_time": "2022-09-15T13:37:38.519Z"
   },
   {
    "duration": 174,
    "start_time": "2022-09-15T13:37:38.726Z"
   },
   {
    "duration": 172,
    "start_time": "2022-09-15T13:37:38.922Z"
   },
   {
    "duration": 121,
    "start_time": "2022-09-15T13:37:39.548Z"
   },
   {
    "duration": 113,
    "start_time": "2022-09-15T13:37:39.734Z"
   },
   {
    "duration": 128,
    "start_time": "2022-09-15T13:37:39.931Z"
   },
   {
    "duration": 14,
    "start_time": "2022-09-15T13:37:40.923Z"
   },
   {
    "duration": 14,
    "start_time": "2022-09-15T13:37:41.537Z"
   },
   {
    "duration": 1401,
    "start_time": "2022-09-16T05:44:59.436Z"
   },
   {
    "duration": 96,
    "start_time": "2022-09-16T05:45:00.840Z"
   },
   {
    "duration": 20,
    "start_time": "2022-09-16T05:45:00.937Z"
   },
   {
    "duration": 29,
    "start_time": "2022-09-16T05:45:00.959Z"
   },
   {
    "duration": 18,
    "start_time": "2022-09-16T05:45:00.990Z"
   },
   {
    "duration": 28,
    "start_time": "2022-09-16T05:45:01.010Z"
   },
   {
    "duration": 35,
    "start_time": "2022-09-16T05:45:01.041Z"
   },
   {
    "duration": 8,
    "start_time": "2022-09-16T05:45:01.078Z"
   },
   {
    "duration": 34,
    "start_time": "2022-09-16T05:45:01.087Z"
   },
   {
    "duration": 23,
    "start_time": "2022-09-16T05:45:01.123Z"
   },
   {
    "duration": 16,
    "start_time": "2022-09-16T05:45:01.148Z"
   },
   {
    "duration": 25,
    "start_time": "2022-09-16T05:45:01.166Z"
   },
   {
    "duration": 9,
    "start_time": "2022-09-16T05:45:01.193Z"
   },
   {
    "duration": 45,
    "start_time": "2022-09-16T05:45:01.206Z"
   },
   {
    "duration": 7,
    "start_time": "2022-09-16T05:45:01.252Z"
   },
   {
    "duration": 232,
    "start_time": "2022-09-16T05:45:01.260Z"
   },
   {
    "duration": 10,
    "start_time": "2022-09-16T05:45:01.493Z"
   },
   {
    "duration": 179,
    "start_time": "2022-09-16T05:45:01.505Z"
   },
   {
    "duration": 1215,
    "start_time": "2022-09-16T05:45:01.685Z"
   },
   {
    "duration": 22,
    "start_time": "2022-09-16T05:45:02.902Z"
   },
   {
    "duration": 12,
    "start_time": "2022-09-16T05:45:02.926Z"
   },
   {
    "duration": 330,
    "start_time": "2022-09-16T05:45:02.940Z"
   },
   {
    "duration": 298,
    "start_time": "2022-09-16T05:45:03.271Z"
   },
   {
    "duration": 181,
    "start_time": "2022-09-16T05:45:03.571Z"
   },
   {
    "duration": 243,
    "start_time": "2022-09-16T05:45:03.754Z"
   },
   {
    "duration": 8,
    "start_time": "2022-09-16T05:45:03.999Z"
   },
   {
    "duration": 6,
    "start_time": "2022-09-16T05:45:04.009Z"
   },
   {
    "duration": 226,
    "start_time": "2022-09-16T05:45:04.016Z"
   },
   {
    "duration": 9,
    "start_time": "2022-09-16T05:45:04.244Z"
   },
   {
    "duration": 192,
    "start_time": "2022-09-16T05:45:04.255Z"
   },
   {
    "duration": 173,
    "start_time": "2022-09-16T05:45:04.449Z"
   },
   {
    "duration": 5,
    "start_time": "2022-09-16T05:45:04.624Z"
   },
   {
    "duration": 174,
    "start_time": "2022-09-16T05:45:04.631Z"
   },
   {
    "duration": 4,
    "start_time": "2022-09-16T05:45:04.807Z"
   },
   {
    "duration": 163,
    "start_time": "2022-09-16T05:45:04.813Z"
   },
   {
    "duration": 5,
    "start_time": "2022-09-16T05:45:04.978Z"
   },
   {
    "duration": 202,
    "start_time": "2022-09-16T05:45:04.984Z"
   },
   {
    "duration": 229,
    "start_time": "2022-09-16T05:45:05.188Z"
   },
   {
    "duration": 227,
    "start_time": "2022-09-16T05:45:05.419Z"
   },
   {
    "duration": 131,
    "start_time": "2022-09-16T05:45:05.647Z"
   },
   {
    "duration": 131,
    "start_time": "2022-09-16T05:45:05.783Z"
   },
   {
    "duration": 236,
    "start_time": "2022-09-16T05:45:05.917Z"
   },
   {
    "duration": 14,
    "start_time": "2022-09-16T05:45:06.155Z"
   },
   {
    "duration": 14,
    "start_time": "2022-09-16T05:45:06.176Z"
   },
   {
    "duration": 13,
    "start_time": "2022-09-16T05:51:14.156Z"
   },
   {
    "duration": 50,
    "start_time": "2022-09-16T07:27:26.685Z"
   },
   {
    "duration": 1377,
    "start_time": "2022-09-16T07:27:31.848Z"
   },
   {
    "duration": 108,
    "start_time": "2022-09-16T07:27:33.227Z"
   },
   {
    "duration": 27,
    "start_time": "2022-09-16T07:27:33.337Z"
   },
   {
    "duration": 30,
    "start_time": "2022-09-16T07:27:33.366Z"
   },
   {
    "duration": 36,
    "start_time": "2022-09-16T07:27:33.399Z"
   },
   {
    "duration": 41,
    "start_time": "2022-09-16T07:27:33.437Z"
   },
   {
    "duration": 43,
    "start_time": "2022-09-16T07:27:33.480Z"
   },
   {
    "duration": 17,
    "start_time": "2022-09-16T07:27:33.525Z"
   },
   {
    "duration": 31,
    "start_time": "2022-09-16T07:27:33.544Z"
   },
   {
    "duration": 43,
    "start_time": "2022-09-16T07:27:33.578Z"
   },
   {
    "duration": 18,
    "start_time": "2022-09-16T07:27:33.623Z"
   },
   {
    "duration": 41,
    "start_time": "2022-09-16T07:27:33.643Z"
   },
   {
    "duration": 33,
    "start_time": "2022-09-16T07:27:33.686Z"
   },
   {
    "duration": 52,
    "start_time": "2022-09-16T07:27:33.723Z"
   },
   {
    "duration": 19,
    "start_time": "2022-09-16T07:27:33.777Z"
   },
   {
    "duration": 291,
    "start_time": "2022-09-16T07:27:33.798Z"
   },
   {
    "duration": 9,
    "start_time": "2022-09-16T07:27:34.091Z"
   },
   {
    "duration": 202,
    "start_time": "2022-09-16T07:27:34.102Z"
   },
   {
    "duration": 1287,
    "start_time": "2022-09-16T07:27:34.306Z"
   },
   {
    "duration": 21,
    "start_time": "2022-09-16T07:27:35.595Z"
   },
   {
    "duration": 18,
    "start_time": "2022-09-16T07:27:35.617Z"
   },
   {
    "duration": 327,
    "start_time": "2022-09-16T07:27:35.637Z"
   },
   {
    "duration": 324,
    "start_time": "2022-09-16T07:27:35.966Z"
   },
   {
    "duration": 185,
    "start_time": "2022-09-16T07:27:36.292Z"
   },
   {
    "duration": 253,
    "start_time": "2022-09-16T07:27:36.479Z"
   },
   {
    "duration": 8,
    "start_time": "2022-09-16T07:27:36.733Z"
   },
   {
    "duration": 10,
    "start_time": "2022-09-16T07:27:36.743Z"
   },
   {
    "duration": 217,
    "start_time": "2022-09-16T07:27:36.755Z"
   },
   {
    "duration": 7,
    "start_time": "2022-09-16T07:27:36.974Z"
   },
   {
    "duration": 210,
    "start_time": "2022-09-16T07:27:36.983Z"
   },
   {
    "duration": 181,
    "start_time": "2022-09-16T07:27:37.195Z"
   },
   {
    "duration": 5,
    "start_time": "2022-09-16T07:27:37.377Z"
   },
   {
    "duration": 197,
    "start_time": "2022-09-16T07:27:37.384Z"
   },
   {
    "duration": 5,
    "start_time": "2022-09-16T07:27:37.582Z"
   },
   {
    "duration": 172,
    "start_time": "2022-09-16T07:27:37.589Z"
   },
   {
    "duration": 4,
    "start_time": "2022-09-16T07:27:37.763Z"
   },
   {
    "duration": 208,
    "start_time": "2022-09-16T07:27:37.770Z"
   },
   {
    "duration": 191,
    "start_time": "2022-09-16T07:27:37.979Z"
   },
   {
    "duration": 197,
    "start_time": "2022-09-16T07:27:38.172Z"
   },
   {
    "duration": 134,
    "start_time": "2022-09-16T07:27:38.371Z"
   },
   {
    "duration": 135,
    "start_time": "2022-09-16T07:27:38.520Z"
   },
   {
    "duration": 251,
    "start_time": "2022-09-16T07:27:38.656Z"
   },
   {
    "duration": 28,
    "start_time": "2022-09-16T07:27:38.909Z"
   },
   {
    "duration": 28,
    "start_time": "2022-09-16T07:27:38.938Z"
   },
   {
    "duration": 14,
    "start_time": "2022-09-16T07:34:08.382Z"
   },
   {
    "duration": 13,
    "start_time": "2022-09-16T07:34:39.512Z"
   },
   {
    "duration": 448,
    "start_time": "2022-09-16T07:37:02.793Z"
   },
   {
    "duration": 71,
    "start_time": "2022-09-16T07:40:11.540Z"
   },
   {
    "duration": 17,
    "start_time": "2022-09-16T07:40:59.026Z"
   },
   {
    "duration": 10,
    "start_time": "2022-09-16T07:41:14.296Z"
   },
   {
    "duration": 121,
    "start_time": "2022-09-16T10:03:17.485Z"
   },
   {
    "duration": 70,
    "start_time": "2022-09-16T10:08:41.318Z"
   },
   {
    "duration": 11,
    "start_time": "2022-09-16T10:11:41.356Z"
   },
   {
    "duration": 156,
    "start_time": "2022-09-16T10:12:37.488Z"
   },
   {
    "duration": 3,
    "start_time": "2022-09-16T10:12:58.203Z"
   },
   {
    "duration": 177,
    "start_time": "2022-09-16T10:13:23.448Z"
   },
   {
    "duration": 168,
    "start_time": "2022-09-16T10:13:34.013Z"
   },
   {
    "duration": 12,
    "start_time": "2022-09-16T10:20:02.237Z"
   },
   {
    "duration": 181,
    "start_time": "2022-09-16T10:20:34.064Z"
   },
   {
    "duration": 2477,
    "start_time": "2022-09-16T10:20:39.312Z"
   },
   {
    "duration": 1934,
    "start_time": "2022-09-16T10:21:00.660Z"
   },
   {
    "duration": 12,
    "start_time": "2022-09-16T10:22:35.282Z"
   },
   {
    "duration": 10,
    "start_time": "2022-09-16T10:22:52.299Z"
   },
   {
    "duration": 14,
    "start_time": "2022-09-16T10:23:05.643Z"
   },
   {
    "duration": 9,
    "start_time": "2022-09-16T10:23:08.602Z"
   },
   {
    "duration": 52,
    "start_time": "2022-09-16T10:25:33.013Z"
   },
   {
    "duration": 58,
    "start_time": "2022-09-16T10:26:07.791Z"
   },
   {
    "duration": 312,
    "start_time": "2022-09-16T10:27:33.881Z"
   },
   {
    "duration": 326,
    "start_time": "2022-09-16T10:28:23.130Z"
   },
   {
    "duration": 331,
    "start_time": "2022-09-16T10:29:17.724Z"
   },
   {
    "duration": 304,
    "start_time": "2022-09-16T10:29:29.830Z"
   },
   {
    "duration": 303,
    "start_time": "2022-09-16T10:29:49.900Z"
   },
   {
    "duration": 281,
    "start_time": "2022-09-16T10:30:04.504Z"
   },
   {
    "duration": 306,
    "start_time": "2022-09-16T10:30:18.248Z"
   },
   {
    "duration": 307,
    "start_time": "2022-09-16T10:32:01.735Z"
   },
   {
    "duration": 288,
    "start_time": "2022-09-16T10:32:16.566Z"
   },
   {
    "duration": 14,
    "start_time": "2022-09-16T10:38:59.799Z"
   },
   {
    "duration": 12,
    "start_time": "2022-09-16T10:39:26.311Z"
   },
   {
    "duration": 20,
    "start_time": "2022-09-16T10:39:37.860Z"
   },
   {
    "duration": 21,
    "start_time": "2022-09-16T10:40:29.228Z"
   },
   {
    "duration": 14,
    "start_time": "2022-09-16T10:40:44.585Z"
   },
   {
    "duration": 544,
    "start_time": "2022-09-16T10:43:00.967Z"
   },
   {
    "duration": 357,
    "start_time": "2022-09-16T10:43:09.422Z"
   },
   {
    "duration": 314,
    "start_time": "2022-09-16T10:43:23.161Z"
   },
   {
    "duration": 363,
    "start_time": "2022-09-16T10:44:03.981Z"
   },
   {
    "duration": 339,
    "start_time": "2022-09-16T10:44:22.591Z"
   },
   {
    "duration": 374,
    "start_time": "2022-09-16T10:44:37.726Z"
   },
   {
    "duration": 432,
    "start_time": "2022-09-16T10:45:35.720Z"
   },
   {
    "duration": 284,
    "start_time": "2022-09-16T10:45:46.938Z"
   },
   {
    "duration": 285,
    "start_time": "2022-09-16T10:45:55.812Z"
   },
   {
    "duration": 280,
    "start_time": "2022-09-16T10:46:06.981Z"
   },
   {
    "duration": 235,
    "start_time": "2022-09-16T10:46:33.491Z"
   },
   {
    "duration": 281,
    "start_time": "2022-09-16T10:46:46.594Z"
   },
   {
    "duration": 271,
    "start_time": "2022-09-16T10:50:45.770Z"
   },
   {
    "duration": 294,
    "start_time": "2022-09-16T10:50:56.719Z"
   },
   {
    "duration": 427,
    "start_time": "2022-09-16T10:51:32.143Z"
   },
   {
    "duration": 244,
    "start_time": "2022-09-16T10:53:08.750Z"
   },
   {
    "duration": 223,
    "start_time": "2022-09-16T10:53:45.553Z"
   },
   {
    "duration": 202,
    "start_time": "2022-09-16T10:54:47.965Z"
   },
   {
    "duration": 208,
    "start_time": "2022-09-16T10:55:48.600Z"
   },
   {
    "duration": 230,
    "start_time": "2022-09-16T10:56:19.733Z"
   },
   {
    "duration": 219,
    "start_time": "2022-09-16T10:56:36.559Z"
   },
   {
    "duration": 177,
    "start_time": "2022-09-16T10:57:33.307Z"
   },
   {
    "duration": 173,
    "start_time": "2022-09-16T10:57:55.969Z"
   },
   {
    "duration": 168,
    "start_time": "2022-09-16T10:58:08.512Z"
   },
   {
    "duration": 218,
    "start_time": "2022-09-16T10:58:35.733Z"
   },
   {
    "duration": 201,
    "start_time": "2022-09-16T11:25:37.097Z"
   },
   {
    "duration": 322,
    "start_time": "2022-09-16T11:25:53.692Z"
   },
   {
    "duration": 134,
    "start_time": "2022-09-16T11:26:16.185Z"
   },
   {
    "duration": 130,
    "start_time": "2022-09-16T11:26:33.553Z"
   },
   {
    "duration": 143,
    "start_time": "2022-09-16T11:26:50.593Z"
   },
   {
    "duration": 76,
    "start_time": "2022-09-16T11:28:53.237Z"
   },
   {
    "duration": 64,
    "start_time": "2022-09-16T14:29:20.169Z"
   },
   {
    "duration": 8,
    "start_time": "2022-09-16T14:33:42.959Z"
   },
   {
    "duration": 143,
    "start_time": "2022-09-16T14:33:47.847Z"
   },
   {
    "duration": 4,
    "start_time": "2022-09-16T14:34:22.314Z"
   },
   {
    "duration": 137,
    "start_time": "2022-09-16T14:34:24.484Z"
   },
   {
    "duration": 139,
    "start_time": "2022-09-16T14:34:31.372Z"
   },
   {
    "duration": 152,
    "start_time": "2022-09-16T14:34:34.510Z"
   },
   {
    "duration": 1261,
    "start_time": "2022-09-16T14:40:01.770Z"
   },
   {
    "duration": 57,
    "start_time": "2022-09-16T14:40:03.032Z"
   },
   {
    "duration": 22,
    "start_time": "2022-09-16T14:40:03.091Z"
   },
   {
    "duration": 23,
    "start_time": "2022-09-16T14:40:03.116Z"
   },
   {
    "duration": 5,
    "start_time": "2022-09-16T14:40:03.141Z"
   },
   {
    "duration": 28,
    "start_time": "2022-09-16T14:40:03.148Z"
   },
   {
    "duration": 18,
    "start_time": "2022-09-16T14:40:03.178Z"
   },
   {
    "duration": 6,
    "start_time": "2022-09-16T14:40:03.198Z"
   },
   {
    "duration": 9,
    "start_time": "2022-09-16T14:40:03.221Z"
   },
   {
    "duration": 17,
    "start_time": "2022-09-16T14:40:03.234Z"
   },
   {
    "duration": 11,
    "start_time": "2022-09-16T14:40:03.255Z"
   },
   {
    "duration": 13,
    "start_time": "2022-09-16T14:40:03.268Z"
   },
   {
    "duration": 38,
    "start_time": "2022-09-16T14:40:03.284Z"
   },
   {
    "duration": 25,
    "start_time": "2022-09-16T14:40:03.324Z"
   },
   {
    "duration": 10,
    "start_time": "2022-09-16T14:40:03.350Z"
   },
   {
    "duration": 268,
    "start_time": "2022-09-16T14:40:03.362Z"
   },
   {
    "duration": 283,
    "start_time": "2022-09-16T14:40:03.632Z"
   },
   {
    "duration": 1256,
    "start_time": "2022-09-16T14:40:03.919Z"
   },
   {
    "duration": 26,
    "start_time": "2022-09-16T14:40:05.178Z"
   },
   {
    "duration": 20,
    "start_time": "2022-09-16T14:40:05.206Z"
   },
   {
    "duration": 436,
    "start_time": "2022-09-16T14:40:05.228Z"
   },
   {
    "duration": 381,
    "start_time": "2022-09-16T14:40:05.666Z"
   },
   {
    "duration": 186,
    "start_time": "2022-09-16T14:40:06.049Z"
   },
   {
    "duration": 197,
    "start_time": "2022-09-16T14:40:06.237Z"
   },
   {
    "duration": 11,
    "start_time": "2022-09-16T14:40:06.436Z"
   },
   {
    "duration": 9,
    "start_time": "2022-09-16T14:40:06.449Z"
   },
   {
    "duration": 275,
    "start_time": "2022-09-16T14:40:06.460Z"
   },
   {
    "duration": 8,
    "start_time": "2022-09-16T14:40:06.740Z"
   },
   {
    "duration": 213,
    "start_time": "2022-09-16T14:40:06.752Z"
   },
   {
    "duration": 183,
    "start_time": "2022-09-16T14:40:06.967Z"
   },
   {
    "duration": 5,
    "start_time": "2022-09-16T14:40:07.152Z"
   },
   {
    "duration": 196,
    "start_time": "2022-09-16T14:40:07.160Z"
   },
   {
    "duration": 4,
    "start_time": "2022-09-16T14:40:07.358Z"
   },
   {
    "duration": 185,
    "start_time": "2022-09-16T14:40:07.364Z"
   },
   {
    "duration": 5,
    "start_time": "2022-09-16T14:40:07.552Z"
   },
   {
    "duration": 232,
    "start_time": "2022-09-16T14:40:07.559Z"
   },
   {
    "duration": 221,
    "start_time": "2022-09-16T14:40:07.793Z"
   },
   {
    "duration": 223,
    "start_time": "2022-09-16T14:40:08.016Z"
   },
   {
    "duration": 4,
    "start_time": "2022-09-16T14:40:08.241Z"
   },
   {
    "duration": 162,
    "start_time": "2022-09-16T14:40:08.247Z"
   },
   {
    "duration": 228,
    "start_time": "2022-09-16T14:40:08.411Z"
   },
   {
    "duration": 156,
    "start_time": "2022-09-16T14:40:08.642Z"
   },
   {
    "duration": 22,
    "start_time": "2022-09-16T14:40:08.800Z"
   },
   {
    "duration": 49,
    "start_time": "2022-09-16T14:40:08.824Z"
   },
   {
    "duration": 13,
    "start_time": "2022-09-16T14:40:17.407Z"
   },
   {
    "duration": 106,
    "start_time": "2022-09-16T14:44:01.848Z"
   },
   {
    "duration": 10,
    "start_time": "2022-09-16T14:44:16.901Z"
   },
   {
    "duration": 303,
    "start_time": "2022-09-16T14:44:30.746Z"
   },
   {
    "duration": 291,
    "start_time": "2022-09-16T14:44:48.158Z"
   },
   {
    "duration": 295,
    "start_time": "2022-09-16T14:45:01.772Z"
   },
   {
    "duration": 15,
    "start_time": "2022-09-16T14:45:27.098Z"
   },
   {
    "duration": 24,
    "start_time": "2022-09-16T14:45:32.873Z"
   },
   {
    "duration": 314,
    "start_time": "2022-09-16T14:45:39.125Z"
   },
   {
    "duration": 18,
    "start_time": "2022-09-16T14:46:05.679Z"
   },
   {
    "duration": 379,
    "start_time": "2022-09-16T14:46:21.080Z"
   },
   {
    "duration": 1786,
    "start_time": "2022-09-30T13:53:58.333Z"
   },
   {
    "duration": 160,
    "start_time": "2022-09-30T13:54:00.259Z"
   },
   {
    "duration": 34,
    "start_time": "2022-09-30T13:54:01.920Z"
   },
   {
    "duration": 29,
    "start_time": "2022-09-30T13:54:05.713Z"
   },
   {
    "duration": 1217,
    "start_time": "2022-10-22T12:11:57.504Z"
   },
   {
    "duration": 214,
    "start_time": "2022-10-22T12:11:58.723Z"
   },
   {
    "duration": 22,
    "start_time": "2022-10-22T12:11:58.939Z"
   },
   {
    "duration": 14,
    "start_time": "2022-10-22T12:11:58.964Z"
   },
   {
    "duration": 3,
    "start_time": "2022-10-22T12:11:58.980Z"
   },
   {
    "duration": 18,
    "start_time": "2022-10-22T12:11:58.984Z"
   },
   {
    "duration": 15,
    "start_time": "2022-10-22T12:11:59.004Z"
   },
   {
    "duration": 5,
    "start_time": "2022-10-22T12:11:59.021Z"
   },
   {
    "duration": 12,
    "start_time": "2022-10-22T12:11:59.027Z"
   },
   {
    "duration": 18,
    "start_time": "2022-10-22T12:11:59.043Z"
   },
   {
    "duration": 36,
    "start_time": "2022-10-22T12:11:59.063Z"
   },
   {
    "duration": 9,
    "start_time": "2022-10-22T12:11:59.100Z"
   },
   {
    "duration": 8,
    "start_time": "2022-10-22T12:11:59.111Z"
   },
   {
    "duration": 22,
    "start_time": "2022-10-22T12:11:59.120Z"
   },
   {
    "duration": 8,
    "start_time": "2022-10-22T12:11:59.144Z"
   },
   {
    "duration": 299,
    "start_time": "2022-10-22T12:11:59.154Z"
   },
   {
    "duration": 301,
    "start_time": "2022-10-22T12:11:59.455Z"
   },
   {
    "duration": 1241,
    "start_time": "2022-10-22T12:11:59.758Z"
   },
   {
    "duration": 22,
    "start_time": "2022-10-22T12:12:01.000Z"
   },
   {
    "duration": 51,
    "start_time": "2022-10-22T12:12:01.024Z"
   },
   {
    "duration": 467,
    "start_time": "2022-10-22T12:12:01.077Z"
   },
   {
    "duration": 370,
    "start_time": "2022-10-22T12:12:01.546Z"
   },
   {
    "duration": 190,
    "start_time": "2022-10-22T12:12:01.919Z"
   },
   {
    "duration": 218,
    "start_time": "2022-10-22T12:12:02.111Z"
   },
   {
    "duration": 9,
    "start_time": "2022-10-22T12:12:02.330Z"
   },
   {
    "duration": 10,
    "start_time": "2022-10-22T12:12:02.341Z"
   },
   {
    "duration": 245,
    "start_time": "2022-10-22T12:12:02.353Z"
   },
   {
    "duration": 8,
    "start_time": "2022-10-22T12:12:02.601Z"
   },
   {
    "duration": 214,
    "start_time": "2022-10-22T12:12:02.611Z"
   },
   {
    "duration": 188,
    "start_time": "2022-10-22T12:12:02.827Z"
   },
   {
    "duration": 3,
    "start_time": "2022-10-22T12:12:03.017Z"
   },
   {
    "duration": 183,
    "start_time": "2022-10-22T12:12:03.022Z"
   },
   {
    "duration": 4,
    "start_time": "2022-10-22T12:12:03.207Z"
   },
   {
    "duration": 178,
    "start_time": "2022-10-22T12:12:03.212Z"
   },
   {
    "duration": 4,
    "start_time": "2022-10-22T12:12:03.394Z"
   },
   {
    "duration": 248,
    "start_time": "2022-10-22T12:12:03.399Z"
   },
   {
    "duration": 201,
    "start_time": "2022-10-22T12:12:03.650Z"
   },
   {
    "duration": 199,
    "start_time": "2022-10-22T12:12:03.853Z"
   },
   {
    "duration": 3,
    "start_time": "2022-10-22T12:12:04.055Z"
   },
   {
    "duration": 218,
    "start_time": "2022-10-22T12:12:04.060Z"
   },
   {
    "duration": 236,
    "start_time": "2022-10-22T12:12:04.280Z"
   },
   {
    "duration": 144,
    "start_time": "2022-10-22T12:12:04.519Z"
   },
   {
    "duration": 18,
    "start_time": "2022-10-22T12:12:04.665Z"
   },
   {
    "duration": 27,
    "start_time": "2022-10-22T12:12:04.684Z"
   }
  ],
  "kernelspec": {
   "display_name": "Python 3 (ipykernel)",
   "language": "python",
   "name": "python3"
  },
  "language_info": {
   "codemirror_mode": {
    "name": "ipython",
    "version": 3
   },
   "file_extension": ".py",
   "mimetype": "text/x-python",
   "name": "python",
   "nbconvert_exporter": "python",
   "pygments_lexer": "ipython3",
   "version": "3.9.12"
  },
  "toc": {
   "base_numbering": 1,
   "nav_menu": {
    "height": "277px",
    "width": "271px"
   },
   "number_sections": true,
   "sideBar": true,
   "skip_h1_title": true,
   "title_cell": "Table of Contents",
   "title_sidebar": "Contents",
   "toc_cell": false,
   "toc_position": {},
   "toc_section_display": true,
   "toc_window_display": false
  }
 },
 "nbformat": 4,
 "nbformat_minor": 2
}
